{
 "cells": [
  {
   "attachments": {},
   "cell_type": "markdown",
   "metadata": {},
   "source": [
    "# FINM 250 Homework 1\n",
    "## TA Solutions\n",
    "\n",
    "# Part 2\n",
    "\n",
    "### 1.a"
   ]
  },
  {
   "cell_type": "code",
   "execution_count": 16,
   "metadata": {
    "ExecuteTime": {
     "end_time": "2023-07-08T21:40:46.959253Z",
     "start_time": "2023-07-08T21:40:46.519221Z"
    }
   },
   "outputs": [
    {
     "data": {
      "text/plain": "                 BWX       DBC       EEM       EFA       HYG       IEF  \\\nDate                                                                     \n2009-04-30  0.008439 -0.001554  0.155029  0.114636  0.137906 -0.028006   \n2009-05-31  0.054144  0.163135  0.159872  0.132390  0.029027 -0.020300   \n2009-06-30  0.004549 -0.026859 -0.023094 -0.014649  0.032918 -0.006171   \n2009-07-31  0.031312  0.018595  0.110174  0.100442  0.069219  0.008344   \n2009-08-31  0.007192 -0.040800 -0.013572  0.044595 -0.017405  0.007199   \n\n                 IYR       PSP       QAI       SPY       TIP  \nDate                                                          \n2009-04-30  0.295597  0.229648  0.022329  0.098793 -0.018505  \n2009-05-31  0.023199  0.054365  0.028337  0.058926  0.020438  \n2009-06-30 -0.025462  0.044849 -0.004036 -0.001254  0.001382  \n2009-07-31  0.105827  0.143274  0.015353  0.074633  0.000906  \n2009-08-31  0.131503  0.032977 -0.004587  0.036504  0.007977  ",
      "text/html": "<div>\n<style scoped>\n    .dataframe tbody tr th:only-of-type {\n        vertical-align: middle;\n    }\n\n    .dataframe tbody tr th {\n        vertical-align: top;\n    }\n\n    .dataframe thead th {\n        text-align: right;\n    }\n</style>\n<table border=\"1\" class=\"dataframe\">\n  <thead>\n    <tr style=\"text-align: right;\">\n      <th></th>\n      <th>BWX</th>\n      <th>DBC</th>\n      <th>EEM</th>\n      <th>EFA</th>\n      <th>HYG</th>\n      <th>IEF</th>\n      <th>IYR</th>\n      <th>PSP</th>\n      <th>QAI</th>\n      <th>SPY</th>\n      <th>TIP</th>\n    </tr>\n    <tr>\n      <th>Date</th>\n      <th></th>\n      <th></th>\n      <th></th>\n      <th></th>\n      <th></th>\n      <th></th>\n      <th></th>\n      <th></th>\n      <th></th>\n      <th></th>\n      <th></th>\n    </tr>\n  </thead>\n  <tbody>\n    <tr>\n      <th>2009-04-30</th>\n      <td>0.008439</td>\n      <td>-0.001554</td>\n      <td>0.155029</td>\n      <td>0.114636</td>\n      <td>0.137906</td>\n      <td>-0.028006</td>\n      <td>0.295597</td>\n      <td>0.229648</td>\n      <td>0.022329</td>\n      <td>0.098793</td>\n      <td>-0.018505</td>\n    </tr>\n    <tr>\n      <th>2009-05-31</th>\n      <td>0.054144</td>\n      <td>0.163135</td>\n      <td>0.159872</td>\n      <td>0.132390</td>\n      <td>0.029027</td>\n      <td>-0.020300</td>\n      <td>0.023199</td>\n      <td>0.054365</td>\n      <td>0.028337</td>\n      <td>0.058926</td>\n      <td>0.020438</td>\n    </tr>\n    <tr>\n      <th>2009-06-30</th>\n      <td>0.004549</td>\n      <td>-0.026859</td>\n      <td>-0.023094</td>\n      <td>-0.014649</td>\n      <td>0.032918</td>\n      <td>-0.006171</td>\n      <td>-0.025462</td>\n      <td>0.044849</td>\n      <td>-0.004036</td>\n      <td>-0.001254</td>\n      <td>0.001382</td>\n    </tr>\n    <tr>\n      <th>2009-07-31</th>\n      <td>0.031312</td>\n      <td>0.018595</td>\n      <td>0.110174</td>\n      <td>0.100442</td>\n      <td>0.069219</td>\n      <td>0.008344</td>\n      <td>0.105827</td>\n      <td>0.143274</td>\n      <td>0.015353</td>\n      <td>0.074633</td>\n      <td>0.000906</td>\n    </tr>\n    <tr>\n      <th>2009-08-31</th>\n      <td>0.007192</td>\n      <td>-0.040800</td>\n      <td>-0.013572</td>\n      <td>0.044595</td>\n      <td>-0.017405</td>\n      <td>0.007199</td>\n      <td>0.131503</td>\n      <td>0.032977</td>\n      <td>-0.004587</td>\n      <td>0.036504</td>\n      <td>0.007977</td>\n    </tr>\n  </tbody>\n</table>\n</div>"
     },
     "execution_count": 16,
     "metadata": {},
     "output_type": "execute_result"
    }
   ],
   "source": [
    "import pandas as pd\n",
    "import numpy as np\n",
    "import matplotlib.pyplot as plt\n",
    "import seaborn as sns\n",
    "sns.set_theme(style='white', palette='crest', font_scale = 1.2, rc={'figure.figsize': (8, 6)})\n",
    "# Set the adjustment to be 12; in python, the convention\n",
    "# is to use all caps for global constants.\n",
    "ADJ = 12\n",
    "\n",
    "rets = pd.read_excel(\n",
    "    \"multi_asset_etf_data.xlsx\",\n",
    "    sheet_name=\"excess returns\",  # Specify the sheet name\n",
    "    index_col=0,  # Set the index to the first column in the Excel sheet\n",
    "    parse_dates=True,  # Parse the dates from the first column to turn them into datetime objects\n",
    ")\n",
    "# Sanity check to make sure the data is loaded correctly\n",
    "rets.head()"
   ]
  },
  {
   "cell_type": "code",
   "execution_count": 17,
   "metadata": {
    "ExecuteTime": {
     "end_time": "2023-07-08T21:40:46.961207Z",
     "start_time": "2023-07-08T21:40:46.548483Z"
    }
   },
   "outputs": [
    {
     "data": {
      "text/plain": "<pandas.io.formats.style.Styler at 0x1536cdc40>",
      "text/html": "<style type=\"text/css\">\n</style>\n<table id=\"T_e17cb\">\n  <thead>\n    <tr>\n      <th class=\"blank level0\" >&nbsp;</th>\n      <th id=\"T_e17cb_level0_col0\" class=\"col_heading level0 col0\" >Annualized Mean</th>\n      <th id=\"T_e17cb_level0_col1\" class=\"col_heading level0 col1\" >Annualized Volatility</th>\n      <th id=\"T_e17cb_level0_col2\" class=\"col_heading level0 col2\" >Annualized Sharpe Ratio</th>\n    </tr>\n  </thead>\n  <tbody>\n    <tr>\n      <th id=\"T_e17cb_level0_row0\" class=\"row_heading level0 row0\" >SPY</th>\n      <td id=\"T_e17cb_row0_col0\" class=\"data row0 col0\" >0.14</td>\n      <td id=\"T_e17cb_row0_col1\" class=\"data row0 col1\" >0.15</td>\n      <td id=\"T_e17cb_row0_col2\" class=\"data row0 col2\" >0.96</td>\n    </tr>\n    <tr>\n      <th id=\"T_e17cb_level0_row1\" class=\"row_heading level0 row1\" >HYG</th>\n      <td id=\"T_e17cb_row1_col0\" class=\"data row1 col0\" >0.064</td>\n      <td id=\"T_e17cb_row1_col1\" class=\"data row1 col1\" >0.09</td>\n      <td id=\"T_e17cb_row1_col2\" class=\"data row1 col2\" >0.71</td>\n    </tr>\n    <tr>\n      <th id=\"T_e17cb_level0_row2\" class=\"row_heading level0 row2\" >IYR</th>\n      <td id=\"T_e17cb_row2_col0\" class=\"data row2 col0\" >0.13</td>\n      <td id=\"T_e17cb_row2_col1\" class=\"data row2 col1\" >0.19</td>\n      <td id=\"T_e17cb_row2_col2\" class=\"data row2 col2\" >0.68</td>\n    </tr>\n    <tr>\n      <th id=\"T_e17cb_level0_row3\" class=\"row_heading level0 row3\" >PSP</th>\n      <td id=\"T_e17cb_row3_col0\" class=\"data row3 col0\" >0.12</td>\n      <td id=\"T_e17cb_row3_col1\" class=\"data row3 col1\" >0.23</td>\n      <td id=\"T_e17cb_row3_col2\" class=\"data row3 col2\" >0.55</td>\n    </tr>\n    <tr>\n      <th id=\"T_e17cb_level0_row4\" class=\"row_heading level0 row4\" >EFA</th>\n      <td id=\"T_e17cb_row4_col0\" class=\"data row4 col0\" >0.082</td>\n      <td id=\"T_e17cb_row4_col1\" class=\"data row4 col1\" >0.17</td>\n      <td id=\"T_e17cb_row4_col2\" class=\"data row4 col2\" >0.49</td>\n    </tr>\n    <tr>\n      <th id=\"T_e17cb_level0_row5\" class=\"row_heading level0 row5\" >TIP</th>\n      <td id=\"T_e17cb_row5_col0\" class=\"data row5 col0\" >0.024</td>\n      <td id=\"T_e17cb_row5_col1\" class=\"data row5 col1\" >0.052</td>\n      <td id=\"T_e17cb_row5_col2\" class=\"data row5 col2\" >0.47</td>\n    </tr>\n    <tr>\n      <th id=\"T_e17cb_level0_row6\" class=\"row_heading level0 row6\" >QAI</th>\n      <td id=\"T_e17cb_row6_col0\" class=\"data row6 col0\" >0.017</td>\n      <td id=\"T_e17cb_row6_col1\" class=\"data row6 col1\" >0.051</td>\n      <td id=\"T_e17cb_row6_col2\" class=\"data row6 col2\" >0.34</td>\n    </tr>\n    <tr>\n      <th id=\"T_e17cb_level0_row7\" class=\"row_heading level0 row7\" >EEM</th>\n      <td id=\"T_e17cb_row7_col0\" class=\"data row7 col0\" >0.064</td>\n      <td id=\"T_e17cb_row7_col1\" class=\"data row7 col1\" >0.2</td>\n      <td id=\"T_e17cb_row7_col2\" class=\"data row7 col2\" >0.33</td>\n    </tr>\n    <tr>\n      <th id=\"T_e17cb_level0_row8\" class=\"row_heading level0 row8\" >IEF</th>\n      <td id=\"T_e17cb_row8_col0\" class=\"data row8 col0\" >0.017</td>\n      <td id=\"T_e17cb_row8_col1\" class=\"data row8 col1\" >0.063</td>\n      <td id=\"T_e17cb_row8_col2\" class=\"data row8 col2\" >0.27</td>\n    </tr>\n    <tr>\n      <th id=\"T_e17cb_level0_row9\" class=\"row_heading level0 row9\" >DBC</th>\n      <td id=\"T_e17cb_row9_col0\" class=\"data row9 col0\" >0.02</td>\n      <td id=\"T_e17cb_row9_col1\" class=\"data row9 col1\" >0.18</td>\n      <td id=\"T_e17cb_row9_col2\" class=\"data row9 col2\" >0.11</td>\n    </tr>\n    <tr>\n      <th id=\"T_e17cb_level0_row10\" class=\"row_heading level0 row10\" >BWX</th>\n      <td id=\"T_e17cb_row10_col0\" class=\"data row10 col0\" >-0.00019</td>\n      <td id=\"T_e17cb_row10_col1\" class=\"data row10 col1\" >0.084</td>\n      <td id=\"T_e17cb_row10_col2\" class=\"data row10 col2\" >-0.0022</td>\n    </tr>\n  </tbody>\n</table>\n"
     },
     "execution_count": 17,
     "metadata": {},
     "output_type": "execute_result"
    }
   ],
   "source": [
    "# Calculate mean, volatility, and the sharpe ratio for the returns.\n",
    "def performance_summary(return_data, adj_factor=12):\n",
    "\n",
    "    summary = {\"Annualized Mean\": return_data.mean() * adj_factor,\n",
    "               \"Annualized Volatility\": return_data.std() * np.sqrt(adj_factor)}\n",
    "    summary[\"Annualized Sharpe Ratio\"] = (\n",
    "        summary[\"Annualized Mean\"] / summary[\"Annualized Volatility\"]\n",
    "    )\n",
    "    return pd.DataFrame(summary, index=return_data.columns)\n",
    "\n",
    "\n",
    "# sort the DataFrame by the Sharpe Ratio.\n",
    "metrics = performance_summary(rets).sort_values(\n",
    "    \"Annualized Sharpe Ratio\", ascending=False\n",
    ")\n",
    "metrics.style.format(\"{:.2}\")"
   ]
  },
  {
   "attachments": {},
   "cell_type": "markdown",
   "metadata": {},
   "source": [
    "### 1.b\n",
    "\n",
    "We see that SPY has the best Sharpe ratio, with a value of 0.96. This is somewhat expected, given the incredible bull-run that SPY had from 2009-2022, and then again from late 2022 to 2023. HYG (high-yield corporate bonds) has the second best, at 0.71. BWX has the worst Sharpe ratio, at -0.0022, and is also the only ETF with negative returns over the period. Second worst is DBC, with a Sharpe ratio of 0.11."
   ]
  },
  {
   "attachments": {},
   "cell_type": "markdown",
   "metadata": {},
   "source": [
    "### 2.a"
   ]
  },
  {
   "cell_type": "code",
   "execution_count": 50,
   "metadata": {
    "ExecuteTime": {
     "end_time": "2023-07-08T21:43:36.108022Z",
     "start_time": "2023-07-08T21:43:35.895690Z"
    }
   },
   "outputs": [
    {
     "data": {
      "text/plain": "<Figure size 576x432 with 2 Axes>",
      "image/png": "[encoded data removed]"
     },
     "metadata": {},
     "output_type": "display_data"
    }
   ],
   "source": [
    "corr_matrix = rets.corr()\n",
    "\n",
    "def plot_corr_matrix(corrs):\n",
    "    return sns.heatmap(\n",
    "        corrs,  # The correlation matrix\n",
    "        annot=True,\n",
    "        cmap=\"cubehelix\",  # The color scheme to use\n",
    "        vmin=-1,\n",
    "        vmax=1,\n",
    "        annot_kws={\n",
    "            \"size\": 10\n",
    "        },\n",
    "        fmt=\".2f\"\n",
    "    )\n",
    "\n",
    "fig, _ = plt.subplots(figsize=(8, 6))\n",
    "ax = plot_corr_matrix(corr_matrix)\n",
    "\n",
    "ax.set_title(\"Correlation Matrix\")  # Set the title of the plot\n",
    "fig.tight_layout()  # This adjusts spacing."
   ]
  },
  {
   "cell_type": "code",
   "execution_count": 19,
   "metadata": {
    "ExecuteTime": {
     "end_time": "2023-07-08T21:40:47.077740Z",
     "start_time": "2023-07-08T21:40:47.050846Z"
    }
   },
   "outputs": [
    {
     "name": "stdout",
     "output_type": "stream",
     "text": [
      "Max Corr (by absolute value): EFA and PSP with a correlation of 0.91\n",
      "Min Corr (by absolute value): HYG and IEF with a correlation of 0.01\n",
      "Min Corr (raw): DBC and IEF with a correlation of -0.32\n"
     ]
    }
   ],
   "source": [
    "# Get highest and lowest correlations.\n",
    "# Unstack the correlation matrix to get a series of all the correlations.\n",
    "corr_series = corr_matrix.unstack()\n",
    "\n",
    "# Next, we want to remove all the correlations of each asset with itself, since\n",
    "# they will all be 1, and we are not interested in them.\n",
    "corr_series = corr_series[corr_series != 1]\n",
    "max_corr = corr_series.idxmax()\n",
    "min_corr = corr_series.idxmin()\n",
    "\n",
    "# Get the values.\n",
    "max_corr_val = corr_series[max_corr]\n",
    "min_corr_val = corr_series[min_corr]\n",
    "\n",
    "# Note, the above code can also be written by using the DataFrame.agg method, which\n",
    "# allows us to apply multiple functions to a DataFrame at once.\n",
    "max_corr = corr_series.abs().agg([\"idxmax\", \"max\"]).T\n",
    "min_corr = corr_series.abs().agg([\"idxmin\", \"min\"]).T\n",
    "min_corr_raw = corr_series.agg([\"idxmin\", \"min\"]).T\n",
    "max_corr, max_corr_val = max_corr[\"idxmax\"], max_corr[\"max\"]\n",
    "min_corr, min_corr_val = min_corr[\"idxmin\"], min_corr[\"min\"]\n",
    "min_corr_raw, min_corr_raw_val = min_corr_raw[\"idxmin\"], min_corr_raw[\"min\"]\n",
    "\n",
    "# Print the results. Note how we use {:.2f} to round to 2 decimal places.\n",
    "print(\n",
    "    f\"Max Corr (by absolute value): {max_corr[0]} and {max_corr[1]} with a correlation of {max_corr_val:.2f}\"\n",
    ")\n",
    "print(\n",
    "    f\"Min Corr (by absolute value): {min_corr[0]} and {min_corr[1]} with a correlation of {min_corr_val:.2f}\"\n",
    ")\n",
    "print(\n",
    "    f\"Min Corr (raw): {min_corr_raw[0]} and {min_corr_raw[1]} with a correlation of {min_corr_raw_val:.2f}\"\n",
    ")"
   ]
  },
  {
   "attachments": {},
   "cell_type": "markdown",
   "metadata": {},
   "source": [
    "Most of the assets have quite high correlations with each other, as shown by the heatmap. In fact, the only asset that displays negative correlations with the others is IEF. TIP is also on the lower end of the correlation spectrum."
   ]
  },
  {
   "attachments": {},
   "cell_type": "markdown",
   "metadata": {},
   "source": [
    "#### 2.b"
   ]
  },
  {
   "cell_type": "code",
   "execution_count": 20,
   "metadata": {
    "ExecuteTime": {
     "end_time": "2023-07-08T21:40:47.077952Z",
     "start_time": "2023-07-08T21:40:47.066875Z"
    }
   },
   "outputs": [
    {
     "data": {
      "text/plain": "<pandas.io.formats.style.Styler at 0x153a7e6a0>",
      "text/html": "<style type=\"text/css\">\n</style>\n<table id=\"T_a125f\">\n  <thead>\n    <tr>\n      <th class=\"blank level0\" >&nbsp;</th>\n      <th id=\"T_a125f_level0_col0\" class=\"col_heading level0 col0\" >Annualized Mean</th>\n      <th id=\"T_a125f_level0_col1\" class=\"col_heading level0 col1\" >Annualized Volatility</th>\n      <th id=\"T_a125f_level0_col2\" class=\"col_heading level0 col2\" >Annualized Sharpe Ratio</th>\n      <th id=\"T_a125f_level0_col3\" class=\"col_heading level0 col3\" >Rank Mean</th>\n      <th id=\"T_a125f_level0_col4\" class=\"col_heading level0 col4\" >Rank Vol</th>\n      <th id=\"T_a125f_level0_col5\" class=\"col_heading level0 col5\" >Rank Sharpe</th>\n    </tr>\n  </thead>\n  <tbody>\n    <tr>\n      <th id=\"T_a125f_level0_row0\" class=\"row_heading level0 row0\" >TIP</th>\n      <td id=\"T_a125f_row0_col0\" class=\"data row0 col0\" >0.02</td>\n      <td id=\"T_a125f_row0_col1\" class=\"data row0 col1\" >0.05</td>\n      <td id=\"T_a125f_row0_col2\" class=\"data row0 col2\" >0.47</td>\n      <td id=\"T_a125f_row0_col3\" class=\"data row0 col3\" >7.00</td>\n      <td id=\"T_a125f_row0_col4\" class=\"data row0 col4\" >10.00</td>\n      <td id=\"T_a125f_row0_col5\" class=\"data row0 col5\" >6.00</td>\n    </tr>\n    <tr>\n      <th id=\"T_a125f_level0_row1\" class=\"row_heading level0 row1\" >IEF</th>\n      <td id=\"T_a125f_row1_col0\" class=\"data row1 col0\" >0.02</td>\n      <td id=\"T_a125f_row1_col1\" class=\"data row1 col1\" >0.06</td>\n      <td id=\"T_a125f_row1_col2\" class=\"data row1 col2\" >0.27</td>\n      <td id=\"T_a125f_row1_col3\" class=\"data row1 col3\" >10.00</td>\n      <td id=\"T_a125f_row1_col4\" class=\"data row1 col4\" >9.00</td>\n      <td id=\"T_a125f_row1_col5\" class=\"data row1 col5\" >9.00</td>\n    </tr>\n    <tr>\n      <th id=\"T_a125f_level0_row2\" class=\"row_heading level0 row2\" >BWX</th>\n      <td id=\"T_a125f_row2_col0\" class=\"data row2 col0\" >-0.00</td>\n      <td id=\"T_a125f_row2_col1\" class=\"data row2 col1\" >0.08</td>\n      <td id=\"T_a125f_row2_col2\" class=\"data row2 col2\" >-0.00</td>\n      <td id=\"T_a125f_row2_col3\" class=\"data row2 col3\" >11.00</td>\n      <td id=\"T_a125f_row2_col4\" class=\"data row2 col4\" >8.00</td>\n      <td id=\"T_a125f_row2_col5\" class=\"data row2 col5\" >11.00</td>\n    </tr>\n  </tbody>\n</table>\n"
     },
     "execution_count": 20,
     "metadata": {},
     "output_type": "execute_result"
    }
   ],
   "source": [
    "# This is quite an open-ended question, since what really defines \"outperformance\" is\n",
    "# somewhat subjective. We can look at the mean returns and sharpe ratio. You'll be better\n",
    "# able to answer this question after we cover risk metrics.\n",
    "#\n",
    "# Domestic bond ETF is IEF, foreign is BWX.\n",
    "\n",
    "# Get the mean returns and sharpe ratios.\n",
    "bonds = metrics.loc[[\"TIP\", \"IEF\", \"BWX\"]]\n",
    "\n",
    "# Get the rank of the metrics.\n",
    "bonds.loc[:, [\"Rank Mean\", \"Rank Vol\", \"Rank Sharpe\"]] = (\n",
    "    metrics.rank(ascending=False)\n",
    "    .loc[\n",
    "        [\"TIP\", \"IEF\", \"BWX\"],\n",
    "        [\"Annualized Mean\", \"Annualized Volatility\", \"Annualized Sharpe Ratio\"],\n",
    "    ]\n",
    "    .values\n",
    ")\n",
    "\n",
    "bonds.style.format(\"{:.2f}\")"
   ]
  },
  {
   "attachments": {},
   "cell_type": "markdown",
   "metadata": {},
   "source": [
    "We see that TIP performs in about the middle of the pack, coming in 6th out of 11 in terms of Sharpe, and 7th out of 11 in terms of mean. However, it does have the second-lowest volatility, which is a good thing.\n",
    "\n",
    "I would argue that it outperforms both IEF and BWX. TIP has both a higher mean and lower volatility than the other two ETFs. So, yes, they have outperformed the other types of bonds."
   ]
  },
  {
   "cell_type": "code",
   "execution_count": 21,
   "metadata": {
    "ExecuteTime": {
     "end_time": "2023-07-08T21:40:47.083437Z",
     "start_time": "2023-07-08T21:40:47.079147Z"
    }
   },
   "outputs": [
    {
     "data": {
      "text/plain": "          TIP       IEF       BWX\nTIP  1.000000  0.704058  0.616188\nIEF  0.704058  1.000000  0.435365\nBWX  0.616188  0.435365  1.000000",
      "text/html": "<div>\n<style scoped>\n    .dataframe tbody tr th:only-of-type {\n        vertical-align: middle;\n    }\n\n    .dataframe tbody tr th {\n        vertical-align: top;\n    }\n\n    .dataframe thead th {\n        text-align: right;\n    }\n</style>\n<table border=\"1\" class=\"dataframe\">\n  <thead>\n    <tr style=\"text-align: right;\">\n      <th></th>\n      <th>TIP</th>\n      <th>IEF</th>\n      <th>BWX</th>\n    </tr>\n  </thead>\n  <tbody>\n    <tr>\n      <th>TIP</th>\n      <td>1.000000</td>\n      <td>0.704058</td>\n      <td>0.616188</td>\n    </tr>\n    <tr>\n      <th>IEF</th>\n      <td>0.704058</td>\n      <td>1.000000</td>\n      <td>0.435365</td>\n    </tr>\n    <tr>\n      <th>BWX</th>\n      <td>0.616188</td>\n      <td>0.435365</td>\n      <td>1.000000</td>\n    </tr>\n  </tbody>\n</table>\n</div>"
     },
     "execution_count": 21,
     "metadata": {},
     "output_type": "execute_result"
    }
   ],
   "source": [
    "# Check the correlations between the assets.\n",
    "corr_matrix.loc[[\"TIP\", \"IEF\", \"BWX\"], [\"TIP\", \"IEF\", \"BWX\"]]"
   ]
  },
  {
   "attachments": {},
   "cell_type": "markdown",
   "metadata": {},
   "source": [
    "### 2.c\n",
    "\n",
    "The answer for this is \"it depends\". Although TIP perform better than the other two bond ETFs, they have a high correlation to both. So, in that sense they do expand the investment opportunity set. However, IEF is just 7-10 year treasuries, and thus is not meaningfully different from TIP, which are inflation-protected treasuries. Therefore, I would argue that Harvard should not consider them as their own asset class, but rather incorporate them into their existing treasury portfolio.\n",
    "\n",
    "However, if we are limited to these choices of ETFs, rather than Harvard's thousands of assets, then yes, we should consider them their own asset class."
   ]
  },
  {
   "attachments": {},
   "cell_type": "markdown",
   "metadata": {},
   "source": [
    "### 3.a, b"
   ]
  },
  {
   "cell_type": "code",
   "execution_count": 58,
   "metadata": {
    "ExecuteTime": {
     "end_time": "2023-07-08T22:03:56.581773Z",
     "start_time": "2023-07-08T22:03:56.548129Z"
    }
   },
   "outputs": [
    {
     "data": {
      "text/plain": "            Tangency Portfolio\nDate                          \n2009-04-30            0.777346\n2009-05-31           -0.176044\n2009-06-30            0.102961\n2009-07-31            1.288294\n2009-08-31            0.340748\n...                        ...\n2023-01-31            0.517212\n2023-02-28           -0.748011\n2023-03-31            1.851400\n2023-04-30            0.246048\n2023-05-31            0.399550\n\n[170 rows x 1 columns]",
      "text/html": "<div>\n<style scoped>\n    .dataframe tbody tr th:only-of-type {\n        vertical-align: middle;\n    }\n\n    .dataframe tbody tr th {\n        vertical-align: top;\n    }\n\n    .dataframe thead th {\n        text-align: right;\n    }\n</style>\n<table border=\"1\" class=\"dataframe\">\n  <thead>\n    <tr style=\"text-align: right;\">\n      <th></th>\n      <th>Tangency Portfolio</th>\n    </tr>\n    <tr>\n      <th>Date</th>\n      <th></th>\n    </tr>\n  </thead>\n  <tbody>\n    <tr>\n      <th>2009-04-30</th>\n      <td>0.777346</td>\n    </tr>\n    <tr>\n      <th>2009-05-31</th>\n      <td>-0.176044</td>\n    </tr>\n    <tr>\n      <th>2009-06-30</th>\n      <td>0.102961</td>\n    </tr>\n    <tr>\n      <th>2009-07-31</th>\n      <td>1.288294</td>\n    </tr>\n    <tr>\n      <th>2009-08-31</th>\n      <td>0.340748</td>\n    </tr>\n    <tr>\n      <th>...</th>\n      <td>...</td>\n    </tr>\n    <tr>\n      <th>2023-01-31</th>\n      <td>0.517212</td>\n    </tr>\n    <tr>\n      <th>2023-02-28</th>\n      <td>-0.748011</td>\n    </tr>\n    <tr>\n      <th>2023-03-31</th>\n      <td>1.851400</td>\n    </tr>\n    <tr>\n      <th>2023-04-30</th>\n      <td>0.246048</td>\n    </tr>\n    <tr>\n      <th>2023-05-31</th>\n      <td>0.399550</td>\n    </tr>\n  </tbody>\n</table>\n<p>170 rows × 1 columns</p>\n</div>"
     },
     "metadata": {},
     "output_type": "display_data"
    },
    {
     "data": {
      "text/plain": "<pandas.io.formats.style.Styler at 0x153bd7490>",
      "text/html": "<style type=\"text/css\">\n</style>\n<table id=\"T_36789\">\n  <thead>\n    <tr>\n      <th class=\"blank level0\" >&nbsp;</th>\n      <th id=\"T_36789_level0_col0\" class=\"col_heading level0 col0\" >Annualized Mean</th>\n      <th id=\"T_36789_level0_col1\" class=\"col_heading level0 col1\" >Annualized Volatility</th>\n      <th id=\"T_36789_level0_col2\" class=\"col_heading level0 col2\" >Annualized Sharpe Ratio</th>\n    </tr>\n  </thead>\n  <tbody>\n    <tr>\n      <th id=\"T_36789_level0_row0\" class=\"row_heading level0 row0\" >Tangency Portfolio</th>\n      <td id=\"T_36789_row0_col0\" class=\"data row0 col0\" >3.58</td>\n      <td id=\"T_36789_row0_col1\" class=\"data row0 col1\" >2.08</td>\n      <td id=\"T_36789_row0_col2\" class=\"data row0 col2\" >1.72</td>\n    </tr>\n  </tbody>\n</table>\n"
     },
     "metadata": {},
     "output_type": "display_data"
    }
   ],
   "source": [
    "def tan_portfolio(mean_rets, cov_matrix):\n",
    "    inv_cov = np.linalg.inv(cov_matrix)\n",
    "    ones = np.ones(mean_rets.shape)\n",
    "    return (inv_cov @ mean_rets) / (ones.T @ inv_cov @ mean_rets)\n",
    "\n",
    "\n",
    "def gmv_portfolio(cov_matrix):\n",
    "    \"\"\"\n",
    "    Function to calculate the weights of the global minimum variance portfolio.\n",
    "\n",
    "    Args:\n",
    "        cov_matrix : Covariance matrix of returns.\n",
    "\n",
    "    Returns:\n",
    "        Vector of GMV portfolio weights.\n",
    "    \"\"\"\n",
    "    try:\n",
    "        cov_inv = np.linalg.inv(cov_matrix)\n",
    "    except TypeError:\n",
    "        cov_inv = np.linalg.inv(np.array(cov_matrix))\n",
    "\n",
    "    one_vector = np.ones(len(cov_matrix.index))\n",
    "    return cov_inv @ one_vector / (one_vector @ cov_inv @ (one_vector))\n",
    "\n",
    "\n",
    "def mv_portfolio(mean_rets, cov_matrix, target=None):\n",
    "    \"\"\"\n",
    "    Function to calculate the weights of the mean-variance portfolio. If\n",
    "    target is not specified, then the function will return the tangency portfolio.\n",
    "    If target is specified, then we return the MV-efficient portfolio with the target\n",
    "    return.\n",
    "\n",
    "    Args:\n",
    "        mean_rets : Vector of mean returns.\n",
    "        cov_matrix : Covariance matrix of returns.\n",
    "        target (optional):  Target mean return. Defaults to None. Note: must be adjusted for\n",
    "                            annualization the same time-frequency as the mean returns. If the\n",
    "                            mean returns are monthly, the target must be monthly as well.\n",
    "\n",
    "    Returns:\n",
    "        Vector of MV portfolio weights.\n",
    "    \"\"\"\n",
    "    w_tan = tan_portfolio(mean_rets, cov_matrix)\n",
    "\n",
    "    if target is None:\n",
    "        return w_tan\n",
    "\n",
    "    w_gmv = gmv_portfolio(cov_matrix)\n",
    "    delta = (target - mean_rets @ w_gmv) / (mean_rets @ w_tan - mean_rets @ w_gmv)\n",
    "    return delta * w_tan + (1 - delta) * w_gmv\n",
    "\n",
    "\n",
    "# Note: we are NOT annualizing here.\n",
    "w_tan = mv_portfolio(rets.mean(), rets.cov())\n",
    "\n",
    "w_tan_df = pd.DataFrame(w_tan, index=rets.columns, columns=[\"Tangency Portfolio\"])\n",
    "\n",
    "# Here, we use the display() function to show both the weights and the performance summary,\n",
    "# without having to make two separate cells, and not mess up the formatting caused by print().\n",
    "# display(\n",
    "#     w_tan_df.sort_values(by=\"Tangency Portfolio\", ascending=False).style.format(\n",
    "#         \"{:.2f}\"\n",
    "#     )\n",
    "# )\n",
    "\n",
    "# Calculate the portfolio returns.\n",
    "w_tan_rets = rets @ w_tan_df\n",
    "display(w_tan_rets)\n",
    "\n",
    "# We could use linear algebra to directly calculate the\n",
    "# portfolio statistics, but we will stick to using the\n",
    "# performance_summary function for consistency, and also,\n",
    "# if we want to calculate other risk metrics, we will need\n",
    "# to use the performance_summary function.\n",
    "tan_summ = performance_summary(w_tan_rets)\n",
    "display(tan_summ.style.format(\"{:.2f}\"))"
   ]
  },
  {
   "attachments": {},
   "cell_type": "markdown",
   "metadata": {},
   "source": [
    "### 4.a, b"
   ]
  },
  {
   "cell_type": "code",
   "execution_count": 53,
   "metadata": {
    "ExecuteTime": {
     "end_time": "2023-07-08T22:03:17.372602Z",
     "start_time": "2023-07-08T22:03:17.313090Z"
    }
   },
   "outputs": [
    {
     "data": {
      "text/plain": "<pandas.io.formats.style.Styler at 0x153a7eaf0>",
      "text/html": "<style type=\"text/css\">\n</style>\n<table id=\"T_e1c24\">\n  <thead>\n    <tr>\n      <th class=\"blank level0\" >&nbsp;</th>\n      <th id=\"T_e1c24_level0_col0\" class=\"col_heading level0 col0\" >Tangency Portfolio</th>\n      <th id=\"T_e1c24_level0_col1\" class=\"col_heading level0 col1\" >Target Portfolio</th>\n      <th id=\"T_e1c24_level0_col2\" class=\"col_heading level0 col2\" >Annualized Sharpe Ratio</th>\n    </tr>\n  </thead>\n  <tbody>\n    <tr>\n      <th id=\"T_e1c24_level0_row0\" class=\"row_heading level0 row0\" >IEF</th>\n      <td id=\"T_e1c24_row0_col0\" class=\"data row0 col0\" >26.284</td>\n      <td id=\"T_e1c24_row0_col1\" class=\"data row0 col1\" >0.708</td>\n      <td id=\"T_e1c24_row0_col2\" class=\"data row0 col2\" >0.274</td>\n    </tr>\n    <tr>\n      <th id=\"T_e1c24_level0_row1\" class=\"row_heading level0 row1\" >SPY</th>\n      <td id=\"T_e1c24_row1_col0\" class=\"data row1 col0\" >27.420</td>\n      <td id=\"T_e1c24_row1_col1\" class=\"data row1 col1\" >0.604</td>\n      <td id=\"T_e1c24_row1_col2\" class=\"data row1 col2\" >0.957</td>\n    </tr>\n    <tr>\n      <th id=\"T_e1c24_level0_row2\" class=\"row_heading level0 row2\" >HYG</th>\n      <td id=\"T_e1c24_row2_col0\" class=\"data row2 col0\" >14.007</td>\n      <td id=\"T_e1c24_row2_col1\" class=\"data row2 col1\" >0.490</td>\n      <td id=\"T_e1c24_row2_col2\" class=\"data row2 col2\" >0.715</td>\n    </tr>\n    <tr>\n      <th id=\"T_e1c24_level0_row3\" class=\"row_heading level0 row3\" >TIP</th>\n      <td id=\"T_e1c24_row3_col0\" class=\"data row3 col0\" >3.156</td>\n      <td id=\"T_e1c24_row3_col1\" class=\"data row3 col1\" >0.209</td>\n      <td id=\"T_e1c24_row3_col2\" class=\"data row3 col2\" >0.473</td>\n    </tr>\n    <tr>\n      <th id=\"T_e1c24_level0_row4\" class=\"row_heading level0 row4\" >EFA</th>\n      <td id=\"T_e1c24_row4_col0\" class=\"data row4 col0\" >2.133</td>\n      <td id=\"T_e1c24_row4_col1\" class=\"data row4 col1\" >0.071</td>\n      <td id=\"T_e1c24_row4_col2\" class=\"data row4 col2\" >0.493</td>\n    </tr>\n    <tr>\n      <th id=\"T_e1c24_level0_row5\" class=\"row_heading level0 row5\" >DBC</th>\n      <td id=\"T_e1c24_row5_col0\" class=\"data row5 col0\" >0.795</td>\n      <td id=\"T_e1c24_row5_col1\" class=\"data row5 col1\" >0.019</td>\n      <td id=\"T_e1c24_row5_col2\" class=\"data row5 col2\" >0.111</td>\n    </tr>\n    <tr>\n      <th id=\"T_e1c24_level0_row6\" class=\"row_heading level0 row6\" >EEM</th>\n      <td id=\"T_e1c24_row6_col0\" class=\"data row6 col0\" >3.611</td>\n      <td id=\"T_e1c24_row6_col1\" class=\"data row6 col1\" >0.016</td>\n      <td id=\"T_e1c24_row6_col2\" class=\"data row6 col2\" >0.326</td>\n    </tr>\n    <tr>\n      <th id=\"T_e1c24_level0_row7\" class=\"row_heading level0 row7\" >IYR</th>\n      <td id=\"T_e1c24_row7_col0\" class=\"data row7 col0\" >-4.263</td>\n      <td id=\"T_e1c24_row7_col1\" class=\"data row7 col1\" >-0.119</td>\n      <td id=\"T_e1c24_row7_col2\" class=\"data row7 col2\" >0.684</td>\n    </tr>\n    <tr>\n      <th id=\"T_e1c24_level0_row8\" class=\"row_heading level0 row8\" >QAI</th>\n      <td id=\"T_e1c24_row8_col0\" class=\"data row8 col0\" >-49.896</td>\n      <td id=\"T_e1c24_row8_col1\" class=\"data row8 col1\" >-0.208</td>\n      <td id=\"T_e1c24_row8_col2\" class=\"data row8 col2\" >0.343</td>\n    </tr>\n    <tr>\n      <th id=\"T_e1c24_level0_row9\" class=\"row_heading level0 row9\" >PSP</th>\n      <td id=\"T_e1c24_row9_col0\" class=\"data row9 col0\" >-5.921</td>\n      <td id=\"T_e1c24_row9_col1\" class=\"data row9 col1\" >-0.263</td>\n      <td id=\"T_e1c24_row9_col2\" class=\"data row9 col2\" >0.552</td>\n    </tr>\n    <tr>\n      <th id=\"T_e1c24_level0_row10\" class=\"row_heading level0 row10\" >BWX</th>\n      <td id=\"T_e1c24_row10_col0\" class=\"data row10 col0\" >-16.325</td>\n      <td id=\"T_e1c24_row10_col1\" class=\"data row10 col1\" >-0.527</td>\n      <td id=\"T_e1c24_row10_col2\" class=\"data row10 col2\" >-0.002</td>\n    </tr>\n  </tbody>\n</table>\n"
     },
     "metadata": {},
     "output_type": "display_data"
    }
   ],
   "source": [
    "target_port = pd.DataFrame(\n",
    "    mv_portfolio(rets.mean(), rets.cov(), target=0.0075),\n",
    "    index=rets.columns,\n",
    "    columns=[\"Target Portfolio\"],\n",
    ")\n",
    "target_rets = rets @ target_port\n",
    "target_summ = performance_summary(target_rets)\n",
    "\n",
    "# Note: I'm sorting by target portfolio here,\n",
    "# and not the tangency portfolio like in question 3.\n",
    "display(\n",
    "    pd.concat([w_tan_df, target_port, metrics[[\"Annualized Sharpe Ratio\"]]], axis=1)\n",
    "    .sort_values(by=\"Target Portfolio\", ascending=False)\n",
    "    .style.format(\"{:.3f}\")\n",
    ")\n",
    "# display(pd.concat([tan_summ, target_summ], axis=0).style.format(\"{:.2f}\"))"
   ]
  },
  {
   "attachments": {},
   "cell_type": "markdown",
   "metadata": {},
   "source": [
    "### 4.c\n",
    "\n",
    "The portfolio is most long in IEF, followed by SPY and HYG. It is the shortest in BWX (by quite a large margin), followed by PSP and QAI. Note that the target portfolio has the same top 3 and bottom 3 weights as the tangency, just with a different ordering.\n",
    "\n",
    "### 4.d\n",
    "\n",
    "Yes and no. SPY has the best Sharpe ratio, and we are long SPY. BWX has the worst Sharpe ratio and we are short BWX. However, we are short IYR, which has the 3rd highest Sharpe ratio. So, overall, I would argue that for the most long and most short allocations, it roughly aligns with the Sharpe ratios of the assets, but there is no clear pattern. This makes sense given that the it's the *covariance* between assets that matters the most, not just the returns."
   ]
  },
  {
   "attachments": {},
   "cell_type": "markdown",
   "metadata": {},
   "source": [
    "### 5.a, b"
   ]
  },
  {
   "cell_type": "code",
   "execution_count": 24,
   "metadata": {
    "ExecuteTime": {
     "end_time": "2023-07-08T21:40:47.300555Z",
     "start_time": "2023-07-08T21:40:47.283721Z"
    }
   },
   "outputs": [
    {
     "data": {
      "text/plain": "<pandas.io.formats.style.Styler at 0x153a7a3a0>",
      "text/html": "<style type=\"text/css\">\n</style>\n<table id=\"T_079fc\">\n  <thead>\n    <tr>\n      <th class=\"blank level0\" >&nbsp;</th>\n      <th id=\"T_079fc_level0_col0\" class=\"col_heading level0 col0\" >Equally Weighted</th>\n      <th id=\"T_079fc_level0_col1\" class=\"col_heading level0 col1\" >Risk Parity</th>\n      <th id=\"T_079fc_level0_col2\" class=\"col_heading level0 col2\" >Tangency</th>\n      <th id=\"T_079fc_level0_col3\" class=\"col_heading level0 col3\" >Target</th>\n    </tr>\n  </thead>\n  <tbody>\n    <tr>\n      <th id=\"T_079fc_level0_row0\" class=\"row_heading level0 row0\" >BWX</th>\n      <td id=\"T_079fc_row0_col0\" class=\"data row0 col0\" >0.131</td>\n      <td id=\"T_079fc_row0_col1\" class=\"data row0 col1\" >0.218</td>\n      <td id=\"T_079fc_row0_col2\" class=\"data row0 col2\" >-16.325</td>\n      <td id=\"T_079fc_row0_col3\" class=\"data row0 col3\" >-0.527</td>\n    </tr>\n    <tr>\n      <th id=\"T_079fc_level0_row1\" class=\"row_heading level0 row1\" >DBC</th>\n      <td id=\"T_079fc_row1_col0\" class=\"data row1 col0\" >0.131</td>\n      <td id=\"T_079fc_row1_col1\" class=\"data row1 col1\" >0.102</td>\n      <td id=\"T_079fc_row1_col2\" class=\"data row1 col2\" >0.795</td>\n      <td id=\"T_079fc_row1_col3\" class=\"data row1 col3\" >0.019</td>\n    </tr>\n    <tr>\n      <th id=\"T_079fc_level0_row2\" class=\"row_heading level0 row2\" >EEM</th>\n      <td id=\"T_079fc_row2_col0\" class=\"data row2 col0\" >0.131</td>\n      <td id=\"T_079fc_row2_col1\" class=\"data row2 col1\" >0.093</td>\n      <td id=\"T_079fc_row2_col2\" class=\"data row2 col2\" >3.611</td>\n      <td id=\"T_079fc_row2_col3\" class=\"data row2 col3\" >0.016</td>\n    </tr>\n    <tr>\n      <th id=\"T_079fc_level0_row3\" class=\"row_heading level0 row3\" >EFA</th>\n      <td id=\"T_079fc_row3_col0\" class=\"data row3 col0\" >0.131</td>\n      <td id=\"T_079fc_row3_col1\" class=\"data row3 col1\" >0.110</td>\n      <td id=\"T_079fc_row3_col2\" class=\"data row3 col2\" >2.133</td>\n      <td id=\"T_079fc_row3_col3\" class=\"data row3 col3\" >0.071</td>\n    </tr>\n    <tr>\n      <th id=\"T_079fc_level0_row4\" class=\"row_heading level0 row4\" >HYG</th>\n      <td id=\"T_079fc_row4_col0\" class=\"data row4 col0\" >0.131</td>\n      <td id=\"T_079fc_row4_col1\" class=\"data row4 col1\" >0.203</td>\n      <td id=\"T_079fc_row4_col2\" class=\"data row4 col2\" >14.007</td>\n      <td id=\"T_079fc_row4_col3\" class=\"data row4 col3\" >0.490</td>\n    </tr>\n    <tr>\n      <th id=\"T_079fc_level0_row5\" class=\"row_heading level0 row5\" >IEF</th>\n      <td id=\"T_079fc_row5_col0\" class=\"data row5 col0\" >0.131</td>\n      <td id=\"T_079fc_row5_col1\" class=\"data row5 col1\" >0.292</td>\n      <td id=\"T_079fc_row5_col2\" class=\"data row5 col2\" >26.284</td>\n      <td id=\"T_079fc_row5_col3\" class=\"data row5 col3\" >0.708</td>\n    </tr>\n    <tr>\n      <th id=\"T_079fc_level0_row6\" class=\"row_heading level0 row6\" >IYR</th>\n      <td id=\"T_079fc_row6_col0\" class=\"data row6 col0\" >0.131</td>\n      <td id=\"T_079fc_row6_col1\" class=\"data row6 col1\" >0.097</td>\n      <td id=\"T_079fc_row6_col2\" class=\"data row6 col2\" >-4.263</td>\n      <td id=\"T_079fc_row6_col3\" class=\"data row6 col3\" >-0.119</td>\n    </tr>\n    <tr>\n      <th id=\"T_079fc_level0_row7\" class=\"row_heading level0 row7\" >PSP</th>\n      <td id=\"T_079fc_row7_col0\" class=\"data row7 col0\" >0.131</td>\n      <td id=\"T_079fc_row7_col1\" class=\"data row7 col1\" >0.081</td>\n      <td id=\"T_079fc_row7_col2\" class=\"data row7 col2\" >-5.921</td>\n      <td id=\"T_079fc_row7_col3\" class=\"data row7 col3\" >-0.263</td>\n    </tr>\n    <tr>\n      <th id=\"T_079fc_level0_row8\" class=\"row_heading level0 row8\" >QAI</th>\n      <td id=\"T_079fc_row8_col0\" class=\"data row8 col0\" >0.131</td>\n      <td id=\"T_079fc_row8_col1\" class=\"data row8 col1\" >0.359</td>\n      <td id=\"T_079fc_row8_col2\" class=\"data row8 col2\" >-49.896</td>\n      <td id=\"T_079fc_row8_col3\" class=\"data row8 col3\" >-0.208</td>\n    </tr>\n    <tr>\n      <th id=\"T_079fc_level0_row9\" class=\"row_heading level0 row9\" >SPY</th>\n      <td id=\"T_079fc_row9_col0\" class=\"data row9 col0\" >0.131</td>\n      <td id=\"T_079fc_row9_col1\" class=\"data row9 col1\" >0.123</td>\n      <td id=\"T_079fc_row9_col2\" class=\"data row9 col2\" >27.420</td>\n      <td id=\"T_079fc_row9_col3\" class=\"data row9 col3\" >0.604</td>\n    </tr>\n    <tr>\n      <th id=\"T_079fc_level0_row10\" class=\"row_heading level0 row10\" >TIP</th>\n      <td id=\"T_079fc_row10_col0\" class=\"data row10 col0\" >0.131</td>\n      <td id=\"T_079fc_row10_col1\" class=\"data row10 col1\" >0.353</td>\n      <td id=\"T_079fc_row10_col2\" class=\"data row10 col2\" >3.156</td>\n      <td id=\"T_079fc_row10_col3\" class=\"data row10 col3\" >0.209</td>\n    </tr>\n  </tbody>\n</table>\n"
     },
     "metadata": {},
     "output_type": "display_data"
    },
    {
     "data": {
      "text/plain": "<pandas.io.formats.style.Styler at 0x153ab6c70>",
      "text/html": "<style type=\"text/css\">\n</style>\n<table id=\"T_7d8aa\">\n  <thead>\n    <tr>\n      <th class=\"blank level0\" >&nbsp;</th>\n      <th id=\"T_7d8aa_level0_col0\" class=\"col_heading level0 col0\" >Equally Weighted</th>\n      <th id=\"T_7d8aa_level0_col1\" class=\"col_heading level0 col1\" >Risk Parity</th>\n      <th id=\"T_7d8aa_level0_col2\" class=\"col_heading level0 col2\" >Tangency Portfolio</th>\n      <th id=\"T_7d8aa_level0_col3\" class=\"col_heading level0 col3\" >Target Portfolio</th>\n    </tr>\n  </thead>\n  <tbody>\n    <tr>\n      <th id=\"T_7d8aa_level0_row0\" class=\"row_heading level0 row0\" >Annualized Mean</th>\n      <td id=\"T_7d8aa_row0_col0\" class=\"data row0 col0\" >0.0900</td>\n      <td id=\"T_7d8aa_row0_col1\" class=\"data row0 col1\" >0.0900</td>\n      <td id=\"T_7d8aa_row0_col2\" class=\"data row0 col2\" >3.5806</td>\n      <td id=\"T_7d8aa_row0_col3\" class=\"data row0 col3\" >0.0900</td>\n    </tr>\n    <tr>\n      <th id=\"T_7d8aa_level0_row1\" class=\"row_heading level0 row1\" >Annualized Volatility</th>\n      <td id=\"T_7d8aa_row1_col0\" class=\"data row1 col0\" >0.1505</td>\n      <td id=\"T_7d8aa_row1_col1\" class=\"data row1 col1\" >0.1492</td>\n      <td id=\"T_7d8aa_row1_col2\" class=\"data row1 col2\" >2.0821</td>\n      <td id=\"T_7d8aa_row1_col3\" class=\"data row1 col3\" >0.0596</td>\n    </tr>\n    <tr>\n      <th id=\"T_7d8aa_level0_row2\" class=\"row_heading level0 row2\" >Annualized Sharpe Ratio</th>\n      <td id=\"T_7d8aa_row2_col0\" class=\"data row2 col0\" >0.5980</td>\n      <td id=\"T_7d8aa_row2_col1\" class=\"data row2 col1\" >0.6031</td>\n      <td id=\"T_7d8aa_row2_col2\" class=\"data row2 col2\" >1.7197</td>\n      <td id=\"T_7d8aa_row2_col3\" class=\"data row2 col3\" >1.5088</td>\n    </tr>\n  </tbody>\n</table>\n"
     },
     "execution_count": 24,
     "metadata": {},
     "output_type": "execute_result"
    }
   ],
   "source": [
    "# Calculate the equal weighted portfolio.\n",
    "w_eq = np.ones(len(rets.columns)) / len(rets.columns)\n",
    "\n",
    "# Rescale to fit to target return of 0.0075.\n",
    "w_eq = w_eq * (0.0075 / (rets.mean() @ w_eq))\n",
    "\n",
    "# Calculate the returns of the equal weighted portfolio.\n",
    "w_eq_rets = (rets @ w_eq).to_frame(\"Equally Weighted\")\n",
    "\n",
    "# Risk parity portfolio.\n",
    "w_rp = np.array(1 / np.sqrt(np.diag(rets.cov())))\n",
    "\n",
    "# Again, rescale to fit to target return of 0.0075.\n",
    "w_rp = w_rp * (0.0075 / (rets.mean() @ w_rp))\n",
    "\n",
    "# Calculate the returns of the risk parity portfolio.\n",
    "w_rp_rets = (rets @ w_rp).to_frame(\"Risk Parity\")\n",
    "\n",
    "# Calculate performance summaries.\n",
    "w_eq_summ = performance_summary(w_eq_rets)\n",
    "w_rp_summ = performance_summary(w_rp_rets)\n",
    "\n",
    "w_comp = pd.DataFrame(\n",
    "    np.array([w_eq, w_rp]).T,\n",
    "    index=rets.columns,\n",
    "    columns=[\"Equally Weighted\", \"Risk Parity\"],\n",
    ")\n",
    "\n",
    "w_comp[\"Tangency\"] = w_tan_df\n",
    "w_comp[\"Target\"] = target_port\n",
    "\n",
    "# Concat and display.\n",
    "display(w_comp.style.format(\"{:.3f}\"))\n",
    "pd.concat([w_eq_summ, w_rp_summ, tan_summ, target_summ], axis=0).T.style.format(\n",
    "    \"{:.4f}\"\n",
    ")"
   ]
  },
  {
   "attachments": {},
   "cell_type": "markdown",
   "metadata": {},
   "source": [
    "### 5.c\n",
    "\n",
    "It's very different. For starters, both the tangency and the target portfolio have long/short positions. The equally weighted and risk parity ones don't. Moreover, all of the weights are quite a bit smaller in the equally weighted and risk parity portfolios. The tangency and target portfolios are much more concentrated in their top 3 and bottom 3 assets. This also makes sense since by shorting assets, you can have much bigger magnitudes of weights (that still sum to 1) than if you only go long.\n",
    "\n",
    "Both portfolios have worse Sharpe ratios than the tangency and target MV portfolio. This is to be expected given that by definition the tangency maximizes sharpe, and the target portfolio maximizes sharpe subject to a target return. The equally weighted weighted and risk parity portfolios have much higher volatility than the target MV portfolio. They also have very similar Sharpe ratios and volatilities.\n",
    "\n",
    "This is somewhat unexpected given that by the risk-parity definition, the weight of an asset is inversely proportional to the volatility, so I would have expected it to have lower volatilility. However, this makes sense if we consider that the main factor is the covariances, which risk-parity does not account for at all."
   ]
  },
  {
   "attachments": {},
   "cell_type": "markdown",
   "metadata": {},
   "source": [
    "### 6"
   ]
  },
  {
   "cell_type": "code",
   "execution_count": 25,
   "metadata": {
    "ExecuteTime": {
     "end_time": "2023-07-08T21:40:47.370574Z",
     "start_time": "2023-07-08T21:40:47.301847Z"
    }
   },
   "outputs": [
    {
     "data": {
      "text/plain": "<pandas.io.formats.style.Styler at 0x153a7e580>",
      "text/html": "<style type=\"text/css\">\n</style>\n<table id=\"T_f99da\">\n  <thead>\n    <tr>\n      <th class=\"blank level0\" >&nbsp;</th>\n      <th id=\"T_f99da_level0_col0\" class=\"col_heading level0 col0\" >Tangency Portfolio</th>\n      <th id=\"T_f99da_level0_col1\" class=\"col_heading level0 col1\" >Tangency Portfolio (No TIPs)</th>\n    </tr>\n  </thead>\n  <tbody>\n    <tr>\n      <th id=\"T_f99da_level0_row0\" class=\"row_heading level0 row0\" >SPY</th>\n      <td id=\"T_f99da_row0_col0\" class=\"data row0 col0\" >27.42</td>\n      <td id=\"T_f99da_row0_col1\" class=\"data row0 col1\" >42.97</td>\n    </tr>\n    <tr>\n      <th id=\"T_f99da_level0_row1\" class=\"row_heading level0 row1\" >IEF</th>\n      <td id=\"T_f99da_row1_col0\" class=\"data row1 col0\" >26.28</td>\n      <td id=\"T_f99da_row1_col1\" class=\"data row1 col1\" >43.96</td>\n    </tr>\n    <tr>\n      <th id=\"T_f99da_level0_row2\" class=\"row_heading level0 row2\" >HYG</th>\n      <td id=\"T_f99da_row2_col0\" class=\"data row2 col0\" >14.01</td>\n      <td id=\"T_f99da_row2_col1\" class=\"data row2 col1\" >21.70</td>\n    </tr>\n    <tr>\n      <th id=\"T_f99da_level0_row3\" class=\"row_heading level0 row3\" >EEM</th>\n      <td id=\"T_f99da_row3_col0\" class=\"data row3 col0\" >3.61</td>\n      <td id=\"T_f99da_row3_col1\" class=\"data row3 col1\" >5.69</td>\n    </tr>\n    <tr>\n      <th id=\"T_f99da_level0_row4\" class=\"row_heading level0 row4\" >TIP</th>\n      <td id=\"T_f99da_row4_col0\" class=\"data row4 col0\" >3.16</td>\n      <td id=\"T_f99da_row4_col1\" class=\"data row4 col1\" >nan</td>\n    </tr>\n    <tr>\n      <th id=\"T_f99da_level0_row5\" class=\"row_heading level0 row5\" >EFA</th>\n      <td id=\"T_f99da_row5_col0\" class=\"data row5 col0\" >2.13</td>\n      <td id=\"T_f99da_row5_col1\" class=\"data row5 col1\" >2.85</td>\n    </tr>\n    <tr>\n      <th id=\"T_f99da_level0_row6\" class=\"row_heading level0 row6\" >DBC</th>\n      <td id=\"T_f99da_row6_col0\" class=\"data row6 col0\" >0.79</td>\n      <td id=\"T_f99da_row6_col1\" class=\"data row6 col1\" >1.58</td>\n    </tr>\n    <tr>\n      <th id=\"T_f99da_level0_row7\" class=\"row_heading level0 row7\" >IYR</th>\n      <td id=\"T_f99da_row7_col0\" class=\"data row7 col0\" >-4.26</td>\n      <td id=\"T_f99da_row7_col1\" class=\"data row7 col1\" >-6.53</td>\n    </tr>\n    <tr>\n      <th id=\"T_f99da_level0_row8\" class=\"row_heading level0 row8\" >PSP</th>\n      <td id=\"T_f99da_row8_col0\" class=\"data row8 col0\" >-5.92</td>\n      <td id=\"T_f99da_row8_col1\" class=\"data row8 col1\" >-8.99</td>\n    </tr>\n    <tr>\n      <th id=\"T_f99da_level0_row9\" class=\"row_heading level0 row9\" >BWX</th>\n      <td id=\"T_f99da_row9_col0\" class=\"data row9 col0\" >-16.32</td>\n      <td id=\"T_f99da_row9_col1\" class=\"data row9 col1\" >-25.16</td>\n    </tr>\n    <tr>\n      <th id=\"T_f99da_level0_row10\" class=\"row_heading level0 row10\" >QAI</th>\n      <td id=\"T_f99da_row10_col0\" class=\"data row10 col0\" >-49.90</td>\n      <td id=\"T_f99da_row10_col1\" class=\"data row10 col1\" >-77.07</td>\n    </tr>\n  </tbody>\n</table>\n"
     },
     "metadata": {},
     "output_type": "display_data"
    },
    {
     "data": {
      "text/plain": "<pandas.io.formats.style.Styler at 0x153aa4a30>",
      "text/html": "<style type=\"text/css\">\n</style>\n<table id=\"T_e09d9\">\n  <thead>\n    <tr>\n      <th class=\"blank level0\" >&nbsp;</th>\n      <th id=\"T_e09d9_level0_col0\" class=\"col_heading level0 col0\" >Tangency Portfolio (No TIPS)</th>\n      <th id=\"T_e09d9_level0_col1\" class=\"col_heading level0 col1\" >Tangency Portfolio</th>\n    </tr>\n  </thead>\n  <tbody>\n    <tr>\n      <th id=\"T_e09d9_level0_row0\" class=\"row_heading level0 row0\" >Annualized Mean</th>\n      <td id=\"T_e09d9_row0_col0\" class=\"data row0 col0\" >5.5651</td>\n      <td id=\"T_e09d9_row0_col1\" class=\"data row0 col1\" >3.5806</td>\n    </tr>\n    <tr>\n      <th id=\"T_e09d9_level0_row1\" class=\"row_heading level0 row1\" >Annualized Volatility</th>\n      <td id=\"T_e09d9_row1_col0\" class=\"data row1 col0\" >3.2388</td>\n      <td id=\"T_e09d9_row1_col1\" class=\"data row1 col1\" >2.0821</td>\n    </tr>\n    <tr>\n      <th id=\"T_e09d9_level0_row2\" class=\"row_heading level0 row2\" >Annualized Sharpe Ratio</th>\n      <td id=\"T_e09d9_row2_col0\" class=\"data row2 col0\" >1.7183</td>\n      <td id=\"T_e09d9_row2_col1\" class=\"data row2 col1\" >1.7197</td>\n    </tr>\n  </tbody>\n</table>\n"
     },
     "execution_count": 25,
     "metadata": {},
     "output_type": "execute_result"
    }
   ],
   "source": [
    "# Drop TIPS.\n",
    "rets_no_tips = rets.drop(\"TIP\", axis=1)\n",
    "\n",
    "# Calculate the tangency portfolio.\n",
    "w_tan_no_tips = mv_portfolio(rets_no_tips.mean(), rets_no_tips.cov())\n",
    "\n",
    "# Calculate the returns of the tangency portfolio.\n",
    "w_tan_no_tips_rets = (rets_no_tips @ w_tan_no_tips).to_frame(\n",
    "    \"Tangency Portfolio (No TIPS)\"\n",
    ")\n",
    "\n",
    "# Calculate the performance summary.\n",
    "w_tan_no_tips_summ = performance_summary(w_tan_no_tips_rets)\n",
    "\n",
    "# Display weights\n",
    "display(\n",
    "    pd.concat(\n",
    "        [\n",
    "            w_tan_df,\n",
    "            pd.Series(\n",
    "                w_tan_no_tips,\n",
    "                name=\"Tangency Portfolio (No TIPs)\",\n",
    "                index=rets_no_tips.columns,\n",
    "            ),\n",
    "        ],\n",
    "        axis=1,\n",
    "    )\n",
    "    .sort_values(by=\"Tangency Portfolio\", ascending=False)\n",
    "    .style.format(\"{:.2f}\")\n",
    ")\n",
    "\n",
    "pd.concat([w_tan_no_tips_summ, tan_summ], axis=0).T.style.format(\"{:.4f}\")"
   ]
  },
  {
   "attachments": {},
   "cell_type": "markdown",
   "metadata": {},
   "source": [
    "It, of course, has a lower Sharpe (but only by a little bit -- 1.718 vs 1.720). The reason for this is that adding assets **cannot** decrease the Sharpe ratio of the tangency portfolio. This is because if an asset contributes nothing, it will just have 0 weight in the tangency, so the best we can do is maintain an equal portfolio when we remove an asset. However, if the asset that we remove has non-zero weight, then it must decrease the Sharpe of the tangency.\n",
    "\n",
    "What is interesting is how much higher the mean and vol are of this new portfolio. Additionally, whilst the weights agree in terms of which are long/short, the magnitudes are vastly different. For example, QAI went from a weight of -50 to -77, and SPY/IEF went from mid-20s to low-40s."
   ]
  },
  {
   "cell_type": "code",
   "execution_count": 26,
   "metadata": {
    "ExecuteTime": {
     "end_time": "2023-07-08T21:40:47.413120Z",
     "start_time": "2023-07-08T21:40:47.357078Z"
    }
   },
   "outputs": [
    {
     "data": {
      "text/plain": "<pandas.io.formats.style.Styler at 0x153ab7610>",
      "text/html": "<style type=\"text/css\">\n</style>\n<table id=\"T_f747f\">\n  <thead>\n    <tr>\n      <th class=\"blank level0\" >&nbsp;</th>\n      <th id=\"T_f747f_level0_col0\" class=\"col_heading level0 col0\" >Target Portfolio (No TIPS)</th>\n      <th id=\"T_f747f_level0_col1\" class=\"col_heading level0 col1\" >Target Portfolio</th>\n    </tr>\n  </thead>\n  <tbody>\n    <tr>\n      <th id=\"T_f747f_level0_row0\" class=\"row_heading level0 row0\" >BWX</th>\n      <td id=\"T_f747f_row0_col0\" class=\"data row0 col0\" >-0.521</td>\n      <td id=\"T_f747f_row0_col1\" class=\"data row0 col1\" >-0.527</td>\n    </tr>\n    <tr>\n      <th id=\"T_f747f_level0_row1\" class=\"row_heading level0 row1\" >DBC</th>\n      <td id=\"T_f747f_row1_col0\" class=\"data row1 col0\" >0.034</td>\n      <td id=\"T_f747f_row1_col1\" class=\"data row1 col1\" >0.019</td>\n    </tr>\n    <tr>\n      <th id=\"T_f747f_level0_row2\" class=\"row_heading level0 row2\" >EEM</th>\n      <td id=\"T_f747f_row2_col0\" class=\"data row2 col0\" >0.017</td>\n      <td id=\"T_f747f_row2_col1\" class=\"data row2 col1\" >0.016</td>\n    </tr>\n    <tr>\n      <th id=\"T_f747f_level0_row3\" class=\"row_heading level0 row3\" >EFA</th>\n      <td id=\"T_f747f_row3_col0\" class=\"data row3 col0\" >0.051</td>\n      <td id=\"T_f747f_row3_col1\" class=\"data row3 col1\" >0.071</td>\n    </tr>\n    <tr>\n      <th id=\"T_f747f_level0_row4\" class=\"row_heading level0 row4\" >HYG</th>\n      <td id=\"T_f747f_row4_col0\" class=\"data row4 col0\" >0.491</td>\n      <td id=\"T_f747f_row4_col1\" class=\"data row4 col1\" >0.490</td>\n    </tr>\n    <tr>\n      <th id=\"T_f747f_level0_row5\" class=\"row_heading level0 row5\" >IEF</th>\n      <td id=\"T_f747f_row5_col0\" class=\"data row5 col0\" >0.844</td>\n      <td id=\"T_f747f_row5_col1\" class=\"data row5 col1\" >0.708</td>\n    </tr>\n    <tr>\n      <th id=\"T_f747f_level0_row6\" class=\"row_heading level0 row6\" >IYR</th>\n      <td id=\"T_f747f_row6_col0\" class=\"data row6 col0\" >-0.115</td>\n      <td id=\"T_f747f_row6_col1\" class=\"data row6 col1\" >-0.119</td>\n    </tr>\n    <tr>\n      <th id=\"T_f747f_level0_row7\" class=\"row_heading level0 row7\" >PSP</th>\n      <td id=\"T_f747f_row7_col0\" class=\"data row7 col0\" >-0.256</td>\n      <td id=\"T_f747f_row7_col1\" class=\"data row7 col1\" >-0.263</td>\n    </tr>\n    <tr>\n      <th id=\"T_f747f_level0_row8\" class=\"row_heading level0 row8\" >QAI</th>\n      <td id=\"T_f747f_row8_col0\" class=\"data row8 col0\" >-0.162</td>\n      <td id=\"T_f747f_row8_col1\" class=\"data row8 col1\" >-0.208</td>\n    </tr>\n    <tr>\n      <th id=\"T_f747f_level0_row9\" class=\"row_heading level0 row9\" >SPY</th>\n      <td id=\"T_f747f_row9_col0\" class=\"data row9 col0\" >0.618</td>\n      <td id=\"T_f747f_row9_col1\" class=\"data row9 col1\" >0.604</td>\n    </tr>\n    <tr>\n      <th id=\"T_f747f_level0_row10\" class=\"row_heading level0 row10\" >TIP</th>\n      <td id=\"T_f747f_row10_col0\" class=\"data row10 col0\" >nan</td>\n      <td id=\"T_f747f_row10_col1\" class=\"data row10 col1\" >0.209</td>\n    </tr>\n  </tbody>\n</table>\n"
     },
     "metadata": {},
     "output_type": "display_data"
    },
    {
     "data": {
      "text/plain": "                         Target Portfolio (No TIPS)  Target Portfolio\nAnnualized Mean                            0.090000          0.090000\nAnnualized Volatility                      0.059920          0.059649\nAnnualized Sharpe Ratio                    1.502004          1.508836",
      "text/html": "<div>\n<style scoped>\n    .dataframe tbody tr th:only-of-type {\n        vertical-align: middle;\n    }\n\n    .dataframe tbody tr th {\n        vertical-align: top;\n    }\n\n    .dataframe thead th {\n        text-align: right;\n    }\n</style>\n<table border=\"1\" class=\"dataframe\">\n  <thead>\n    <tr style=\"text-align: right;\">\n      <th></th>\n      <th>Target Portfolio (No TIPS)</th>\n      <th>Target Portfolio</th>\n    </tr>\n  </thead>\n  <tbody>\n    <tr>\n      <th>Annualized Mean</th>\n      <td>0.090000</td>\n      <td>0.090000</td>\n    </tr>\n    <tr>\n      <th>Annualized Volatility</th>\n      <td>0.059920</td>\n      <td>0.059649</td>\n    </tr>\n    <tr>\n      <th>Annualized Sharpe Ratio</th>\n      <td>1.502004</td>\n      <td>1.508836</td>\n    </tr>\n  </tbody>\n</table>\n</div>"
     },
     "metadata": {},
     "output_type": "display_data"
    }
   ],
   "source": [
    "w_tan_notips_target = mv_portfolio(\n",
    "    rets_no_tips.mean(), rets_no_tips.cov(), target=0.0075\n",
    ")\n",
    "\n",
    "w_tan_notips_target_rets = (rets_no_tips @ w_tan_notips_target).to_frame(\n",
    "    \"Target Portfolio (No TIPS)\"\n",
    ")\n",
    "\n",
    "w_tan_notips_target_summ = performance_summary(w_tan_notips_target_rets).T\n",
    "w_tan_notips_target_summ[\"Target Portfolio\"] = target_summ.T[\"Target Portfolio\"]\n",
    "\n",
    "target_port.loc[:\"SPY\", \"Target Portfolio (No TIPS)\"] = w_tan_notips_target\n",
    "display(target_port[target_port.columns[::-1]].style.format(\"{:.3f}\"))\n",
    "display(w_tan_notips_target_summ)"
   ]
  },
  {
   "attachments": {},
   "cell_type": "markdown",
   "metadata": {},
   "source": [
    "It has extremely similar allocations across the board, all positions where the original target portfolio was short are still short, all positions where the target portfolio was long are still long. The only big-ish difference is that the IEF allocation dropped from 0.844 to 0.708. This intuitively makes sense, given that TIP had the highest correlation with IEF, and thus we've essentially transfered the weight that was on TIP to IEF.\n",
    "\n",
    "The Sharpe ratios and volatilities are almost identical, meaning that we haven't lost much by discarding TIPS."
   ]
  },
  {
   "attachments": {},
   "cell_type": "markdown",
   "metadata": {},
   "source": [
    "## Part 3 - Extras\n",
    "\n",
    "### 1.a"
   ]
  },
  {
   "cell_type": "code",
   "execution_count": 27,
   "metadata": {
    "ExecuteTime": {
     "end_time": "2023-07-08T21:40:47.413809Z",
     "start_time": "2023-07-08T21:40:47.400280Z"
    }
   },
   "outputs": [
    {
     "data": {
      "text/plain": "<pandas.io.formats.style.Styler at 0x153ab7910>",
      "text/html": "<style type=\"text/css\">\n</style>\n<table id=\"T_47df3\">\n  <thead>\n    <tr>\n      <th class=\"blank level0\" >&nbsp;</th>\n      <th id=\"T_47df3_level0_col0\" class=\"col_heading level0 col0\" >Two Asset</th>\n    </tr>\n  </thead>\n  <tbody>\n    <tr>\n      <th id=\"T_47df3_level0_row0\" class=\"row_heading level0 row0\" >TIP</th>\n      <td id=\"T_47df3_row0_col0\" class=\"data row0 col0\" >19.86</td>\n    </tr>\n    <tr>\n      <th id=\"T_47df3_level0_row1\" class=\"row_heading level0 row1\" >IEF</th>\n      <td id=\"T_47df3_row1_col0\" class=\"data row1 col0\" >-18.86</td>\n    </tr>\n  </tbody>\n</table>\n"
     },
     "metadata": {},
     "output_type": "display_data"
    },
    {
     "data": {
      "text/plain": "<pandas.io.formats.style.Styler at 0x153a9d850>",
      "text/html": "<style type=\"text/css\">\n</style>\n<table id=\"T_3b27e\">\n  <thead>\n    <tr>\n      <th class=\"blank level0\" >&nbsp;</th>\n      <th id=\"T_3b27e_level0_col0\" class=\"col_heading level0 col0\" >Annualized Mean</th>\n      <th id=\"T_3b27e_level0_col1\" class=\"col_heading level0 col1\" >Annualized Volatility</th>\n      <th id=\"T_3b27e_level0_col2\" class=\"col_heading level0 col2\" >Annualized Sharpe Ratio</th>\n    </tr>\n  </thead>\n  <tbody>\n    <tr>\n      <th id=\"T_3b27e_level0_row0\" class=\"row_heading level0 row0\" >Two Asset</th>\n      <td id=\"T_3b27e_row0_col0\" class=\"data row0 col0\" >0.16</td>\n      <td id=\"T_3b27e_row0_col1\" class=\"data row0 col1\" >0.86</td>\n      <td id=\"T_3b27e_row0_col2\" class=\"data row0 col2\" >0.19</td>\n    </tr>\n  </tbody>\n</table>\n"
     },
     "metadata": {},
     "output_type": "display_data"
    }
   ],
   "source": [
    "two_asset = rets[[\"TIP\", \"IEF\"]]\n",
    "\n",
    "w_two_asset = mv_portfolio(two_asset.mean(), two_asset.cov(), target=0.0135)\n",
    "w_two_asset = pd.DataFrame(w_two_asset, index=two_asset.columns, columns=[\"Two Asset\"])\n",
    "display(w_two_asset.style.format(\"{:.2f}\"))\n",
    "display(performance_summary(two_asset @ w_two_asset).style.format(\"{:.2f}\"))"
   ]
  },
  {
   "attachments": {},
   "cell_type": "markdown",
   "metadata": {},
   "source": [
    "### 1.b\n",
    "\n",
    "The cause behind the extreme long/short is that in the two asset case, we short the asset with the lower Sharpe, to fund the asset with the higher Sharpe. Thus, we are going \"all-in\" on the asset with the higher Sharpe.\n",
    "\n",
    "### 1.c"
   ]
  },
  {
   "cell_type": "code",
   "execution_count": 28,
   "metadata": {
    "ExecuteTime": {
     "end_time": "2023-07-08T21:40:47.429001Z",
     "start_time": "2023-07-08T21:40:47.415261Z"
    }
   },
   "outputs": [
    {
     "data": {
      "text/plain": "<pandas.io.formats.style.Styler at 0x153ab7a60>",
      "text/html": "<style type=\"text/css\">\n</style>\n<table id=\"T_81d47\">\n  <thead>\n    <tr>\n      <th class=\"blank level0\" >&nbsp;</th>\n      <th id=\"T_81d47_level0_col0\" class=\"col_heading level0 col0\" >Two Asset Perturbed</th>\n    </tr>\n  </thead>\n  <tbody>\n    <tr>\n      <th id=\"T_81d47_level0_row0\" class=\"row_heading level0 row0\" >TIP</th>\n      <td id=\"T_81d47_row0_col0\" class=\"data row0 col0\" >-13.53</td>\n    </tr>\n    <tr>\n      <th id=\"T_81d47_level0_row1\" class=\"row_heading level0 row1\" >IEF</th>\n      <td id=\"T_81d47_row1_col0\" class=\"data row1 col0\" >14.53</td>\n    </tr>\n  </tbody>\n</table>\n"
     },
     "metadata": {},
     "output_type": "display_data"
    },
    {
     "data": {
      "text/plain": "<pandas.io.formats.style.Styler at 0x153aa4fa0>",
      "text/html": "<style type=\"text/css\">\n</style>\n<table id=\"T_d8fa8\">\n  <thead>\n    <tr>\n      <th class=\"blank level0\" >&nbsp;</th>\n      <th id=\"T_d8fa8_level0_col0\" class=\"col_heading level0 col0\" >Annualized Mean</th>\n      <th id=\"T_d8fa8_level0_col1\" class=\"col_heading level0 col1\" >Annualized Volatility</th>\n      <th id=\"T_d8fa8_level0_col2\" class=\"col_heading level0 col2\" >Annualized Sharpe Ratio</th>\n    </tr>\n  </thead>\n  <tbody>\n    <tr>\n      <th id=\"T_d8fa8_level0_row0\" class=\"row_heading level0 row0\" >Two Asset Perturbed</th>\n      <td id=\"T_d8fa8_row0_col0\" class=\"data row0 col0\" >-0.08</td>\n      <td id=\"T_d8fa8_row0_col1\" class=\"data row0 col1\" >0.65</td>\n      <td id=\"T_d8fa8_row0_col2\" class=\"data row0 col2\" >-0.13</td>\n    </tr>\n  </tbody>\n</table>\n"
     },
     "metadata": {},
     "output_type": "display_data"
    }
   ],
   "source": [
    "two_asset_perturbed = two_asset.mean()\n",
    "two_asset_perturbed[\"TIP\"] -= 0.0015\n",
    "\n",
    "w_two_asset_perturbed = mv_portfolio(\n",
    "    two_asset_perturbed, two_asset.cov(), target=0.0135\n",
    ")\n",
    "\n",
    "w_two_asset_perturbed = pd.DataFrame(\n",
    "    w_two_asset_perturbed, index=two_asset.columns, columns=[\"Two Asset Perturbed\"]\n",
    ")\n",
    "\n",
    "display(w_two_asset_perturbed.style.format(\"{:.2f}\"))\n",
    "display(performance_summary(two_asset @ w_two_asset_perturbed).style.format(\"{:.2f}\"))"
   ]
  },
  {
   "attachments": {},
   "cell_type": "markdown",
   "metadata": {},
   "source": [
    "We entirely flipped the allocation, and now have negative returns."
   ]
  },
  {
   "attachments": {},
   "cell_type": "markdown",
   "metadata": {},
   "source": [
    "### 1.d\n",
    "\n",
    "It tells you that they are not precise whatsoever (vanilla MV). This is because due to high correlations, the covariance matrix is close to singular, and thus the inverse is very unstable. That means that even a small (1.5 basis-point) change in the returns can cause a huge change in the weights.\n",
    "\n",
    "### 2.a, d"
   ]
  },
  {
   "cell_type": "code",
   "execution_count": 29,
   "metadata": {
    "ExecuteTime": {
     "end_time": "2023-07-08T21:40:47.519721Z",
     "start_time": "2023-07-08T21:40:47.435258Z"
    }
   },
   "outputs": [
    {
     "data": {
      "text/plain": "<pandas.io.formats.style.Styler at 0x153aa4fa0>",
      "text/html": "<style type=\"text/css\">\n</style>\n<table id=\"T_a9511\">\n  <thead>\n    <tr>\n      <th class=\"blank level0\" >&nbsp;</th>\n      <th id=\"T_a9511_level0_col0\" class=\"col_heading level0 col0\" >Diagonal Covariance</th>\n      <th id=\"T_a9511_level0_col1\" class=\"col_heading level0 col1\" >Risk Parity</th>\n      <th id=\"T_a9511_level0_col2\" class=\"col_heading level0 col2\" >Target Portfolio</th>\n    </tr>\n  </thead>\n  <tbody>\n    <tr>\n      <th id=\"T_a9511_level0_row0\" class=\"row_heading level0 row0\" >BWX</th>\n      <td id=\"T_a9511_row0_col0\" class=\"data row0 col0\" >-0.07</td>\n      <td id=\"T_a9511_row0_col1\" class=\"data row0 col1\" >0.22</td>\n      <td id=\"T_a9511_row0_col2\" class=\"data row0 col2\" >-0.53</td>\n    </tr>\n    <tr>\n      <th id=\"T_a9511_level0_row1\" class=\"row_heading level0 row1\" >DBC</th>\n      <td id=\"T_a9511_row1_col0\" class=\"data row1 col0\" >0.01</td>\n      <td id=\"T_a9511_row1_col1\" class=\"data row1 col1\" >0.10</td>\n      <td id=\"T_a9511_row1_col2\" class=\"data row1 col2\" >0.02</td>\n    </tr>\n    <tr>\n      <th id=\"T_a9511_level0_row2\" class=\"row_heading level0 row2\" >EEM</th>\n      <td id=\"T_a9511_row2_col0\" class=\"data row2 col0\" >0.05</td>\n      <td id=\"T_a9511_row2_col1\" class=\"data row2 col1\" >0.09</td>\n      <td id=\"T_a9511_row2_col2\" class=\"data row2 col2\" >0.02</td>\n    </tr>\n    <tr>\n      <th id=\"T_a9511_level0_row3\" class=\"row_heading level0 row3\" >EFA</th>\n      <td id=\"T_a9511_row3_col0\" class=\"data row3 col0\" >0.09</td>\n      <td id=\"T_a9511_row3_col1\" class=\"data row3 col1\" >0.11</td>\n      <td id=\"T_a9511_row3_col2\" class=\"data row3 col2\" >0.07</td>\n    </tr>\n    <tr>\n      <th id=\"T_a9511_level0_row4\" class=\"row_heading level0 row4\" >HYG</th>\n      <td id=\"T_a9511_row4_col0\" class=\"data row4 col0\" >0.24</td>\n      <td id=\"T_a9511_row4_col1\" class=\"data row4 col1\" >0.20</td>\n      <td id=\"T_a9511_row4_col2\" class=\"data row4 col2\" >0.49</td>\n    </tr>\n    <tr>\n      <th id=\"T_a9511_level0_row5\" class=\"row_heading level0 row5\" >IEF</th>\n      <td id=\"T_a9511_row5_col0\" class=\"data row5 col0\" >0.04</td>\n      <td id=\"T_a9511_row5_col1\" class=\"data row5 col1\" >0.29</td>\n      <td id=\"T_a9511_row5_col2\" class=\"data row5 col2\" >0.71</td>\n    </tr>\n    <tr>\n      <th id=\"T_a9511_level0_row6\" class=\"row_heading level0 row6\" >IYR</th>\n      <td id=\"T_a9511_row6_col0\" class=\"data row6 col0\" >0.12</td>\n      <td id=\"T_a9511_row6_col1\" class=\"data row6 col1\" >0.10</td>\n      <td id=\"T_a9511_row6_col2\" class=\"data row6 col2\" >-0.12</td>\n    </tr>\n    <tr>\n      <th id=\"T_a9511_level0_row7\" class=\"row_heading level0 row7\" >PSP</th>\n      <td id=\"T_a9511_row7_col0\" class=\"data row7 col0\" >0.08</td>\n      <td id=\"T_a9511_row7_col1\" class=\"data row7 col1\" >0.08</td>\n      <td id=\"T_a9511_row7_col2\" class=\"data row7 col2\" >-0.26</td>\n    </tr>\n    <tr>\n      <th id=\"T_a9511_level0_row8\" class=\"row_heading level0 row8\" >QAI</th>\n      <td id=\"T_a9511_row8_col0\" class=\"data row8 col0\" >0.06</td>\n      <td id=\"T_a9511_row8_col1\" class=\"data row8 col1\" >0.36</td>\n      <td id=\"T_a9511_row8_col2\" class=\"data row8 col2\" >-0.21</td>\n    </tr>\n    <tr>\n      <th id=\"T_a9511_level0_row9\" class=\"row_heading level0 row9\" >SPY</th>\n      <td id=\"T_a9511_row9_col0\" class=\"data row9 col0\" >0.22</td>\n      <td id=\"T_a9511_row9_col1\" class=\"data row9 col1\" >0.12</td>\n      <td id=\"T_a9511_row9_col2\" class=\"data row9 col2\" >0.60</td>\n    </tr>\n    <tr>\n      <th id=\"T_a9511_level0_row10\" class=\"row_heading level0 row10\" >TIP</th>\n      <td id=\"T_a9511_row10_col0\" class=\"data row10 col0\" >0.16</td>\n      <td id=\"T_a9511_row10_col1\" class=\"data row10 col1\" >0.35</td>\n      <td id=\"T_a9511_row10_col2\" class=\"data row10 col2\" >0.21</td>\n    </tr>\n  </tbody>\n</table>\n"
     },
     "metadata": {},
     "output_type": "display_data"
    },
    {
     "data": {
      "text/plain": "<pandas.io.formats.style.Styler at 0x153a7ea60>",
      "text/html": "<style type=\"text/css\">\n</style>\n<table id=\"T_1ed26\">\n  <thead>\n    <tr>\n      <th class=\"blank level0\" >&nbsp;</th>\n      <th id=\"T_1ed26_level0_col0\" class=\"col_heading level0 col0\" >Diagonal Covariance</th>\n      <th id=\"T_1ed26_level0_col1\" class=\"col_heading level0 col1\" >Risk Parity</th>\n      <th id=\"T_1ed26_level0_col2\" class=\"col_heading level0 col2\" >Target Portfolio</th>\n    </tr>\n  </thead>\n  <tbody>\n    <tr>\n      <th id=\"T_1ed26_level0_row0\" class=\"row_heading level0 row0\" >Annualized Mean</th>\n      <td id=\"T_1ed26_row0_col0\" class=\"data row0 col0\" >0.09</td>\n      <td id=\"T_1ed26_row0_col1\" class=\"data row0 col1\" >0.09</td>\n      <td id=\"T_1ed26_row0_col2\" class=\"data row0 col2\" >0.09</td>\n    </tr>\n    <tr>\n      <th id=\"T_1ed26_level0_row1\" class=\"row_heading level0 row1\" >Annualized Volatility</th>\n      <td id=\"T_1ed26_row1_col0\" class=\"data row1 col0\" >0.11</td>\n      <td id=\"T_1ed26_row1_col1\" class=\"data row1 col1\" >0.15</td>\n      <td id=\"T_1ed26_row1_col2\" class=\"data row1 col2\" >0.06</td>\n    </tr>\n    <tr>\n      <th id=\"T_1ed26_level0_row2\" class=\"row_heading level0 row2\" >Annualized Sharpe Ratio</th>\n      <td id=\"T_1ed26_row2_col0\" class=\"data row2 col0\" >0.79</td>\n      <td id=\"T_1ed26_row2_col1\" class=\"data row2 col1\" >0.60</td>\n      <td id=\"T_1ed26_row2_col2\" class=\"data row2 col2\" >1.51</td>\n    </tr>\n  </tbody>\n</table>\n"
     },
     "metadata": {},
     "output_type": "display_data"
    }
   ],
   "source": [
    "cov_diag = np.diag(np.diag(rets.cov()))\n",
    "\n",
    "cov_diag = pd.DataFrame(cov_diag, index=rets.columns, columns=rets.columns)\n",
    "\n",
    "w_diag = mv_portfolio(rets.mean(), cov_diag, target=0.0075)\n",
    "w_diag = pd.DataFrame(w_diag, index=rets.columns, columns=[\"Diagonal Covariance\"])\n",
    "\n",
    "w_diag_rets = rets @ w_diag\n",
    "\n",
    "# Compare with risk parity.\n",
    "w_diag[\"Risk Parity\"] = w_rp\n",
    "w_diag[\"Target Portfolio\"] = target_port[\"Target Portfolio\"]\n",
    "w_diag_summ = performance_summary(w_diag_rets).T\n",
    "w_diag_summ[\"Risk Parity\"] = w_rp_summ.T\n",
    "w_diag_summ[\"Target Portfolio\"] = target_summ.T[\"Target Portfolio\"]\n",
    "\n",
    "display(w_diag.style.format(\"{:.2f}\"))\n",
    "display(w_diag_summ.style.format(\"{:.2f}\"))"
   ]
  },
  {
   "attachments": {},
   "cell_type": "markdown",
   "metadata": {},
   "source": [
    "### 2.a - Discussion\n",
    "\n",
    "It looks quite different from the MV target portfolio, but somewhat similar to the risk-parity one. It has a better Sharpe ratio than the risk-parity portfolio, whilst also not have the extreme weights that the MV target portfolio has.\n",
    "\n",
    "### 2.b\n",
    "\n",
    "Between 3.1 and 3.2, this tells us that the tangency portfolio is highly unstable. Thus, it can be quite hard to implement it in practice, since we expect to have quite a bit of error in our estimates of the returns and covariances.\n",
    "\n",
    "### 2.c\n",
    "\n",
    "The pros: you are able to keep the weights in-line by using simple heuristics which place bounds on the weights. You can then use MV-optimization to get the best weights within those bounds. It's also easy to interpret, and easy to implement. Moreover, you can follow the mandate of the fund, and draw on the experience of portfolio managers when imposing those constraints. \n",
    "\n",
    "Also, using a diagonalized covariance matrix is somewhat suspect, given that we **know** assets have non-zero covariances so it is an extremely strong assumption to make. Beyond this course: we can also use more advanced shrinkage methods such as Ledoit-Wolf, OAS, or Marcenko-Pastur.\n",
    "\n",
    "The cons: you can needlessly limit your Sharpe ratio if one of the constraints you place is bounding. By removing the constraints you're able to get a purely quantitative allocation, which likely will perform better than the constrained one. It is also somewhat arbitrary, and can be hard to justify why you chose the constraints that you did.\n",
    "\n",
    "### 2.d\n",
    "\n",
    "It agrees with risk-parity for the most part. The weights are mostly the same, with the exception of BWX, where we are short in the diagonalized case, but long in the risk-parity case. This makes sense since BWX has low variance but also low returns, and risk-parity only looks at the variances.\n"
   ]
  },
  {
   "attachments": {},
   "cell_type": "markdown",
   "metadata": {},
   "source": [
    "### 3.a,b,c"
   ]
  },
  {
   "cell_type": "code",
   "execution_count": 30,
   "metadata": {
    "ExecuteTime": {
     "end_time": "2023-07-08T21:40:47.529883Z",
     "start_time": "2023-07-08T21:40:47.515264Z"
    }
   },
   "outputs": [
    {
     "ename": "ImportError",
     "evalue": "cannot import name 'pairwise' from 'itertools' (unknown location)",
     "output_type": "error",
     "traceback": [
      "\u001B[0;31m---------------------------------------------------------------------------\u001B[0m",
      "\u001B[0;31mImportError\u001B[0m                               Traceback (most recent call last)",
      "Input \u001B[0;32mIn [30]\u001B[0m, in \u001B[0;36m<cell line: 5>\u001B[0;34m()\u001B[0m\n\u001B[1;32m      1\u001B[0m \u001B[38;5;66;03m# You may cover iterators with Seb later in the course,\u001B[39;00m\n\u001B[1;32m      2\u001B[0m \u001B[38;5;66;03m# but itertools (and the external library more_itertools)\u001B[39;00m\n\u001B[1;32m      3\u001B[0m \u001B[38;5;66;03m# are among the most useful libraries in Python when it comes\u001B[39;00m\n\u001B[1;32m      4\u001B[0m \u001B[38;5;66;03m# using any kind of looping.\u001B[39;00m\n\u001B[0;32m----> 5\u001B[0m \u001B[38;5;28;01mfrom\u001B[39;00m \u001B[38;5;21;01mitertools\u001B[39;00m \u001B[38;5;28;01mimport\u001B[39;00m pairwise\n\u001B[1;32m      7\u001B[0m summary_comp \u001B[38;5;241m=\u001B[39m pd\u001B[38;5;241m.\u001B[39mDataFrame(\n\u001B[1;32m      8\u001B[0m     columns\u001B[38;5;241m=\u001B[39m[\u001B[38;5;124m\"\u001B[39m\u001B[38;5;124mEqual Weight\u001B[39m\u001B[38;5;124m\"\u001B[39m, \u001B[38;5;124m\"\u001B[39m\u001B[38;5;124mRisk Parity\u001B[39m\u001B[38;5;124m\"\u001B[39m, \u001B[38;5;124m\"\u001B[39m\u001B[38;5;124mTangency\u001B[39m\u001B[38;5;124m\"\u001B[39m, \u001B[38;5;124m\"\u001B[39m\u001B[38;5;124mDiagonal\u001B[39m\u001B[38;5;124m\"\u001B[39m]\n\u001B[1;32m      9\u001B[0m )\n\u001B[1;32m     11\u001B[0m \u001B[38;5;66;03m# Step through 2014-2023...\u001B[39;00m\n",
      "\u001B[0;31mImportError\u001B[0m: cannot import name 'pairwise' from 'itertools' (unknown location)"
     ]
    }
   ],
   "source": [
    "# You may cover iterators with Seb later in the course,\n",
    "# but itertools (and the external library more_itertools)\n",
    "# are among the most useful libraries in Python when it comes\n",
    "# using any kind of looping.\n",
    "from itertools import pairwise\n",
    "\n",
    "summary_comp = pd.DataFrame(\n",
    "    columns=[\"Equal Weight\", \"Risk Parity\", \"Tangency\", \"Diagonal\"]\n",
    ")\n",
    "\n",
    "# Step through 2014-2023...\n",
    "for curr_year, next_year in pairwise(range(2014, 2023)):\n",
    "    # Turn year to string.\n",
    "    curr_year = str(curr_year)\n",
    "    next_year = str(next_year)\n",
    "\n",
    "    # Get returns for this year and next year\n",
    "    in_sample = rets.loc[curr_year, :]\n",
    "    out_sample = rets.loc[next_year, :]\n",
    "\n",
    "    # Calculate the covariance matrix and diagonalized covariance matrix.\n",
    "    is_cov = in_sample.cov()\n",
    "    is_cov_diag = pd.DataFrame(\n",
    "        np.diag(np.diag(is_cov)), index=in_sample.columns, columns=in_sample.columns\n",
    "    )\n",
    "    is_mean = in_sample.mean()\n",
    "\n",
    "    # Calculate the different weights & Returns\n",
    "    is_w_eq = np.ones(len(in_sample.columns)) / len(in_sample.columns)\n",
    "    w_eq_rets = (out_sample @ is_w_eq).to_frame(\"Equal Weight\")\n",
    "\n",
    "    is_w_rp = np.array(1 / np.sqrt(np.diag(is_cov)))\n",
    "    w_rp_rets = (out_sample @ is_w_rp).to_frame(\"Risk Parity\")\n",
    "\n",
    "    is_w_tan = mv_portfolio(is_mean, is_cov)\n",
    "    is_w_diag = mv_portfolio(is_mean, is_cov_diag)\n",
    "\n",
    "    w_tan_rets = (out_sample @ is_w_tan).to_frame(\"Tangency\")\n",
    "    w_diag_rets = (out_sample @ is_w_diag).to_frame(\"Diagonal\")\n",
    "\n",
    "    # Append to existing...\n",
    "    all_rets = pd.concat([w_eq_rets, w_rp_rets, w_tan_rets, w_diag_rets], axis=1)\n",
    "    summary_comp = pd.concat([summary_comp, all_rets], axis=0)\n",
    "\n",
    "performance_summary(summary_comp).style.format(\"{:.2f}\")"
   ]
  },
  {
   "attachments": {},
   "cell_type": "markdown",
   "metadata": {},
   "source": [
    "Risk-parity does the worst, and also has the highest volatility. Equally weighted performs the best, with tangency and diagonalized covariance close behind. There is something to be said for the simplicity of equally weighted, and it's ability to perform well."
   ]
  }
 ],
 "metadata": {
  "kernelspec": {
   "display_name": "Python 3",
   "language": "python",
   "name": "python3"
  },
  "language_info": {
   "codemirror_mode": {
    "name": "ipython",
    "version": 3
   },
   "file_extension": ".py",
   "mimetype": "text/x-python",
   "name": "python",
   "nbconvert_exporter": "python",
   "pygments_lexer": "ipython3",
   "version": "3.10.11"
  },
  "orig_nbformat": 4
 },
 "nbformat": 4,
 "nbformat_minor": 2
}
