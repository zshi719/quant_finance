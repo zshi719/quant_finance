{
 "cells": [
  {
   "cell_type": "raw",
   "source": [
    "---\n",
    "title: \"HW1 Q2 Mean-Variance Optimization\"\n",
    "substitle: \"FINM 25000\"\n",
    "author: \"Victoria Shi\"\n",
    "format:\n",
    "  html:\n",
    "    toc: true\n",
    "    toc-title: Contents\n",
    "    toc-depth: 4\n",
    "    code-fold: show\n",
    "    self-contained: true\n",
    "    html-math-method: mathml\n",
    "jupyter: python3\n",
    "---"
   ],
   "metadata": {
    "collapsed": false
   }
  },
  {
   "cell_type": "code",
   "execution_count": 437,
   "metadata": {
    "ExecuteTime": {
     "end_time": "2023-07-09T03:17:00.030131Z",
     "start_time": "2023-07-09T03:16:59.890415Z"
    }
   },
   "outputs": [],
   "source": [
    "import numpy as np\n",
    "import pandas as pd\n",
    "import seaborn as sns\n",
    "pd.options.display.float_format = '{:.4f}'.format\n",
    "sns.set_theme(style='white', palette='crest', font_scale = 1.2, rc={'figure.figsize': (12, 8)})"
   ]
  },
  {
   "cell_type": "markdown",
   "metadata": {},
   "source": [
    "### 1. Summary Statistics"
   ]
  },
  {
   "cell_type": "code",
   "execution_count": 438,
   "outputs": [],
   "source": [
    "def performance_summary(return_data, adj_factor=12):\n",
    "\n",
    "    ret_summary = {\"an_mean\": return_data.mean() * adj_factor,\n",
    "                   \"an_volatility\": return_data.std() * np.sqrt(adj_factor)}\n",
    "    ret_summary[\"an_sharpe\"] = (\n",
    "            ret_summary[\"an_mean\"] / ret_summary[\"an_volatility\"]\n",
    "    )\n",
    "    # return  data has column names then match column names with numbers\n",
    "    try:\n",
    "        ret_summary = pd.DataFrame(ret_summary, index=return_data.columns)\n",
    "    except AttributeError:\n",
    "        ret_summary = pd.Series(ret_summary)\n",
    "\n",
    "    return ret_summary"
   ],
   "metadata": {
    "collapsed": false,
    "ExecuteTime": {
     "end_time": "2023-07-09T03:17:00.081978Z",
     "start_time": "2023-07-09T03:16:59.905384Z"
    }
   }
  },
  {
   "cell_type": "markdown",
   "source": [
    "### a) Annualized Mean, Volatility, and Sharpe Ratio"
   ],
   "metadata": {
    "collapsed": false
   }
  },
  {
   "cell_type": "code",
   "execution_count": 439,
   "outputs": [
    {
     "data": {
      "text/plain": "              BWX     DBC     EEM     EFA     HYG     IEF     IYR    PSP  \\\nDate                                                                       \n2009-04-30 0.0084 -0.0016  0.1550  0.1146  0.1379 -0.0280  0.2956 0.2296   \n2009-05-31 0.0541  0.1631  0.1599  0.1324  0.0290 -0.0203  0.0232 0.0544   \n2009-06-30 0.0045 -0.0269 -0.0231 -0.0146  0.0329 -0.0062 -0.0255 0.0448   \n2009-07-31 0.0313  0.0186  0.1102  0.1004  0.0692  0.0083  0.1058 0.1433   \n2009-08-31 0.0072 -0.0408 -0.0136  0.0446 -0.0174  0.0072  0.1315 0.0330   \n\n               QAI     SPY     TIP  \nDate                                \n2009-04-30  0.0223  0.0988 -0.0185  \n2009-05-31  0.0283  0.0589  0.0204  \n2009-06-30 -0.0040 -0.0013  0.0014  \n2009-07-31  0.0154  0.0746  0.0009  \n2009-08-31 -0.0046  0.0365  0.0080  ",
      "text/html": "<div>\n<style scoped>\n    .dataframe tbody tr th:only-of-type {\n        vertical-align: middle;\n    }\n\n    .dataframe tbody tr th {\n        vertical-align: top;\n    }\n\n    .dataframe thead th {\n        text-align: right;\n    }\n</style>\n<table border=\"1\" class=\"dataframe\">\n  <thead>\n    <tr style=\"text-align: right;\">\n      <th></th>\n      <th>BWX</th>\n      <th>DBC</th>\n      <th>EEM</th>\n      <th>EFA</th>\n      <th>HYG</th>\n      <th>IEF</th>\n      <th>IYR</th>\n      <th>PSP</th>\n      <th>QAI</th>\n      <th>SPY</th>\n      <th>TIP</th>\n    </tr>\n    <tr>\n      <th>Date</th>\n      <th></th>\n      <th></th>\n      <th></th>\n      <th></th>\n      <th></th>\n      <th></th>\n      <th></th>\n      <th></th>\n      <th></th>\n      <th></th>\n      <th></th>\n    </tr>\n  </thead>\n  <tbody>\n    <tr>\n      <th>2009-04-30</th>\n      <td>0.0084</td>\n      <td>-0.0016</td>\n      <td>0.1550</td>\n      <td>0.1146</td>\n      <td>0.1379</td>\n      <td>-0.0280</td>\n      <td>0.2956</td>\n      <td>0.2296</td>\n      <td>0.0223</td>\n      <td>0.0988</td>\n      <td>-0.0185</td>\n    </tr>\n    <tr>\n      <th>2009-05-31</th>\n      <td>0.0541</td>\n      <td>0.1631</td>\n      <td>0.1599</td>\n      <td>0.1324</td>\n      <td>0.0290</td>\n      <td>-0.0203</td>\n      <td>0.0232</td>\n      <td>0.0544</td>\n      <td>0.0283</td>\n      <td>0.0589</td>\n      <td>0.0204</td>\n    </tr>\n    <tr>\n      <th>2009-06-30</th>\n      <td>0.0045</td>\n      <td>-0.0269</td>\n      <td>-0.0231</td>\n      <td>-0.0146</td>\n      <td>0.0329</td>\n      <td>-0.0062</td>\n      <td>-0.0255</td>\n      <td>0.0448</td>\n      <td>-0.0040</td>\n      <td>-0.0013</td>\n      <td>0.0014</td>\n    </tr>\n    <tr>\n      <th>2009-07-31</th>\n      <td>0.0313</td>\n      <td>0.0186</td>\n      <td>0.1102</td>\n      <td>0.1004</td>\n      <td>0.0692</td>\n      <td>0.0083</td>\n      <td>0.1058</td>\n      <td>0.1433</td>\n      <td>0.0154</td>\n      <td>0.0746</td>\n      <td>0.0009</td>\n    </tr>\n    <tr>\n      <th>2009-08-31</th>\n      <td>0.0072</td>\n      <td>-0.0408</td>\n      <td>-0.0136</td>\n      <td>0.0446</td>\n      <td>-0.0174</td>\n      <td>0.0072</td>\n      <td>0.1315</td>\n      <td>0.0330</td>\n      <td>-0.0046</td>\n      <td>0.0365</td>\n      <td>0.0080</td>\n    </tr>\n  </tbody>\n</table>\n</div>"
     },
     "metadata": {},
     "output_type": "display_data"
    },
    {
     "data": {
      "text/plain": "(170, 11)"
     },
     "metadata": {},
     "output_type": "display_data"
    }
   ],
   "source": [
    "# load the excess returns\n",
    "asset_return = pd.read_excel('multi_asset_etf_data.xlsx', sheet_name ='excess returns', parse_dates=True, index_col=0)\n",
    "display(asset_return.head())\n",
    "display(asset_return.shape)"
   ],
   "metadata": {
    "collapsed": false,
    "ExecuteTime": {
     "end_time": "2023-07-09T03:17:00.093645Z",
     "start_time": "2023-07-09T03:16:59.913858Z"
    }
   }
  },
  {
   "cell_type": "code",
   "execution_count": 440,
   "outputs": [
    {
     "data": {
      "text/plain": "BWX    0\nDBC    0\nEEM    0\nEFA    0\nHYG    0\nIEF    0\nIYR    0\nPSP    0\nQAI    0\nSPY    0\nTIP    0\ndtype: int64"
     },
     "execution_count": 440,
     "metadata": {},
     "output_type": "execute_result"
    }
   ],
   "source": [
    "asset_return.isna().sum()"
   ],
   "metadata": {
    "collapsed": false,
    "ExecuteTime": {
     "end_time": "2023-07-09T03:17:00.093754Z",
     "start_time": "2023-07-09T03:16:59.941680Z"
    }
   }
  },
  {
   "cell_type": "code",
   "execution_count": 441,
   "outputs": [
    {
     "data": {
      "text/plain": "     annualized_mean  annualized_volatility  annualized_SR\nBWX          -0.0002                 0.0834        -0.0023\nDBC           0.0199                 0.1783         0.1114\nEEM           0.0641                 0.1962         0.3267\nEFA           0.0821                 0.1660         0.4946\nHYG           0.0642                 0.0896         0.7168\nIEF           0.0172                 0.0625         0.2751\nIYR           0.1288                 0.1877         0.6864\nPSP           0.1247                 0.2254         0.5534\nQAI           0.0175                 0.0507         0.3444\nSPY           0.1417                 0.1477         0.9598\nTIP           0.0245                 0.0516         0.4744",
      "text/html": "<div>\n<style scoped>\n    .dataframe tbody tr th:only-of-type {\n        vertical-align: middle;\n    }\n\n    .dataframe tbody tr th {\n        vertical-align: top;\n    }\n\n    .dataframe thead th {\n        text-align: right;\n    }\n</style>\n<table border=\"1\" class=\"dataframe\">\n  <thead>\n    <tr style=\"text-align: right;\">\n      <th></th>\n      <th>annualized_mean</th>\n      <th>annualized_volatility</th>\n      <th>annualized_SR</th>\n    </tr>\n  </thead>\n  <tbody>\n    <tr>\n      <th>BWX</th>\n      <td>-0.0002</td>\n      <td>0.0834</td>\n      <td>-0.0023</td>\n    </tr>\n    <tr>\n      <th>DBC</th>\n      <td>0.0199</td>\n      <td>0.1783</td>\n      <td>0.1114</td>\n    </tr>\n    <tr>\n      <th>EEM</th>\n      <td>0.0641</td>\n      <td>0.1962</td>\n      <td>0.3267</td>\n    </tr>\n    <tr>\n      <th>EFA</th>\n      <td>0.0821</td>\n      <td>0.1660</td>\n      <td>0.4946</td>\n    </tr>\n    <tr>\n      <th>HYG</th>\n      <td>0.0642</td>\n      <td>0.0896</td>\n      <td>0.7168</td>\n    </tr>\n    <tr>\n      <th>IEF</th>\n      <td>0.0172</td>\n      <td>0.0625</td>\n      <td>0.2751</td>\n    </tr>\n    <tr>\n      <th>IYR</th>\n      <td>0.1288</td>\n      <td>0.1877</td>\n      <td>0.6864</td>\n    </tr>\n    <tr>\n      <th>PSP</th>\n      <td>0.1247</td>\n      <td>0.2254</td>\n      <td>0.5534</td>\n    </tr>\n    <tr>\n      <th>QAI</th>\n      <td>0.0175</td>\n      <td>0.0507</td>\n      <td>0.3444</td>\n    </tr>\n    <tr>\n      <th>SPY</th>\n      <td>0.1417</td>\n      <td>0.1477</td>\n      <td>0.9598</td>\n    </tr>\n    <tr>\n      <th>TIP</th>\n      <td>0.0245</td>\n      <td>0.0516</td>\n      <td>0.4744</td>\n    </tr>\n  </tbody>\n</table>\n</div>"
     },
     "metadata": {},
     "output_type": "display_data"
    }
   ],
   "source": [
    "summary = pd.DataFrame(index = asset_return.columns.tolist())\n",
    "adj = 12\n",
    "summary['annualized_mean'] = np.nanmean(asset_return, axis=0) * adj\n",
    "summary['annualized_volatility'] = np.nanstd(asset_return, axis=0) * np.sqrt(adj)\n",
    "summary['annualized_SR'] = summary['annualized_mean']/summary['annualized_volatility']\n",
    "display(summary)"
   ],
   "metadata": {
    "collapsed": false,
    "ExecuteTime": {
     "end_time": "2023-07-09T03:17:00.093805Z",
     "start_time": "2023-07-09T03:16:59.945020Z"
    }
   }
  },
  {
   "cell_type": "code",
   "execution_count": 442,
   "outputs": [
    {
     "name": "stdout",
     "output_type": "stream",
     "text": [
      "Asset with the worst annualized Sharpe Ratio: BWX, SR = -0.0023\n",
      "Asset with the best annualized Sharpe Ratio: SPY, SR = 0.9598\n"
     ]
    }
   ],
   "source": [
    "print(f\"Asset with the worst annualized Sharpe Ratio: {summary.index[np.argmin(summary.annualized_SR)]}, SR = {summary.annualized_SR.min():.4f}\")\n",
    "print(f\"Asset with the best annualized Sharpe Ratio: {summary.index[np.argmax(summary.annualized_SR)]}, SR = {summary.annualized_SR.max():.4f}\")"
   ],
   "metadata": {
    "collapsed": false,
    "ExecuteTime": {
     "end_time": "2023-07-09T03:17:00.094313Z",
     "start_time": "2023-07-09T03:16:59.949295Z"
    }
   }
  },
  {
   "cell_type": "markdown",
   "metadata": {},
   "source": [
    "## 2. Descriptive Analysis\n",
    "#### (a) Correlation Matrix of Returns"
   ]
  },
  {
   "cell_type": "code",
   "execution_count": 443,
   "metadata": {
    "ExecuteTime": {
     "end_time": "2023-07-09T03:17:00.094787Z",
     "start_time": "2023-07-09T03:16:59.952216Z"
    }
   },
   "outputs": [
    {
     "data": {
      "text/plain": "       BWX     DBC     EEM     EFA     HYG     IEF    IYR     PSP    QAI  \\\nBWX    NaN  0.3481  0.6446  0.6184  0.5576  0.4354 0.4510  0.5256 0.6695   \nDBC 0.3481     NaN  0.5619  0.5816  0.4745 -0.3190 0.3180  0.4972 0.5432   \nEEM 0.6446  0.5619     NaN  0.8507  0.7280 -0.1026 0.6197  0.7833 0.8061   \nEFA 0.6184  0.5816  0.8507     NaN  0.7721 -0.1333 0.6955  0.9054 0.8541   \nHYG 0.5576  0.4745  0.7280  0.7721     NaN -0.0079 0.7576  0.8262 0.7712   \nIEF 0.4354 -0.3190 -0.1026 -0.1333 -0.0079     NaN 0.0773 -0.1409 0.0645   \nIYR 0.4510  0.3180  0.6197  0.6955  0.7576  0.0773    NaN  0.7614 0.6550   \nPSP 0.5256  0.4972  0.7833  0.9054  0.8262 -0.1409 0.7614     NaN 0.8389   \nQAI 0.6695  0.5432  0.8061  0.8541  0.7712  0.0645 0.6550  0.8389    NaN   \nSPY 0.4632  0.5088  0.7331  0.8713  0.7717 -0.1533 0.7510  0.9009 0.8397   \nTIP 0.6162  0.1411  0.3025  0.2866  0.3671  0.7041 0.3997  0.3038 0.4682   \n\n        SPY    TIP  \nBWX  0.4632 0.6162  \nDBC  0.5088 0.1411  \nEEM  0.7331 0.3025  \nEFA  0.8713 0.2866  \nHYG  0.7717 0.3671  \nIEF -0.1533 0.7041  \nIYR  0.7510 0.3997  \nPSP  0.9009 0.3038  \nQAI  0.8397 0.4682  \nSPY     NaN 0.2976  \nTIP  0.2976    NaN  ",
      "text/html": "<div>\n<style scoped>\n    .dataframe tbody tr th:only-of-type {\n        vertical-align: middle;\n    }\n\n    .dataframe tbody tr th {\n        vertical-align: top;\n    }\n\n    .dataframe thead th {\n        text-align: right;\n    }\n</style>\n<table border=\"1\" class=\"dataframe\">\n  <thead>\n    <tr style=\"text-align: right;\">\n      <th></th>\n      <th>BWX</th>\n      <th>DBC</th>\n      <th>EEM</th>\n      <th>EFA</th>\n      <th>HYG</th>\n      <th>IEF</th>\n      <th>IYR</th>\n      <th>PSP</th>\n      <th>QAI</th>\n      <th>SPY</th>\n      <th>TIP</th>\n    </tr>\n  </thead>\n  <tbody>\n    <tr>\n      <th>BWX</th>\n      <td>NaN</td>\n      <td>0.3481</td>\n      <td>0.6446</td>\n      <td>0.6184</td>\n      <td>0.5576</td>\n      <td>0.4354</td>\n      <td>0.4510</td>\n      <td>0.5256</td>\n      <td>0.6695</td>\n      <td>0.4632</td>\n      <td>0.6162</td>\n    </tr>\n    <tr>\n      <th>DBC</th>\n      <td>0.3481</td>\n      <td>NaN</td>\n      <td>0.5619</td>\n      <td>0.5816</td>\n      <td>0.4745</td>\n      <td>-0.3190</td>\n      <td>0.3180</td>\n      <td>0.4972</td>\n      <td>0.5432</td>\n      <td>0.5088</td>\n      <td>0.1411</td>\n    </tr>\n    <tr>\n      <th>EEM</th>\n      <td>0.6446</td>\n      <td>0.5619</td>\n      <td>NaN</td>\n      <td>0.8507</td>\n      <td>0.7280</td>\n      <td>-0.1026</td>\n      <td>0.6197</td>\n      <td>0.7833</td>\n      <td>0.8061</td>\n      <td>0.7331</td>\n      <td>0.3025</td>\n    </tr>\n    <tr>\n      <th>EFA</th>\n      <td>0.6184</td>\n      <td>0.5816</td>\n      <td>0.8507</td>\n      <td>NaN</td>\n      <td>0.7721</td>\n      <td>-0.1333</td>\n      <td>0.6955</td>\n      <td>0.9054</td>\n      <td>0.8541</td>\n      <td>0.8713</td>\n      <td>0.2866</td>\n    </tr>\n    <tr>\n      <th>HYG</th>\n      <td>0.5576</td>\n      <td>0.4745</td>\n      <td>0.7280</td>\n      <td>0.7721</td>\n      <td>NaN</td>\n      <td>-0.0079</td>\n      <td>0.7576</td>\n      <td>0.8262</td>\n      <td>0.7712</td>\n      <td>0.7717</td>\n      <td>0.3671</td>\n    </tr>\n    <tr>\n      <th>IEF</th>\n      <td>0.4354</td>\n      <td>-0.3190</td>\n      <td>-0.1026</td>\n      <td>-0.1333</td>\n      <td>-0.0079</td>\n      <td>NaN</td>\n      <td>0.0773</td>\n      <td>-0.1409</td>\n      <td>0.0645</td>\n      <td>-0.1533</td>\n      <td>0.7041</td>\n    </tr>\n    <tr>\n      <th>IYR</th>\n      <td>0.4510</td>\n      <td>0.3180</td>\n      <td>0.6197</td>\n      <td>0.6955</td>\n      <td>0.7576</td>\n      <td>0.0773</td>\n      <td>NaN</td>\n      <td>0.7614</td>\n      <td>0.6550</td>\n      <td>0.7510</td>\n      <td>0.3997</td>\n    </tr>\n    <tr>\n      <th>PSP</th>\n      <td>0.5256</td>\n      <td>0.4972</td>\n      <td>0.7833</td>\n      <td>0.9054</td>\n      <td>0.8262</td>\n      <td>-0.1409</td>\n      <td>0.7614</td>\n      <td>NaN</td>\n      <td>0.8389</td>\n      <td>0.9009</td>\n      <td>0.3038</td>\n    </tr>\n    <tr>\n      <th>QAI</th>\n      <td>0.6695</td>\n      <td>0.5432</td>\n      <td>0.8061</td>\n      <td>0.8541</td>\n      <td>0.7712</td>\n      <td>0.0645</td>\n      <td>0.6550</td>\n      <td>0.8389</td>\n      <td>NaN</td>\n      <td>0.8397</td>\n      <td>0.4682</td>\n    </tr>\n    <tr>\n      <th>SPY</th>\n      <td>0.4632</td>\n      <td>0.5088</td>\n      <td>0.7331</td>\n      <td>0.8713</td>\n      <td>0.7717</td>\n      <td>-0.1533</td>\n      <td>0.7510</td>\n      <td>0.9009</td>\n      <td>0.8397</td>\n      <td>NaN</td>\n      <td>0.2976</td>\n    </tr>\n    <tr>\n      <th>TIP</th>\n      <td>0.6162</td>\n      <td>0.1411</td>\n      <td>0.3025</td>\n      <td>0.2866</td>\n      <td>0.3671</td>\n      <td>0.7041</td>\n      <td>0.3997</td>\n      <td>0.3038</td>\n      <td>0.4682</td>\n      <td>0.2976</td>\n      <td>NaN</td>\n    </tr>\n  </tbody>\n</table>\n</div>"
     },
     "metadata": {},
     "output_type": "display_data"
    }
   ],
   "source": [
    "corr_matrix = asset_return.corr()\n",
    "np.fill_diagonal(corr_matrix.values, np.nan)\n",
    "display(corr_matrix)"
   ]
  },
  {
   "cell_type": "code",
   "execution_count": 444,
   "outputs": [
    {
     "data": {
      "text/plain": "Text(0.5, 1.0, 'Pairwise Correlation between Assets')"
     },
     "execution_count": 444,
     "metadata": {},
     "output_type": "execute_result"
    },
    {
     "data": {
      "text/plain": "<Figure size 864x576 with 2 Axes>",
      "image/png": "[encoded data removed]"
     },
     "metadata": {},
     "output_type": "display_data"
    }
   ],
   "source": [
    "sns.heatmap(corr_matrix, cmap ='crest', annot = True, fmt = \".2f\").set_title(\"Pairwise Correlation between Assets\")"
   ],
   "metadata": {
    "collapsed": false,
    "ExecuteTime": {
     "end_time": "2023-07-09T03:17:00.143660Z",
     "start_time": "2023-07-09T03:16:59.957300Z"
    }
   }
  },
  {
   "cell_type": "code",
   "execution_count": 445,
   "outputs": [
    {
     "data": {
      "text/plain": "PSP  EFA   0.9054\nSPY  PSP   0.9009\n     EFA   0.8713\nQAI  EFA   0.8541\nEFA  EEM   0.8507\ndtype: float64"
     },
     "execution_count": 445,
     "metadata": {},
     "output_type": "execute_result"
    }
   ],
   "source": [
    "corr_matrix.unstack().sort_values(key = abs, ascending = False).drop_duplicates().dropna().head(5)"
   ],
   "metadata": {
    "collapsed": false,
    "ExecuteTime": {
     "end_time": "2023-07-09T03:17:00.190459Z",
     "start_time": "2023-07-09T03:17:00.128655Z"
    }
   }
  },
  {
   "cell_type": "code",
   "execution_count": 446,
   "outputs": [
    {
     "data": {
      "text/plain": "EFA  IEF   -0.1333\nEEM  IEF   -0.1026\nIEF  IYR    0.0773\n     QAI    0.0645\nHYG  IEF   -0.0079\ndtype: float64"
     },
     "execution_count": 446,
     "metadata": {},
     "output_type": "execute_result"
    }
   ],
   "source": [
    "corr_matrix.unstack().sort_values(key = abs, ascending = False).drop_duplicates().dropna().tail(5)"
   ],
   "metadata": {
    "collapsed": false,
    "ExecuteTime": {
     "end_time": "2023-07-09T03:17:00.218185Z",
     "start_time": "2023-07-09T03:17:00.132588Z"
    }
   }
  },
  {
   "cell_type": "code",
   "execution_count": 447,
   "outputs": [
    {
     "name": "stdout",
     "output_type": "stream",
     "text": [
      "Pair with the highest correlation: ('EFA', 'PSP')\tcorrelation coefficient = 0.91\n",
      "Pair with the lowest correlation: ('HYG', 'IEF')\tcorrelation coefficient = -0.01\n"
     ]
    }
   ],
   "source": [
    "# Find the pair with the highest correlation\n",
    "best_idx = np.abs(corr_matrix.stack()).idxmax()\n",
    "best_val = corr_matrix.loc[best_idx]\n",
    "\n",
    "# Find the pair with the lowest correlation\n",
    "worst_idx = np.abs(corr_matrix.stack()).idxmin()\n",
    "worst_val = corr_matrix.loc[worst_idx]\n",
    "\n",
    "print(f\"Pair with the highest correlation: {best_idx}\\tcorrelation coefficient = {best_val:.2f}\\nPair with the lowest correlation: {worst_idx}\\tcorrelation coefficient = {worst_val:.2f}\")"
   ],
   "metadata": {
    "collapsed": false,
    "ExecuteTime": {
     "end_time": "2023-07-09T03:17:00.263677Z",
     "start_time": "2023-07-09T03:17:00.138518Z"
    }
   }
  },
  {
   "cell_type": "markdown",
   "metadata": {},
   "source": [
    "#### (b) How well have TIPS done in our sample? Have they outperformed domestic bonds?\n",
    "\n",
    "Domestic bonds = IEF\n",
    "Foreign is BWX.\n",
    "\n",
    "IEF and BWX are specific Exchange Traded Funds (ETFs) that represent the performance of segments of the bond market.\n",
    "\n",
    "IEF, the iShares 7-10 Year Treasury Bond ETF, tracks the investment results of an index composed of U.S. Treasury bonds with remaining maturities between seven and ten years. Therefore, it's a good representation of domestic (U.S.) bonds because it reflects the performance of U.S. government securities over a specific period.\n",
    "\n",
    "On the other hand, BWX, the SPDR Bloomberg Barclays International Treasury Bond ETF, tracks an index of fixed-rate, local currency government bonds from over 20 countries outside of the U.S. This makes it a suitable representation for foreign bonds in a U.S.-based portfolio, as it provides diversified exposure to non-U.S. sovereign debt."
   ]
  },
  {
   "cell_type": "code",
   "execution_count": 448,
   "metadata": {
    "ExecuteTime": {
     "end_time": "2023-07-09T03:17:00.267474Z",
     "start_time": "2023-07-09T03:17:00.143557Z"
    }
   },
   "outputs": [
    {
     "data": {
      "text/plain": "     annualized_mean  annualized_volatility  annualized_SR\nBWX          -0.0002                 0.0834        -0.0023\nDBC           0.0199                 0.1783         0.1114\nEEM           0.0641                 0.1962         0.3267\nEFA           0.0821                 0.1660         0.4946\nHYG           0.0642                 0.0896         0.7168\nIEF           0.0172                 0.0625         0.2751\nIYR           0.1288                 0.1877         0.6864\nPSP           0.1247                 0.2254         0.5534\nQAI           0.0175                 0.0507         0.3444\nSPY           0.1417                 0.1477         0.9598\nTIP           0.0245                 0.0516         0.4744",
      "text/html": "<div>\n<style scoped>\n    .dataframe tbody tr th:only-of-type {\n        vertical-align: middle;\n    }\n\n    .dataframe tbody tr th {\n        vertical-align: top;\n    }\n\n    .dataframe thead th {\n        text-align: right;\n    }\n</style>\n<table border=\"1\" class=\"dataframe\">\n  <thead>\n    <tr style=\"text-align: right;\">\n      <th></th>\n      <th>annualized_mean</th>\n      <th>annualized_volatility</th>\n      <th>annualized_SR</th>\n    </tr>\n  </thead>\n  <tbody>\n    <tr>\n      <th>BWX</th>\n      <td>-0.0002</td>\n      <td>0.0834</td>\n      <td>-0.0023</td>\n    </tr>\n    <tr>\n      <th>DBC</th>\n      <td>0.0199</td>\n      <td>0.1783</td>\n      <td>0.1114</td>\n    </tr>\n    <tr>\n      <th>EEM</th>\n      <td>0.0641</td>\n      <td>0.1962</td>\n      <td>0.3267</td>\n    </tr>\n    <tr>\n      <th>EFA</th>\n      <td>0.0821</td>\n      <td>0.1660</td>\n      <td>0.4946</td>\n    </tr>\n    <tr>\n      <th>HYG</th>\n      <td>0.0642</td>\n      <td>0.0896</td>\n      <td>0.7168</td>\n    </tr>\n    <tr>\n      <th>IEF</th>\n      <td>0.0172</td>\n      <td>0.0625</td>\n      <td>0.2751</td>\n    </tr>\n    <tr>\n      <th>IYR</th>\n      <td>0.1288</td>\n      <td>0.1877</td>\n      <td>0.6864</td>\n    </tr>\n    <tr>\n      <th>PSP</th>\n      <td>0.1247</td>\n      <td>0.2254</td>\n      <td>0.5534</td>\n    </tr>\n    <tr>\n      <th>QAI</th>\n      <td>0.0175</td>\n      <td>0.0507</td>\n      <td>0.3444</td>\n    </tr>\n    <tr>\n      <th>SPY</th>\n      <td>0.1417</td>\n      <td>0.1477</td>\n      <td>0.9598</td>\n    </tr>\n    <tr>\n      <th>TIP</th>\n      <td>0.0245</td>\n      <td>0.0516</td>\n      <td>0.4744</td>\n    </tr>\n  </tbody>\n</table>\n</div>"
     },
     "metadata": {},
     "output_type": "display_data"
    }
   ],
   "source": [
    "display(summary)"
   ]
  },
  {
   "cell_type": "code",
   "execution_count": 449,
   "outputs": [
    {
     "data": {
      "text/plain": "<pandas.io.formats.style.Styler at 0x177f779d0>",
      "text/html": "<style type=\"text/css\">\n</style>\n<table id=\"T_c0a3b\">\n  <thead>\n    <tr>\n      <th class=\"blank level0\" >&nbsp;</th>\n      <th id=\"T_c0a3b_level0_col0\" class=\"col_heading level0 col0\" >annualized_mean</th>\n      <th id=\"T_c0a3b_level0_col1\" class=\"col_heading level0 col1\" >annualized_SR</th>\n    </tr>\n  </thead>\n  <tbody>\n    <tr>\n      <th id=\"T_c0a3b_level0_row0\" class=\"row_heading level0 row0\" >TIP</th>\n      <td id=\"T_c0a3b_row0_col0\" class=\"data row0 col0\" >7</td>\n      <td id=\"T_c0a3b_row0_col1\" class=\"data row0 col1\" >6</td>\n    </tr>\n    <tr>\n      <th id=\"T_c0a3b_level0_row1\" class=\"row_heading level0 row1\" >IEF</th>\n      <td id=\"T_c0a3b_row1_col0\" class=\"data row1 col0\" >10</td>\n      <td id=\"T_c0a3b_row1_col1\" class=\"data row1 col1\" >9</td>\n    </tr>\n    <tr>\n      <th id=\"T_c0a3b_level0_row2\" class=\"row_heading level0 row2\" >BWX</th>\n      <td id=\"T_c0a3b_row2_col0\" class=\"data row2 col0\" >11</td>\n      <td id=\"T_c0a3b_row2_col1\" class=\"data row2 col1\" >11</td>\n    </tr>\n  </tbody>\n</table>\n"
     },
     "execution_count": 449,
     "metadata": {},
     "output_type": "execute_result"
    }
   ],
   "source": [
    "#  TIP across 3 statistics\n",
    "#  'mean' and 'sharpe' in descending order but 'std' in ascending ordr\n",
    "summary.loc[:,['annualized_mean', 'annualized_SR']].rank(ascending = False).loc[['TIP', 'IEF', 'BWX']].style.format(int)"
   ],
   "metadata": {
    "collapsed": false,
    "ExecuteTime": {
     "end_time": "2023-07-09T03:17:00.267567Z",
     "start_time": "2023-07-09T03:17:00.153052Z"
    }
   }
  },
  {
   "cell_type": "code",
   "execution_count": 450,
   "outputs": [
    {
     "data": {
      "text/plain": "<pandas.io.formats.style.Styler at 0x177f77790>",
      "text/html": "<style type=\"text/css\">\n</style>\n<table id=\"T_10b5c\">\n  <thead>\n    <tr>\n      <th class=\"blank level0\" >&nbsp;</th>\n      <th id=\"T_10b5c_level0_col0\" class=\"col_heading level0 col0\" >annualized_volatility</th>\n    </tr>\n  </thead>\n  <tbody>\n    <tr>\n      <th id=\"T_10b5c_level0_row0\" class=\"row_heading level0 row0\" >TIP</th>\n      <td id=\"T_10b5c_row0_col0\" class=\"data row0 col0\" >2</td>\n    </tr>\n    <tr>\n      <th id=\"T_10b5c_level0_row1\" class=\"row_heading level0 row1\" >IEF</th>\n      <td id=\"T_10b5c_row1_col0\" class=\"data row1 col0\" >3</td>\n    </tr>\n    <tr>\n      <th id=\"T_10b5c_level0_row2\" class=\"row_heading level0 row2\" >BWX</th>\n      <td id=\"T_10b5c_row2_col0\" class=\"data row2 col0\" >4</td>\n    </tr>\n  </tbody>\n</table>\n"
     },
     "metadata": {},
     "output_type": "display_data"
    }
   ],
   "source": [
    "display(summary.loc[:,'annualized_volatility'].rank(ascending = True).loc[['TIP', 'IEF', 'BWX']].to_frame().style.format(int))"
   ],
   "metadata": {
    "collapsed": false,
    "ExecuteTime": {
     "end_time": "2023-07-09T03:17:00.267624Z",
     "start_time": "2023-07-09T03:17:00.153152Z"
    }
   }
  },
  {
   "cell_type": "markdown",
   "metadata": {},
   "source": [
    "TIP has a Sharpe ratio that ranked $6_{th}$ highest and a mean that ranked $7_{th}$ highest among the 11, and volatility that was the $2_{nd}$ lowest. It has a higher mean and sharp ratio than IEF and BWX, which is desirable, and lower volatility than IEF and BWX, which is also desirable. Therefore, TIP has outperformed domestic bonds and foreign bonds."
   ]
  },
  {
   "cell_type": "markdown",
   "metadata": {},
   "source": [
    "#### (c) Based on the data, do TIPS seem to expand the investment opportunity set, implying that Harvard should consider them as a separate asset?"
   ]
  },
  {
   "cell_type": "code",
   "execution_count": 451,
   "outputs": [
    {
     "data": {
      "text/plain": "IEF   0.7041\nBWX   0.6162\nName: TIP, dtype: float64"
     },
     "execution_count": 451,
     "metadata": {},
     "output_type": "execute_result"
    }
   ],
   "source": [
    "corr_matrix.loc['TIP',['IEF', 'BWX']]"
   ],
   "metadata": {
    "collapsed": false,
    "ExecuteTime": {
     "end_time": "2023-07-09T03:17:00.267702Z",
     "start_time": "2023-07-09T03:17:00.158112Z"
    }
   }
  },
  {
   "cell_type": "markdown",
   "metadata": {},
   "source": [
    "The correlation between TIP and IEF and the  between TIP and BWX are relatively high. Therefore, TIP does not seem to expand the investment opportunity set."
   ]
  },
  {
   "cell_type": "markdown",
   "metadata": {},
   "source": [
    "## 3. MV frontier"
   ]
  },
  {
   "cell_type": "code",
   "execution_count": 452,
   "outputs": [],
   "source": [
    "\"\"\"\n",
    "function to compute the weights of the tangency portfolio - maximizes the risk-adjusted return/sharpe ratio\n",
    "\"\"\"\n",
    "\n",
    "def tangency_portfolio(return_data, cov):\n",
    "    inv_cov = np.linalg.inv(cov)\n",
    "    ones = np.ones(return_data.shape)\n",
    "    weights = inv_cov @ return_data / (ones.T @ inv_cov @ return_data)\n",
    "    try:\n",
    "        return pd.DataFrame(weights, index=return_data.index)\n",
    "    except AttributeError:\n",
    "        return weights\n",
    "\n",
    "\"\"\"\n",
    "function to compute the global minimum variance portfolio - minimizes variance without considering mean\n",
    "\"\"\"\n",
    "\n",
    "def gmv_portfolio(cov):\n",
    "    try:\n",
    "        cov_inv = np.linalg.inv(cov)\n",
    "    except TypeError:\n",
    "        cov_inv = np.linalg.inv(np.array(cov))\n",
    "\n",
    "    ones = np.ones(len(cov.index))\n",
    "    weights = cov_inv @ ones / (ones @ cov_inv @ ones)\n",
    "    try:\n",
    "        return pd.DataFrame(weights, index=cov.index)\n",
    "    except AttributeError:\n",
    "        return weights\n",
    "\n",
    "\"\"\"\n",
    "function to compute the weights of the mean-variance portfolio - target-dependent, optimizing the risk-return tradeoff based on a range of potential portfolios\n",
    "\"\"\"\n",
    "\n",
    "def mv_portfolio(return_data, cov, target=None):\n",
    "\n",
    "    w_tan = tangency_portfolio(return_data, cov)\n",
    "    if target is None:\n",
    "        return w_tan\n",
    "\n",
    "    w_gmv = gmv_portfolio(cov)\n",
    "    delta = (target - return_data @ w_gmv) / (return_data @ w_tan - return_data @ w_gmv)\n",
    "    scaled_weights = delta * w_tan + (1 - delta) * w_gmv\n",
    "    try:\n",
    "        return pd.DataFrame(scaled_weights, index=return_data.index)\n",
    "    except AttributeError:\n",
    "        return scaled_weights\n",
    "\n",
    "\"\"\"\n",
    "function to calculate the weights of the equal-weighted portfolio\n",
    "\"\"\"\n",
    "\n",
    "def equal_weighted_portfolio(return_data, target=None):\n",
    "    w_eq = np.ones(len(return_data.columns)) / len(return_data.columns)\n",
    "\n",
    "    if target is not None:\n",
    "        w_eq = w_eq * (target / (return_data.mean() @ w_eq))\n",
    "\n",
    "    try:\n",
    "        w_eq_df = pd.DataFrame(w_eq, index=return_data.columns, columns=[\"Weight\"]).sort_values(\n",
    "            by=\"Weight\", ascending=False\n",
    "        )\n",
    "        return w_eq_df\n",
    "    except AttributeError:\n",
    "        return w_eq\n",
    "\n",
    "\"\"\"\n",
    "function to calculate risk-parity portfolio\n",
    "\"\"\"\n",
    "\n",
    "def risk_parity_portfolio(return_data, target=None):\n",
    "    cov = return_data.cov()\n",
    "    inv_std = 1 / np.sqrt(np.diag(cov))\n",
    "    w_rp = inv_std / np.sum(inv_std)\n",
    "\n",
    "    if target is not None:\n",
    "        w_rp = w_rp * (target / (asset_return.mean() @ w_rp))\n",
    "\n",
    "    try:\n",
    "        w_rp_df = pd.DataFrame(w_rp, index=asset_return.columns, columns=[\"Weight\"]).sort_values(\n",
    "            by=\"Weight\", ascending=False\n",
    "        )\n",
    "        return w_rp_df\n",
    "    except AttributeError:\n",
    "        return w_rp"
   ],
   "metadata": {
    "collapsed": false,
    "ExecuteTime": {
     "end_time": "2023-07-09T03:17:00.409611Z",
     "start_time": "2023-07-09T03:17:00.168365Z"
    }
   }
  },
  {
   "cell_type": "markdown",
   "source": [
    "### (a) weights of the tangency portfolios: $w^{tan}$."
   ],
   "metadata": {
    "collapsed": false
   }
  },
  {
   "cell_type": "code",
   "execution_count": 453,
   "outputs": [
    {
     "data": {
      "text/plain": "           0\nBWX -16.3250\nDBC   0.7950\nEEM   3.6111\nEFA   2.1326\nHYG  14.0073\nIEF  26.2840\nIYR  -4.2629\nPSP  -5.9211\nQAI -49.8963\nSPY  27.4196\nTIP   3.1556",
      "text/html": "<div>\n<style scoped>\n    .dataframe tbody tr th:only-of-type {\n        vertical-align: middle;\n    }\n\n    .dataframe tbody tr th {\n        vertical-align: top;\n    }\n\n    .dataframe thead th {\n        text-align: right;\n    }\n</style>\n<table border=\"1\" class=\"dataframe\">\n  <thead>\n    <tr style=\"text-align: right;\">\n      <th></th>\n      <th>0</th>\n    </tr>\n  </thead>\n  <tbody>\n    <tr>\n      <th>BWX</th>\n      <td>-16.3250</td>\n    </tr>\n    <tr>\n      <th>DBC</th>\n      <td>0.7950</td>\n    </tr>\n    <tr>\n      <th>EEM</th>\n      <td>3.6111</td>\n    </tr>\n    <tr>\n      <th>EFA</th>\n      <td>2.1326</td>\n    </tr>\n    <tr>\n      <th>HYG</th>\n      <td>14.0073</td>\n    </tr>\n    <tr>\n      <th>IEF</th>\n      <td>26.2840</td>\n    </tr>\n    <tr>\n      <th>IYR</th>\n      <td>-4.2629</td>\n    </tr>\n    <tr>\n      <th>PSP</th>\n      <td>-5.9211</td>\n    </tr>\n    <tr>\n      <th>QAI</th>\n      <td>-49.8963</td>\n    </tr>\n    <tr>\n      <th>SPY</th>\n      <td>27.4196</td>\n    </tr>\n    <tr>\n      <th>TIP</th>\n      <td>3.1556</td>\n    </tr>\n  </tbody>\n</table>\n</div>"
     },
     "metadata": {},
     "output_type": "display_data"
    }
   ],
   "source": [
    "# compute the covariance matrix\n",
    "cov_matrix = asset_return.cov()\n",
    "# compute the mean returns\n",
    "mean_rets = asset_return.mean()\n",
    "# compute the weights of the tangency portfolio\n",
    "W_tan = tangency_portfolio(mean_rets, cov_matrix)\n",
    "display(W_tan)"
   ],
   "metadata": {
    "collapsed": false,
    "ExecuteTime": {
     "end_time": "2023-07-09T03:17:00.410685Z",
     "start_time": "2023-07-09T03:17:00.182258Z"
    }
   }
  },
  {
   "cell_type": "markdown",
   "metadata": {},
   "source": [
    "### (b) Mean, volatility, and Sharpe Ratio for the tangency portfolio corresponding to $w^{tan}$."
   ]
  },
  {
   "cell_type": "code",
   "execution_count": 454,
   "outputs": [
    {
     "data": {
      "text/plain": "                 0\nDate              \n2009-04-30  0.7773\n2009-05-31 -0.1760\n2009-06-30  0.1030\n2009-07-31  1.2883\n2009-08-31  0.3407\n...            ...\n2023-01-31  0.5172\n2023-02-28 -0.7480\n2023-03-31  1.8514\n2023-04-30  0.2460\n2023-05-31  0.3996\n\n[170 rows x 1 columns]",
      "text/html": "<div>\n<style scoped>\n    .dataframe tbody tr th:only-of-type {\n        vertical-align: middle;\n    }\n\n    .dataframe tbody tr th {\n        vertical-align: top;\n    }\n\n    .dataframe thead th {\n        text-align: right;\n    }\n</style>\n<table border=\"1\" class=\"dataframe\">\n  <thead>\n    <tr style=\"text-align: right;\">\n      <th></th>\n      <th>0</th>\n    </tr>\n    <tr>\n      <th>Date</th>\n      <th></th>\n    </tr>\n  </thead>\n  <tbody>\n    <tr>\n      <th>2009-04-30</th>\n      <td>0.7773</td>\n    </tr>\n    <tr>\n      <th>2009-05-31</th>\n      <td>-0.1760</td>\n    </tr>\n    <tr>\n      <th>2009-06-30</th>\n      <td>0.1030</td>\n    </tr>\n    <tr>\n      <th>2009-07-31</th>\n      <td>1.2883</td>\n    </tr>\n    <tr>\n      <th>2009-08-31</th>\n      <td>0.3407</td>\n    </tr>\n    <tr>\n      <th>...</th>\n      <td>...</td>\n    </tr>\n    <tr>\n      <th>2023-01-31</th>\n      <td>0.5172</td>\n    </tr>\n    <tr>\n      <th>2023-02-28</th>\n      <td>-0.7480</td>\n    </tr>\n    <tr>\n      <th>2023-03-31</th>\n      <td>1.8514</td>\n    </tr>\n    <tr>\n      <th>2023-04-30</th>\n      <td>0.2460</td>\n    </tr>\n    <tr>\n      <th>2023-05-31</th>\n      <td>0.3996</td>\n    </tr>\n  </tbody>\n</table>\n<p>170 rows × 1 columns</p>\n</div>"
     },
     "execution_count": 454,
     "metadata": {},
     "output_type": "execute_result"
    }
   ],
   "source": [
    "# compute the portfolio returns\n",
    "asset_return @ W_tan # the expected return of the portfolio for a particular month,"
   ],
   "metadata": {
    "collapsed": false,
    "ExecuteTime": {
     "end_time": "2023-07-09T03:17:00.411338Z",
     "start_time": "2023-07-09T03:17:00.210007Z"
    }
   }
  },
  {
   "cell_type": "markdown",
   "source": [
    "### 4 a) Mean Variance Portfolio"
   ],
   "metadata": {
    "collapsed": false
   }
  },
  {
   "cell_type": "code",
   "execution_count": 455,
   "outputs": [
    {
     "data": {
      "text/plain": "          0\nBWX -0.5273\nDBC  0.0189\nEEM  0.0159\nEFA  0.0706\nHYG  0.4901\nIEF  0.7084\nIYR -0.1189\nPSP -0.2625\nQAI -0.2081\nSPY  0.6044\nTIP  0.2086",
      "text/html": "<div>\n<style scoped>\n    .dataframe tbody tr th:only-of-type {\n        vertical-align: middle;\n    }\n\n    .dataframe tbody tr th {\n        vertical-align: top;\n    }\n\n    .dataframe thead th {\n        text-align: right;\n    }\n</style>\n<table border=\"1\" class=\"dataframe\">\n  <thead>\n    <tr style=\"text-align: right;\">\n      <th></th>\n      <th>0</th>\n    </tr>\n  </thead>\n  <tbody>\n    <tr>\n      <th>BWX</th>\n      <td>-0.5273</td>\n    </tr>\n    <tr>\n      <th>DBC</th>\n      <td>0.0189</td>\n    </tr>\n    <tr>\n      <th>EEM</th>\n      <td>0.0159</td>\n    </tr>\n    <tr>\n      <th>EFA</th>\n      <td>0.0706</td>\n    </tr>\n    <tr>\n      <th>HYG</th>\n      <td>0.4901</td>\n    </tr>\n    <tr>\n      <th>IEF</th>\n      <td>0.7084</td>\n    </tr>\n    <tr>\n      <th>IYR</th>\n      <td>-0.1189</td>\n    </tr>\n    <tr>\n      <th>PSP</th>\n      <td>-0.2625</td>\n    </tr>\n    <tr>\n      <th>QAI</th>\n      <td>-0.2081</td>\n    </tr>\n    <tr>\n      <th>SPY</th>\n      <td>0.6044</td>\n    </tr>\n    <tr>\n      <th>TIP</th>\n      <td>0.2086</td>\n    </tr>\n  </tbody>\n</table>\n</div>"
     },
     "metadata": {},
     "output_type": "display_data"
    }
   ],
   "source": [
    "display(mv_portfolio(asset_return.mean(), asset_return.cov(), target=0.0075))"
   ],
   "metadata": {
    "collapsed": false,
    "ExecuteTime": {
     "end_time": "2023-07-09T03:17:00.450989Z",
     "start_time": "2023-07-09T03:17:00.244256Z"
    }
   }
  },
  {
   "cell_type": "markdown",
   "source": [
    "### 4 b) Target Portfolio"
   ],
   "metadata": {
    "collapsed": false
   }
  },
  {
   "cell_type": "code",
   "execution_count": 456,
   "outputs": [
    {
     "data": {
      "text/plain": "          0\nBWX -0.5273\nDBC  0.0189\nEEM  0.0159\nEFA  0.0706\nHYG  0.4901\nIEF  0.7084\nIYR -0.1189\nPSP -0.2625\nQAI -0.2081\nSPY  0.6044\nTIP  0.2086",
      "text/html": "<div>\n<style scoped>\n    .dataframe tbody tr th:only-of-type {\n        vertical-align: middle;\n    }\n\n    .dataframe tbody tr th {\n        vertical-align: top;\n    }\n\n    .dataframe thead th {\n        text-align: right;\n    }\n</style>\n<table border=\"1\" class=\"dataframe\">\n  <thead>\n    <tr style=\"text-align: right;\">\n      <th></th>\n      <th>0</th>\n    </tr>\n  </thead>\n  <tbody>\n    <tr>\n      <th>BWX</th>\n      <td>-0.5273</td>\n    </tr>\n    <tr>\n      <th>DBC</th>\n      <td>0.0189</td>\n    </tr>\n    <tr>\n      <th>EEM</th>\n      <td>0.0159</td>\n    </tr>\n    <tr>\n      <th>EFA</th>\n      <td>0.0706</td>\n    </tr>\n    <tr>\n      <th>HYG</th>\n      <td>0.4901</td>\n    </tr>\n    <tr>\n      <th>IEF</th>\n      <td>0.7084</td>\n    </tr>\n    <tr>\n      <th>IYR</th>\n      <td>-0.1189</td>\n    </tr>\n    <tr>\n      <th>PSP</th>\n      <td>-0.2625</td>\n    </tr>\n    <tr>\n      <th>QAI</th>\n      <td>-0.2081</td>\n    </tr>\n    <tr>\n      <th>SPY</th>\n      <td>0.6044</td>\n    </tr>\n    <tr>\n      <th>TIP</th>\n      <td>0.2086</td>\n    </tr>\n  </tbody>\n</table>\n</div>"
     },
     "metadata": {},
     "output_type": "display_data"
    }
   ],
   "source": [
    "target_port = mv_portfolio(asset_return.mean(), asset_return.cov(), target=0.0075)\n",
    "display(target_port)"
   ],
   "metadata": {
    "collapsed": false,
    "ExecuteTime": {
     "end_time": "2023-07-09T03:17:00.451522Z",
     "start_time": "2023-07-09T03:17:00.248749Z"
    }
   }
  },
  {
   "cell_type": "code",
   "execution_count": 457,
   "outputs": [
    {
     "data": {
      "text/plain": "                 0\nDate              \n2009-04-30  0.0096\n2009-05-31  0.0032\n2009-06-30 -0.0009\n2009-07-31  0.0244\n2009-08-31 -0.0047\n...            ...\n2023-01-31  0.0186\n2023-02-28 -0.0222\n2023-03-31  0.0512\n2023-04-30  0.0053\n2023-05-31  0.0022\n\n[170 rows x 1 columns]",
      "text/html": "<div>\n<style scoped>\n    .dataframe tbody tr th:only-of-type {\n        vertical-align: middle;\n    }\n\n    .dataframe tbody tr th {\n        vertical-align: top;\n    }\n\n    .dataframe thead th {\n        text-align: right;\n    }\n</style>\n<table border=\"1\" class=\"dataframe\">\n  <thead>\n    <tr style=\"text-align: right;\">\n      <th></th>\n      <th>0</th>\n    </tr>\n    <tr>\n      <th>Date</th>\n      <th></th>\n    </tr>\n  </thead>\n  <tbody>\n    <tr>\n      <th>2009-04-30</th>\n      <td>0.0096</td>\n    </tr>\n    <tr>\n      <th>2009-05-31</th>\n      <td>0.0032</td>\n    </tr>\n    <tr>\n      <th>2009-06-30</th>\n      <td>-0.0009</td>\n    </tr>\n    <tr>\n      <th>2009-07-31</th>\n      <td>0.0244</td>\n    </tr>\n    <tr>\n      <th>2009-08-31</th>\n      <td>-0.0047</td>\n    </tr>\n    <tr>\n      <th>...</th>\n      <td>...</td>\n    </tr>\n    <tr>\n      <th>2023-01-31</th>\n      <td>0.0186</td>\n    </tr>\n    <tr>\n      <th>2023-02-28</th>\n      <td>-0.0222</td>\n    </tr>\n    <tr>\n      <th>2023-03-31</th>\n      <td>0.0512</td>\n    </tr>\n    <tr>\n      <th>2023-04-30</th>\n      <td>0.0053</td>\n    </tr>\n    <tr>\n      <th>2023-05-31</th>\n      <td>0.0022</td>\n    </tr>\n  </tbody>\n</table>\n<p>170 rows × 1 columns</p>\n</div>"
     },
     "metadata": {},
     "output_type": "display_data"
    }
   ],
   "source": [
    "target_rets = asset_return @ target_port\n",
    "display(target_rets)"
   ],
   "metadata": {
    "collapsed": false,
    "ExecuteTime": {
     "end_time": "2023-07-09T03:17:00.452004Z",
     "start_time": "2023-07-09T03:17:00.265774Z"
    }
   }
  },
  {
   "cell_type": "code",
   "execution_count": 458,
   "outputs": [
    {
     "data": {
      "text/plain": "<pandas.io.formats.style.Styler at 0x177f76d60>",
      "text/html": "<style type=\"text/css\">\n</style>\n<table id=\"T_04129\">\n  <thead>\n    <tr>\n      <th class=\"blank level0\" >&nbsp;</th>\n      <th id=\"T_04129_level0_col0\" class=\"col_heading level0 col0\" >an_mean</th>\n      <th id=\"T_04129_level0_col1\" class=\"col_heading level0 col1\" >an_volatility</th>\n      <th id=\"T_04129_level0_col2\" class=\"col_heading level0 col2\" >an_sharpe</th>\n    </tr>\n  </thead>\n  <tbody>\n    <tr>\n      <th id=\"T_04129_level0_row0\" class=\"row_heading level0 row0\" >0</th>\n      <td id=\"T_04129_row0_col0\" class=\"data row0 col0\" >0.09</td>\n      <td id=\"T_04129_row0_col1\" class=\"data row0 col1\" >0.06</td>\n      <td id=\"T_04129_row0_col2\" class=\"data row0 col2\" >1.51</td>\n    </tr>\n  </tbody>\n</table>\n"
     },
     "metadata": {},
     "output_type": "display_data"
    }
   ],
   "source": [
    "target_summ = performance_summary(target_rets)\n",
    "metrics = performance_summary(asset_return).sort_values(\n",
    "    \"an_sharpe\", ascending=False\n",
    ")\n",
    "\n",
    "display(target_summ.style.format(\"{:.2f}\"))\n"
   ],
   "metadata": {
    "collapsed": false,
    "ExecuteTime": {
     "end_time": "2023-07-09T03:17:00.452199Z",
     "start_time": "2023-07-09T03:17:00.285193Z"
    }
   }
  },
  {
   "cell_type": "code",
   "execution_count": 459,
   "outputs": [
    {
     "data": {
      "text/plain": "           0       0  an_sharpe\nBWX -16.3250 -0.5273    -0.0022\nDBC   0.7950  0.0189     0.1111\nEEM   3.6111  0.0159     0.3257\nEFA   2.1326  0.0706     0.4931\nHYG  14.0073  0.4901     0.7147\nIEF  26.2840  0.7084     0.2742\nIYR  -4.2629 -0.1189     0.6844\nPSP  -5.9211 -0.2625     0.5518\nQAI -49.8963 -0.2081     0.3434\nSPY  27.4196  0.6044     0.9570\nTIP   3.1556  0.2086     0.4730",
      "text/html": "<div>\n<style scoped>\n    .dataframe tbody tr th:only-of-type {\n        vertical-align: middle;\n    }\n\n    .dataframe tbody tr th {\n        vertical-align: top;\n    }\n\n    .dataframe thead th {\n        text-align: right;\n    }\n</style>\n<table border=\"1\" class=\"dataframe\">\n  <thead>\n    <tr style=\"text-align: right;\">\n      <th></th>\n      <th>0</th>\n      <th>0</th>\n      <th>an_sharpe</th>\n    </tr>\n  </thead>\n  <tbody>\n    <tr>\n      <th>BWX</th>\n      <td>-16.3250</td>\n      <td>-0.5273</td>\n      <td>-0.0022</td>\n    </tr>\n    <tr>\n      <th>DBC</th>\n      <td>0.7950</td>\n      <td>0.0189</td>\n      <td>0.1111</td>\n    </tr>\n    <tr>\n      <th>EEM</th>\n      <td>3.6111</td>\n      <td>0.0159</td>\n      <td>0.3257</td>\n    </tr>\n    <tr>\n      <th>EFA</th>\n      <td>2.1326</td>\n      <td>0.0706</td>\n      <td>0.4931</td>\n    </tr>\n    <tr>\n      <th>HYG</th>\n      <td>14.0073</td>\n      <td>0.4901</td>\n      <td>0.7147</td>\n    </tr>\n    <tr>\n      <th>IEF</th>\n      <td>26.2840</td>\n      <td>0.7084</td>\n      <td>0.2742</td>\n    </tr>\n    <tr>\n      <th>IYR</th>\n      <td>-4.2629</td>\n      <td>-0.1189</td>\n      <td>0.6844</td>\n    </tr>\n    <tr>\n      <th>PSP</th>\n      <td>-5.9211</td>\n      <td>-0.2625</td>\n      <td>0.5518</td>\n    </tr>\n    <tr>\n      <th>QAI</th>\n      <td>-49.8963</td>\n      <td>-0.2081</td>\n      <td>0.3434</td>\n    </tr>\n    <tr>\n      <th>SPY</th>\n      <td>27.4196</td>\n      <td>0.6044</td>\n      <td>0.9570</td>\n    </tr>\n    <tr>\n      <th>TIP</th>\n      <td>3.1556</td>\n      <td>0.2086</td>\n      <td>0.4730</td>\n    </tr>\n  </tbody>\n</table>\n</div>"
     },
     "execution_count": 459,
     "metadata": {},
     "output_type": "execute_result"
    }
   ],
   "source": [
    "pd.concat([W_tan, target_port, metrics.an_sharpe], axis=1)"
   ],
   "metadata": {
    "collapsed": false,
    "ExecuteTime": {
     "end_time": "2023-07-09T03:17:00.452341Z",
     "start_time": "2023-07-09T03:17:00.285502Z"
    }
   }
  },
  {
   "cell_type": "markdown",
   "source": [
    "The portfolio is long on `SPY`, `IEF`, `HYG`, `EEM`, `TIP`, `EFA`, and `DBC` (in descending order of weights), and short on `IYR`, `PSP`, `BWX`, `QAI` (in ascending order of absolute value).\n",
    "\n",
    "The Portfolio is longest on `SPY` and shortest on `QAI`."
   ],
   "metadata": {
    "collapsed": false
   }
  },
  {
   "cell_type": "code",
   "execution_count": 460,
   "outputs": [
    {
     "data": {
      "text/plain": "<pandas.io.formats.style.Styler at 0x1791ee4f0>",
      "text/html": "<style type=\"text/css\">\n</style>\n<table id=\"T_95e9e\">\n  <thead>\n    <tr>\n      <th class=\"blank level0\" >&nbsp;</th>\n      <th id=\"T_95e9e_level0_col0\" class=\"col_heading level0 col0\" >an_mean</th>\n      <th id=\"T_95e9e_level0_col1\" class=\"col_heading level0 col1\" >an_volatility</th>\n      <th id=\"T_95e9e_level0_col2\" class=\"col_heading level0 col2\" >an_sharpe</th>\n    </tr>\n  </thead>\n  <tbody>\n    <tr>\n      <th id=\"T_95e9e_level0_row0\" class=\"row_heading level0 row0\" >0</th>\n      <td id=\"T_95e9e_row0_col0\" class=\"data row0 col0\" >3.58</td>\n      <td id=\"T_95e9e_row0_col1\" class=\"data row0 col1\" >2.08</td>\n      <td id=\"T_95e9e_row0_col2\" class=\"data row0 col2\" >1.72</td>\n    </tr>\n  </tbody>\n</table>\n"
     },
     "metadata": {},
     "output_type": "display_data"
    }
   ],
   "source": [
    "tan_summ = performance_summary(asset_return @ W_tan)\n",
    "display(tan_summ.style.format(\"{:.2f}\"))"
   ],
   "metadata": {
    "collapsed": false,
    "ExecuteTime": {
     "end_time": "2023-07-09T03:17:00.452456Z",
     "start_time": "2023-07-09T03:17:00.291395Z"
    }
   }
  },
  {
   "cell_type": "markdown",
   "metadata": {},
   "source": [
    "### (d) Does this line up with which assets have the strongest Sharpe ratios?"
   ]
  },
  {
   "cell_type": "markdown",
   "source": [
    "No. The asset with the highest Sharpe ratio is `SPY`, and the asset with the lowest Sharpe ratio is `BWX`, which seems to support the conclusion. However, it is not the case  for others."
   ],
   "metadata": {
    "collapsed": false
   }
  },
  {
   "cell_type": "markdown",
   "metadata": {},
   "source": [
    "## 5. Simple Portfolios\n",
    "\n",
    "### (a) Equal-weighted portfolio\n",
    "\n",
    "Calculate the performance of the equally-weighted portfolio over the sample. Rescale the entire weighting vector to have target mean $\\tilde{w} = .01$. Report its mean, volatility, and Sharpe ratio."
   ]
  },
  {
   "cell_type": "code",
   "execution_count": 461,
   "outputs": [],
   "source": [
    "# Calculate the equal-weighted portfolio.\n",
    "W_eq = np.ones(len(asset_return.columns)) / len(asset_return.columns)"
   ],
   "metadata": {
    "collapsed": false,
    "ExecuteTime": {
     "end_time": "2023-07-09T03:17:00.452516Z",
     "start_time": "2023-07-09T03:17:00.297944Z"
    }
   }
  },
  {
   "cell_type": "code",
   "execution_count": 462,
   "outputs": [
    {
     "data": {
      "text/plain": "     Weight\nBWX  0.1315\nDBC  0.1315\nEEM  0.1315\nEFA  0.1315\nHYG  0.1315\nIEF  0.1315\nIYR  0.1315\nPSP  0.1315\nQAI  0.1315\nSPY  0.1315\nTIP  0.1315",
      "text/html": "<div>\n<style scoped>\n    .dataframe tbody tr th:only-of-type {\n        vertical-align: middle;\n    }\n\n    .dataframe tbody tr th {\n        vertical-align: top;\n    }\n\n    .dataframe thead th {\n        text-align: right;\n    }\n</style>\n<table border=\"1\" class=\"dataframe\">\n  <thead>\n    <tr style=\"text-align: right;\">\n      <th></th>\n      <th>Weight</th>\n    </tr>\n  </thead>\n  <tbody>\n    <tr>\n      <th>BWX</th>\n      <td>0.1315</td>\n    </tr>\n    <tr>\n      <th>DBC</th>\n      <td>0.1315</td>\n    </tr>\n    <tr>\n      <th>EEM</th>\n      <td>0.1315</td>\n    </tr>\n    <tr>\n      <th>EFA</th>\n      <td>0.1315</td>\n    </tr>\n    <tr>\n      <th>HYG</th>\n      <td>0.1315</td>\n    </tr>\n    <tr>\n      <th>IEF</th>\n      <td>0.1315</td>\n    </tr>\n    <tr>\n      <th>IYR</th>\n      <td>0.1315</td>\n    </tr>\n    <tr>\n      <th>PSP</th>\n      <td>0.1315</td>\n    </tr>\n    <tr>\n      <th>QAI</th>\n      <td>0.1315</td>\n    </tr>\n    <tr>\n      <th>SPY</th>\n      <td>0.1315</td>\n    </tr>\n    <tr>\n      <th>TIP</th>\n      <td>0.1315</td>\n    </tr>\n  </tbody>\n</table>\n</div>"
     },
     "metadata": {},
     "output_type": "display_data"
    }
   ],
   "source": [
    "\n",
    "# Rescale to fit to target return of 0.0075.\n",
    "W_eq = W_eq * (0.0075 / (asset_return.mean() @ W_eq))\n",
    "# Match the weights with the assets.\n",
    "w_eq_df = pd.DataFrame(W_eq, index=asset_return.columns, columns=[\"Weight\"]).sort_values(\n",
    "    by=\"Weight\", ascending=False\n",
    ")\n",
    "display(w_eq_df)\n"
   ],
   "metadata": {
    "collapsed": false,
    "ExecuteTime": {
     "end_time": "2023-07-09T03:17:00.452624Z",
     "start_time": "2023-07-09T03:17:00.310697Z"
    }
   }
  },
  {
   "cell_type": "code",
   "execution_count": 463,
   "outputs": [
    {
     "data": {
      "text/plain": "        an_mean  an_volatility  an_sharpe\nWeight   0.0900         0.1505     0.5980",
      "text/html": "<div>\n<style scoped>\n    .dataframe tbody tr th:only-of-type {\n        vertical-align: middle;\n    }\n\n    .dataframe tbody tr th {\n        vertical-align: top;\n    }\n\n    .dataframe thead th {\n        text-align: right;\n    }\n</style>\n<table border=\"1\" class=\"dataframe\">\n  <thead>\n    <tr style=\"text-align: right;\">\n      <th></th>\n      <th>an_mean</th>\n      <th>an_volatility</th>\n      <th>an_sharpe</th>\n    </tr>\n  </thead>\n  <tbody>\n    <tr>\n      <th>Weight</th>\n      <td>0.0900</td>\n      <td>0.1505</td>\n      <td>0.5980</td>\n    </tr>\n  </tbody>\n</table>\n</div>"
     },
     "execution_count": 463,
     "metadata": {},
     "output_type": "execute_result"
    }
   ],
   "source": [
    "\n",
    "# Calculate the returns of the equal weighted portfolio.\n",
    "performance_summary(asset_return @ w_eq_df)"
   ],
   "metadata": {
    "collapsed": false,
    "ExecuteTime": {
     "end_time": "2023-07-09T03:17:00.452755Z",
     "start_time": "2023-07-09T03:17:00.313862Z"
    }
   }
  },
  {
   "cell_type": "markdown",
   "source": [
    "### (b) Risk parity portfolio"
   ],
   "metadata": {
    "collapsed": false
   }
  },
  {
   "cell_type": "markdown",
   "source": [
    "Performance of the \"risk-parity\" portfolio over the sample. Risk-parity is a term used in a variety of ways, but here we have in mind setting the weight of the portfolio to be proportional to the inverse of its full-sample volatility estimate.\n",
    "$\n",
    "w^i = \\frac{1}{\\sigma_i}\n",
    "$\n",
    "This will give the weight vector, $w$, but you will need to rescale it to have a target mean of $\\tilde{\\mu} = .01$."
   ],
   "metadata": {
    "collapsed": false
   }
  },
  {
   "cell_type": "code",
   "execution_count": 464,
   "outputs": [
    {
     "data": {
      "text/plain": "     Unscaled Weight\nQAI           0.1768\nTIP           0.1738\nIEF           0.1436\nBWX           0.1075\nHYG           0.1001\nSPY           0.0607\nEFA           0.0540\nDBC           0.0503\nIYR           0.0478\nEEM           0.0457\nPSP           0.0398",
      "text/html": "<div>\n<style scoped>\n    .dataframe tbody tr th:only-of-type {\n        vertical-align: middle;\n    }\n\n    .dataframe tbody tr th {\n        vertical-align: top;\n    }\n\n    .dataframe thead th {\n        text-align: right;\n    }\n</style>\n<table border=\"1\" class=\"dataframe\">\n  <thead>\n    <tr style=\"text-align: right;\">\n      <th></th>\n      <th>Unscaled Weight</th>\n    </tr>\n  </thead>\n  <tbody>\n    <tr>\n      <th>QAI</th>\n      <td>0.1768</td>\n    </tr>\n    <tr>\n      <th>TIP</th>\n      <td>0.1738</td>\n    </tr>\n    <tr>\n      <th>IEF</th>\n      <td>0.1436</td>\n    </tr>\n    <tr>\n      <th>BWX</th>\n      <td>0.1075</td>\n    </tr>\n    <tr>\n      <th>HYG</th>\n      <td>0.1001</td>\n    </tr>\n    <tr>\n      <th>SPY</th>\n      <td>0.0607</td>\n    </tr>\n    <tr>\n      <th>EFA</th>\n      <td>0.0540</td>\n    </tr>\n    <tr>\n      <th>DBC</th>\n      <td>0.0503</td>\n    </tr>\n    <tr>\n      <th>IYR</th>\n      <td>0.0478</td>\n    </tr>\n    <tr>\n      <th>EEM</th>\n      <td>0.0457</td>\n    </tr>\n    <tr>\n      <th>PSP</th>\n      <td>0.0398</td>\n    </tr>\n  </tbody>\n</table>\n</div>"
     },
     "metadata": {},
     "output_type": "display_data"
    }
   ],
   "source": [
    "# compute the covariance matrix\n",
    "cov_matrix = asset_return.cov()\n",
    "mean_rets = asset_return.mean()\n",
    "inv_std = 1 / np.sqrt(np.diag(cov_matrix))\n",
    "W_rp = inv_std / np.sum(inv_std)\n",
    "W_rp_df = pd.DataFrame(W_rp, index=asset_return.columns, columns=['Unscaled Weight']).sort_values(\n",
    "    by=\"Unscaled Weight\", ascending=False)\n",
    "display(W_rp_df)"
   ],
   "metadata": {
    "collapsed": false,
    "ExecuteTime": {
     "end_time": "2023-07-09T03:17:00.477028Z",
     "start_time": "2023-07-09T03:17:00.327028Z"
    }
   }
  },
  {
   "cell_type": "code",
   "execution_count": 465,
   "outputs": [
    {
     "data": {
      "text/plain": "     Scaled Weight\nQAI         0.3591\nTIP         0.3531\nIEF         0.2917\nBWX         0.2185\nHYG         0.2033\nSPY         0.1234\nEFA         0.1097\nDBC         0.1022\nIYR         0.0971\nEEM         0.0929\nPSP         0.0808",
      "text/html": "<div>\n<style scoped>\n    .dataframe tbody tr th:only-of-type {\n        vertical-align: middle;\n    }\n\n    .dataframe tbody tr th {\n        vertical-align: top;\n    }\n\n    .dataframe thead th {\n        text-align: right;\n    }\n</style>\n<table border=\"1\" class=\"dataframe\">\n  <thead>\n    <tr style=\"text-align: right;\">\n      <th></th>\n      <th>Scaled Weight</th>\n    </tr>\n  </thead>\n  <tbody>\n    <tr>\n      <th>QAI</th>\n      <td>0.3591</td>\n    </tr>\n    <tr>\n      <th>TIP</th>\n      <td>0.3531</td>\n    </tr>\n    <tr>\n      <th>IEF</th>\n      <td>0.2917</td>\n    </tr>\n    <tr>\n      <th>BWX</th>\n      <td>0.2185</td>\n    </tr>\n    <tr>\n      <th>HYG</th>\n      <td>0.2033</td>\n    </tr>\n    <tr>\n      <th>SPY</th>\n      <td>0.1234</td>\n    </tr>\n    <tr>\n      <th>EFA</th>\n      <td>0.1097</td>\n    </tr>\n    <tr>\n      <th>DBC</th>\n      <td>0.1022</td>\n    </tr>\n    <tr>\n      <th>IYR</th>\n      <td>0.0971</td>\n    </tr>\n    <tr>\n      <th>EEM</th>\n      <td>0.0929</td>\n    </tr>\n    <tr>\n      <th>PSP</th>\n      <td>0.0808</td>\n    </tr>\n  </tbody>\n</table>\n</div>"
     },
     "metadata": {},
     "output_type": "display_data"
    }
   ],
   "source": [
    "# Again, rescale to fit to target return of 0.0075.\n",
    "# asset_return.mean() @ w_rp： expected return of the risk parity portfolio.\n",
    "# 0.0075 / (asset_return.mean() @ w_rp)： the ratio of the target return and the expected return of the risk parity portfolio.\n",
    "# w_rp * (0.0075 / (asset_return.mean() @ w_rp))： the weights of the risk parity portfolio with the target return.\n",
    "\n",
    "W_rp = W_rp * (0.0075 / (asset_return.mean() @ W_rp))\n",
    "W_rp_df = pd.DataFrame(W_rp, index=asset_return.columns, columns=[\"Scaled Weight\"]).sort_values(\n",
    "    by=\"Scaled Weight\", ascending=False\n",
    ")\n",
    "display(W_rp_df)"
   ],
   "metadata": {
    "collapsed": false,
    "ExecuteTime": {
     "end_time": "2023-07-09T03:17:00.477290Z",
     "start_time": "2023-07-09T03:17:00.356565Z"
    }
   }
  },
  {
   "cell_type": "code",
   "execution_count": 466,
   "outputs": [
    {
     "data": {
      "text/plain": "               an_mean  an_volatility  an_sharpe\nScaled Weight   0.0900         0.1492     0.6031",
      "text/html": "<div>\n<style scoped>\n    .dataframe tbody tr th:only-of-type {\n        vertical-align: middle;\n    }\n\n    .dataframe tbody tr th {\n        vertical-align: top;\n    }\n\n    .dataframe thead th {\n        text-align: right;\n    }\n</style>\n<table border=\"1\" class=\"dataframe\">\n  <thead>\n    <tr style=\"text-align: right;\">\n      <th></th>\n      <th>an_mean</th>\n      <th>an_volatility</th>\n      <th>an_sharpe</th>\n    </tr>\n  </thead>\n  <tbody>\n    <tr>\n      <th>Scaled Weight</th>\n      <td>0.0900</td>\n      <td>0.1492</td>\n      <td>0.6031</td>\n    </tr>\n  </tbody>\n</table>\n</div>"
     },
     "execution_count": 466,
     "metadata": {},
     "output_type": "execute_result"
    }
   ],
   "source": [
    "performance_summary(asset_return @ W_rp_df)\n"
   ],
   "metadata": {
    "collapsed": false,
    "ExecuteTime": {
     "end_time": "2023-07-09T03:17:00.477482Z",
     "start_time": "2023-07-09T03:17:00.367354Z"
    }
   }
  },
  {
   "cell_type": "markdown",
   "source": [
    "## Compare and contrast the performance of 5 portofolios"
   ],
   "metadata": {
    "collapsed": false
   }
  },
  {
   "cell_type": "code",
   "execution_count": 467,
   "outputs": [
    {
     "data": {
      "text/plain": "'tangency portfolio'"
     },
     "metadata": {},
     "output_type": "display_data"
    },
    {
     "data": {
      "text/plain": "   an_mean  an_volatility  an_sharpe\n0   3.5806         2.0821     1.7197",
      "text/html": "<div>\n<style scoped>\n    .dataframe tbody tr th:only-of-type {\n        vertical-align: middle;\n    }\n\n    .dataframe tbody tr th {\n        vertical-align: top;\n    }\n\n    .dataframe thead th {\n        text-align: right;\n    }\n</style>\n<table border=\"1\" class=\"dataframe\">\n  <thead>\n    <tr style=\"text-align: right;\">\n      <th></th>\n      <th>an_mean</th>\n      <th>an_volatility</th>\n      <th>an_sharpe</th>\n    </tr>\n  </thead>\n  <tbody>\n    <tr>\n      <th>0</th>\n      <td>3.5806</td>\n      <td>2.0821</td>\n      <td>1.7197</td>\n    </tr>\n  </tbody>\n</table>\n</div>"
     },
     "metadata": {},
     "output_type": "display_data"
    },
    {
     "data": {
      "text/plain": "'mean-variance portfolio'"
     },
     "metadata": {},
     "output_type": "display_data"
    },
    {
     "data": {
      "text/plain": "   an_mean  an_volatility  an_sharpe\n0   0.0900         0.0596     1.5088",
      "text/html": "<div>\n<style scoped>\n    .dataframe tbody tr th:only-of-type {\n        vertical-align: middle;\n    }\n\n    .dataframe tbody tr th {\n        vertical-align: top;\n    }\n\n    .dataframe thead th {\n        text-align: right;\n    }\n</style>\n<table border=\"1\" class=\"dataframe\">\n  <thead>\n    <tr style=\"text-align: right;\">\n      <th></th>\n      <th>an_mean</th>\n      <th>an_volatility</th>\n      <th>an_sharpe</th>\n    </tr>\n  </thead>\n  <tbody>\n    <tr>\n      <th>0</th>\n      <td>0.0900</td>\n      <td>0.0596</td>\n      <td>1.5088</td>\n    </tr>\n  </tbody>\n</table>\n</div>"
     },
     "metadata": {},
     "output_type": "display_data"
    },
    {
     "data": {
      "text/plain": "'global minimum variance portfolio'"
     },
     "metadata": {},
     "output_type": "display_data"
    },
    {
     "data": {
      "text/plain": "   an_mean  an_volatility  an_sharpe\n0   0.0007         0.0294     0.0242",
      "text/html": "<div>\n<style scoped>\n    .dataframe tbody tr th:only-of-type {\n        vertical-align: middle;\n    }\n\n    .dataframe tbody tr th {\n        vertical-align: top;\n    }\n\n    .dataframe thead th {\n        text-align: right;\n    }\n</style>\n<table border=\"1\" class=\"dataframe\">\n  <thead>\n    <tr style=\"text-align: right;\">\n      <th></th>\n      <th>an_mean</th>\n      <th>an_volatility</th>\n      <th>an_sharpe</th>\n    </tr>\n  </thead>\n  <tbody>\n    <tr>\n      <th>0</th>\n      <td>0.0007</td>\n      <td>0.0294</td>\n      <td>0.0242</td>\n    </tr>\n  </tbody>\n</table>\n</div>"
     },
     "metadata": {},
     "output_type": "display_data"
    },
    {
     "data": {
      "text/plain": "'equally-weighted portfolio'"
     },
     "metadata": {},
     "output_type": "display_data"
    },
    {
     "data": {
      "text/plain": "        an_mean  an_volatility  an_sharpe\nWeight   0.0900         0.1505     0.5980",
      "text/html": "<div>\n<style scoped>\n    .dataframe tbody tr th:only-of-type {\n        vertical-align: middle;\n    }\n\n    .dataframe tbody tr th {\n        vertical-align: top;\n    }\n\n    .dataframe thead th {\n        text-align: right;\n    }\n</style>\n<table border=\"1\" class=\"dataframe\">\n  <thead>\n    <tr style=\"text-align: right;\">\n      <th></th>\n      <th>an_mean</th>\n      <th>an_volatility</th>\n      <th>an_sharpe</th>\n    </tr>\n  </thead>\n  <tbody>\n    <tr>\n      <th>Weight</th>\n      <td>0.0900</td>\n      <td>0.1505</td>\n      <td>0.5980</td>\n    </tr>\n  </tbody>\n</table>\n</div>"
     },
     "metadata": {},
     "output_type": "display_data"
    },
    {
     "data": {
      "text/plain": "'risk-parity portfolio'"
     },
     "metadata": {},
     "output_type": "display_data"
    },
    {
     "data": {
      "text/plain": "        an_mean  an_volatility  an_sharpe\nWeight   0.0900         0.1492     0.6031",
      "text/html": "<div>\n<style scoped>\n    .dataframe tbody tr th:only-of-type {\n        vertical-align: middle;\n    }\n\n    .dataframe tbody tr th {\n        vertical-align: top;\n    }\n\n    .dataframe thead th {\n        text-align: right;\n    }\n</style>\n<table border=\"1\" class=\"dataframe\">\n  <thead>\n    <tr style=\"text-align: right;\">\n      <th></th>\n      <th>an_mean</th>\n      <th>an_volatility</th>\n      <th>an_sharpe</th>\n    </tr>\n  </thead>\n  <tbody>\n    <tr>\n      <th>Weight</th>\n      <td>0.0900</td>\n      <td>0.1492</td>\n      <td>0.6031</td>\n    </tr>\n  </tbody>\n</table>\n</div>"
     },
     "metadata": {},
     "output_type": "display_data"
    }
   ],
   "source": [
    "# tangency portfolio\n",
    "W_t = tangency_portfolio(asset_return.mean(), asset_return.cov())\n",
    "display(\"tangency portfolio\", performance_summary(asset_return @ W_t))\n",
    "\n",
    "# mean-variance portfolio\n",
    "W_mv  = mv_portfolio(asset_return.mean(), asset_return.cov(), target=0.0075)\n",
    "display(\"mean-variance portfolio\", performance_summary(asset_return @ W_mv))\n",
    "\n",
    "# global minimum variance portfolio\n",
    "W_gmv = gmv_portfolio(asset_return.cov())\n",
    "display(\"global minimum variance portfolio\", performance_summary(asset_return @ W_gmv))\n",
    "\n",
    "# equally-weighted portfolio\n",
    "W_eq = equal_weighted_portfolio(asset_return, target=0.0075)\n",
    "display(\"equally-weighted portfolio\", performance_summary(asset_return @ W_eq))\n",
    "\n",
    "\n",
    "# risk-parity portfolio\n",
    "W_rp = risk_parity_portfolio(asset_return, target=0.0075)\n",
    "display(\"risk-parity portfolio\", performance_summary(asset_return @ W_rp))"
   ],
   "metadata": {
    "collapsed": false,
    "ExecuteTime": {
     "end_time": "2023-07-09T03:17:00.674656Z",
     "start_time": "2023-07-09T03:17:00.381130Z"
    }
   }
  },
  {
   "cell_type": "markdown",
   "source": [
    "### (c) How does these compare to the MV portfolio from problem 2.4?"
   ],
   "metadata": {
    "collapsed": false
   }
  },
  {
   "cell_type": "markdown",
   "metadata": {},
   "source": [
    "The results from equally-weighted and risk-parity portfolios are similar to that of the MV frontier.\n",
    "These portfolios have lower values of the Sharpe-Ratio, meaning they have greater standard deviation or variability."
   ]
  }
 ],
 "metadata": {
  "interpreter": {
   "hash": "f6d5cac9967d36a68534a233eb03728be3b97600d649ddf8798158979807cedd"
  },
  "kernelspec": {
   "display_name": "Python 3 (ipykernel)",
   "language": "python",
   "name": "python3"
  },
  "language_info": {
   "codemirror_mode": {
    "name": "ipython",
    "version": 3
   },
   "file_extension": ".py",
   "mimetype": "text/x-python",
   "name": "python",
   "nbconvert_exporter": "python",
   "pygments_lexer": "ipython3",
   "version": "3.8.8"
  }
 },
 "nbformat": 4,
 "nbformat_minor": 2
}
