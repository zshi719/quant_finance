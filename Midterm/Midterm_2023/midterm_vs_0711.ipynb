{
 "cells": [
  {
   "cell_type": "raw",
   "source": [
    "---\n",
    "title: \"FINM 250 Midterm Exam\"\n",
    "date: 2023-07-11\n",
    "author: \"Victoria Shi\"\n",
    "format:\n",
    "  html:\n",
    "    toc: true\n",
    "    toc-title: Contents\n",
    "    toc-depth: 4\n",
    "    code-fold: show\n",
    "    self-contained: true\n",
    "    html-math-method: mathml\n",
    "jupyter: python3\n",
    "---"
   ],
   "metadata": {
    "collapsed": false
   }
  },
  {
   "cell_type": "code",
   "execution_count": 2,
   "outputs": [],
   "source": [
    "import matplotlib.pyplot as plt\n",
    "import numpy as np\n",
    "import pandas as pd\n",
    "import seaborn as sns\n",
    "from sklearn.linear_model import LinearRegression\n",
    "\n",
    "sns.set_theme(style='white', palette='crest', font_scale=0.8, rc={'figure.figsize': (8, 6)})\n",
    "pd.set_option(\"display.float_format\", lambda x: \"{:.4f}\".format(x))"
   ],
   "metadata": {
    "collapsed": false,
    "ExecuteTime": {
     "end_time": "2023-07-12T02:38:21.298862Z",
     "start_time": "2023-07-12T02:38:20.664531Z"
    }
   }
  },
  {
   "cell_type": "code",
   "execution_count": 3,
   "outputs": [],
   "source": [
    "# RISK & RETURN METRICS\n",
    "\n",
    "def performance_summary(return_data, adj_factor=12):\n",
    "    summary = {\"Mean\": return_data.mean() * adj_factor,\n",
    "               \"Volatility\": return_data.std() * np.sqrt(adj_factor)}\n",
    "    summary[\"Sharpe Ratio\"] = (\n",
    "            summary[\"Mean\"] / summary[\"Volatility\"]\n",
    "    )\n",
    "    return pd.DataFrame(summary, index=return_data.columns)\n",
    "\n",
    "def calc_return_metrics(data, adj):\n",
    "    summary = dict()\n",
    "    summary[\"Annualized Mean\"] = data.mean() * adj\n",
    "    summary[\"Annualized Volatility\"] = data.std() * np.sqrt(adj)\n",
    "    summary[\"Annualized Sharpe Ratio\"] = (\n",
    "            summary[\"Annualized Mean\"] / summary[\"Annualized Volatility\"]\n",
    "    )\n",
    "    return pd.DataFrame(summary, index=data.columns)\n",
    "\n",
    "def calc_risk_metrics(data, qt):\n",
    "    summary = dict()\n",
    "    summary[f\"VaR ({qt})\"] = data.quantile(qt, axis=0)\n",
    "    wealth_index = 1000 * (1 + data).cumprod()\n",
    "    previous_peaks = wealth_index.cummax()\n",
    "    drawdowns = (wealth_index - previous_peaks) / previous_peaks\n",
    "    summary[\"MDD\"] = drawdowns.min()\n",
    "    return pd.DataFrame(summary, index=data.columns)"
   ],
   "metadata": {
    "collapsed": false,
    "ExecuteTime": {
     "end_time": "2023-07-12T02:38:21.299025Z",
     "start_time": "2023-07-12T02:38:20.798124Z"
    }
   }
  },
  {
   "cell_type": "code",
   "execution_count": 4,
   "outputs": [],
   "source": [
    "# LINEAR FACTOR DECOMPOSITION\n",
    "\n",
    "def get_ols_metrics(regressors, targets, annualization=12, ignorenan=True):\n",
    "    if not isinstance(regressors, pd.DataFrame):\n",
    "        regressors = regressors.to_frame()\n",
    "    if not isinstance(targets, pd.DataFrame):\n",
    "        targets = targets.to_frame()\n",
    "\n",
    "    df_aligned = targets.join(regressors, how='inner', lsuffix='y ')\n",
    "    Y = df_aligned[targets.columns]\n",
    "    Xset = df_aligned[regressors.columns]\n",
    "\n",
    "    reg = pd.DataFrame(index=targets.columns)\n",
    "    for col in Y.columns:\n",
    "        _y = Y[col]\n",
    "\n",
    "        if ignorenan:\n",
    "            alldata = Xset.join(_y, lsuffix='X')\n",
    "            mask = alldata.notnull().all(axis=1)\n",
    "            _y = _y[mask]\n",
    "            _X = Xset[mask]\n",
    "        else:\n",
    "            _X = Xset\n",
    "\n",
    "        _model = LinearRegression().fit(_X, _y)\n",
    "        reg.loc[col, 'Alpha'] = _model.intercept_ * annualization\n",
    "\n",
    "        reg.loc[col, regressors.columns] = _model.coef_\n",
    "        reg.loc[col, 'R-squared'] = _model.score(_X, _y)\n",
    "\n",
    "\n",
    "        y_fit = _model.predict(_X)\n",
    "        residuals = _y - y_fit\n",
    "\n",
    "        if Xset.shape[1] == 1:\n",
    "            reg.loc[col, 'Treynor Ratio'] = (_y.mean() / _model.coef_) * annualization\n",
    "\n",
    "        num_roundoff = 1e-12\n",
    "        if np.abs(_model.intercept_) < num_roundoff:\n",
    "            reg.loc[col, 'Info Ratio'] = None\n",
    "        else:\n",
    "            reg.loc[col, 'Info Ratio'] = (_model.intercept_ / residuals.std()) * np.sqrt(annualization)\n",
    "\n",
    "    return reg"
   ],
   "metadata": {
    "collapsed": false,
    "ExecuteTime": {
     "end_time": "2023-07-12T02:38:21.299801Z",
     "start_time": "2023-07-12T02:38:20.802466Z"
    }
   }
  },
  {
   "cell_type": "code",
   "execution_count": 5,
   "outputs": [],
   "source": [
    "# PORTFOLIO OPTIMIZATION\n",
    "\n",
    "def tangency_portfolio(return_data, cov):\n",
    "    inv_cov = np.linalg.inv(cov)\n",
    "    ones = np.ones(return_data.shape)\n",
    "    weights = inv_cov @ return_data / (ones.T @ inv_cov @ return_data)\n",
    "    try:\n",
    "        return pd.DataFrame(weights, index=return_data.index)\n",
    "    except AttributeError:\n",
    "        return weights\n",
    "\n",
    "def gmv_portfolio(cov):\n",
    "    try:\n",
    "        cov_inv = np.linalg.inv(cov)\n",
    "    except TypeError:\n",
    "        cov_inv = np.linalg.inv(np.array(cov))\n",
    "\n",
    "    ones = np.ones(len(cov.index))\n",
    "    weights = cov_inv @ ones / (ones @ cov_inv @ ones)\n",
    "    try:\n",
    "        return pd.DataFrame(weights, index=cov.index)\n",
    "    except AttributeError:\n",
    "        return weights\n",
    "\n",
    "def mv_portfolio(return_data, cov, target=None):\n",
    "    w_tan = tangency_portfolio(return_data, cov)\n",
    "    if target is None:\n",
    "        return w_tan\n",
    "\n",
    "    w_gmv = gmv_portfolio(cov)\n",
    "    delta = (target - return_data @ w_gmv) / (return_data @ w_tan - return_data @ w_gmv)\n",
    "    scaled_weights = delta * w_tan + (1 - delta) * w_gmv\n",
    "    try:\n",
    "        return pd.DataFrame(scaled_weights, index=return_data.index)\n",
    "    except AttributeError:\n",
    "        return scaled_weights"
   ],
   "metadata": {
    "collapsed": false,
    "ExecuteTime": {
     "end_time": "2023-07-12T02:38:21.299837Z",
     "start_time": "2023-07-12T02:38:20.806265Z"
    }
   }
  },
  {
   "cell_type": "markdown",
   "source": [
    "# 1. Return Analysis"
   ],
   "metadata": {
    "collapsed": false
   }
  },
  {
   "cell_type": "code",
   "execution_count": 6,
   "outputs": [
    {
     "data": {
      "text/plain": "              NG1     KC1     CC1     LB1     CT1     SB1     LC1      W1  \\\nDate                                                                        \n2000-01-31 0.1389 -0.1217 -0.0543 -0.0110  0.1362 -0.1185  0.0204  0.0271   \n2000-02-29 0.0329 -0.1051 -0.0571 -0.0516 -0.0261 -0.1464 -0.0100 -0.0404   \n2000-03-31 0.0619  0.0333  0.0577 -0.0214  0.0225  0.2641  0.0300  0.0570   \n2000-04-30 0.0620 -0.0856 -0.0709 -0.0822 -0.0464 -0.1300  0.0242 -0.0809   \n2000-05-31 0.3818 -0.0291  0.1222 -0.0133  0.1194  0.4582 -0.0923  0.1292   \n\n                S1      C1     GC1     SI1     HG1     PA1  \nDate                                                        \n2000-01-31  0.0961  0.0717 -0.0262 -0.0274 -0.0141  0.0749  \n2000-02-29 -0.0176 -0.0270  0.0345 -0.0495 -0.0718  0.4646  \n2000-03-31  0.0836  0.0930 -0.0584 -0.0102  0.0118 -0.1683  \n2000-04-30 -0.0394 -0.0565 -0.0179 -0.0166 -0.0171  0.0375  \n2000-05-31 -0.0221  0.0006 -0.0159 -0.0088  0.0216 -0.0674  ",
      "text/html": "<div>\n<style scoped>\n    .dataframe tbody tr th:only-of-type {\n        vertical-align: middle;\n    }\n\n    .dataframe tbody tr th {\n        vertical-align: top;\n    }\n\n    .dataframe thead th {\n        text-align: right;\n    }\n</style>\n<table border=\"1\" class=\"dataframe\">\n  <thead>\n    <tr style=\"text-align: right;\">\n      <th></th>\n      <th>NG1</th>\n      <th>KC1</th>\n      <th>CC1</th>\n      <th>LB1</th>\n      <th>CT1</th>\n      <th>SB1</th>\n      <th>LC1</th>\n      <th>W1</th>\n      <th>S1</th>\n      <th>C1</th>\n      <th>GC1</th>\n      <th>SI1</th>\n      <th>HG1</th>\n      <th>PA1</th>\n    </tr>\n    <tr>\n      <th>Date</th>\n      <th></th>\n      <th></th>\n      <th></th>\n      <th></th>\n      <th></th>\n      <th></th>\n      <th></th>\n      <th></th>\n      <th></th>\n      <th></th>\n      <th></th>\n      <th></th>\n      <th></th>\n      <th></th>\n    </tr>\n  </thead>\n  <tbody>\n    <tr>\n      <th>2000-01-31</th>\n      <td>0.1389</td>\n      <td>-0.1217</td>\n      <td>-0.0543</td>\n      <td>-0.0110</td>\n      <td>0.1362</td>\n      <td>-0.1185</td>\n      <td>0.0204</td>\n      <td>0.0271</td>\n      <td>0.0961</td>\n      <td>0.0717</td>\n      <td>-0.0262</td>\n      <td>-0.0274</td>\n      <td>-0.0141</td>\n      <td>0.0749</td>\n    </tr>\n    <tr>\n      <th>2000-02-29</th>\n      <td>0.0329</td>\n      <td>-0.1051</td>\n      <td>-0.0571</td>\n      <td>-0.0516</td>\n      <td>-0.0261</td>\n      <td>-0.1464</td>\n      <td>-0.0100</td>\n      <td>-0.0404</td>\n      <td>-0.0176</td>\n      <td>-0.0270</td>\n      <td>0.0345</td>\n      <td>-0.0495</td>\n      <td>-0.0718</td>\n      <td>0.4646</td>\n    </tr>\n    <tr>\n      <th>2000-03-31</th>\n      <td>0.0619</td>\n      <td>0.0333</td>\n      <td>0.0577</td>\n      <td>-0.0214</td>\n      <td>0.0225</td>\n      <td>0.2641</td>\n      <td>0.0300</td>\n      <td>0.0570</td>\n      <td>0.0836</td>\n      <td>0.0930</td>\n      <td>-0.0584</td>\n      <td>-0.0102</td>\n      <td>0.0118</td>\n      <td>-0.1683</td>\n    </tr>\n    <tr>\n      <th>2000-04-30</th>\n      <td>0.0620</td>\n      <td>-0.0856</td>\n      <td>-0.0709</td>\n      <td>-0.0822</td>\n      <td>-0.0464</td>\n      <td>-0.1300</td>\n      <td>0.0242</td>\n      <td>-0.0809</td>\n      <td>-0.0394</td>\n      <td>-0.0565</td>\n      <td>-0.0179</td>\n      <td>-0.0166</td>\n      <td>-0.0171</td>\n      <td>0.0375</td>\n    </tr>\n    <tr>\n      <th>2000-05-31</th>\n      <td>0.3818</td>\n      <td>-0.0291</td>\n      <td>0.1222</td>\n      <td>-0.0133</td>\n      <td>0.1194</td>\n      <td>0.4582</td>\n      <td>-0.0923</td>\n      <td>0.1292</td>\n      <td>-0.0221</td>\n      <td>0.0006</td>\n      <td>-0.0159</td>\n      <td>-0.0088</td>\n      <td>0.0216</td>\n      <td>-0.0674</td>\n    </tr>\n  </tbody>\n</table>\n</div>"
     },
     "execution_count": 6,
     "metadata": {},
     "output_type": "execute_result"
    }
   ],
   "source": [
    "rets = pd.read_excel(\n",
    "    \"midterm_A_2023_data.xlsx\",\n",
    "    sheet_name=\"commodities (excess returns)\",\n",
    "    index_col=0,\n",
    "    parse_dates=True,\n",
    ")\n",
    "rets.head()"
   ],
   "metadata": {
    "collapsed": false,
    "ExecuteTime": {
     "end_time": "2023-07-12T02:38:21.304277Z",
     "start_time": "2023-07-12T02:38:20.809386Z"
    }
   }
  },
  {
   "cell_type": "markdown",
   "source": [
    "\n",
    "### 1. Annualized excess return statistics\n",
    "• mean\n",
    "• volatility\n",
    "• Sharpe ratio"
   ],
   "metadata": {
    "collapsed": false
   }
  },
  {
   "cell_type": "code",
   "execution_count": 7,
   "outputs": [
    {
     "data": {
      "text/plain": "     Annualized Mean  Annualized Volatility  Annualized Sharpe Ratio\nNG1           0.1440                 0.5381                   0.2676\nKC1           0.0450                 0.3209                   0.1401\nCC1           0.0848                 0.3246                   0.2612\nLB1           0.1309                 0.4008                   0.3267\nCT1           0.0572                 0.3071                   0.1864\nSB1           0.0913                 0.3467                   0.2635\nLC1           0.0296                 0.1876                   0.1576\nW1            0.0761                 0.3116                   0.2441\nS1            0.0713                 0.2651                   0.2688\nC1            0.0861                 0.2986                   0.2882\nGC1           0.0825                 0.1645                   0.5017\nSI1           0.1044                 0.3075                   0.3394\nHG1           0.0940                 0.2602                   0.3614\nPA1           0.1293                 0.3516                   0.3678",
      "text/html": "<div>\n<style scoped>\n    .dataframe tbody tr th:only-of-type {\n        vertical-align: middle;\n    }\n\n    .dataframe tbody tr th {\n        vertical-align: top;\n    }\n\n    .dataframe thead th {\n        text-align: right;\n    }\n</style>\n<table border=\"1\" class=\"dataframe\">\n  <thead>\n    <tr style=\"text-align: right;\">\n      <th></th>\n      <th>Annualized Mean</th>\n      <th>Annualized Volatility</th>\n      <th>Annualized Sharpe Ratio</th>\n    </tr>\n  </thead>\n  <tbody>\n    <tr>\n      <th>NG1</th>\n      <td>0.1440</td>\n      <td>0.5381</td>\n      <td>0.2676</td>\n    </tr>\n    <tr>\n      <th>KC1</th>\n      <td>0.0450</td>\n      <td>0.3209</td>\n      <td>0.1401</td>\n    </tr>\n    <tr>\n      <th>CC1</th>\n      <td>0.0848</td>\n      <td>0.3246</td>\n      <td>0.2612</td>\n    </tr>\n    <tr>\n      <th>LB1</th>\n      <td>0.1309</td>\n      <td>0.4008</td>\n      <td>0.3267</td>\n    </tr>\n    <tr>\n      <th>CT1</th>\n      <td>0.0572</td>\n      <td>0.3071</td>\n      <td>0.1864</td>\n    </tr>\n    <tr>\n      <th>SB1</th>\n      <td>0.0913</td>\n      <td>0.3467</td>\n      <td>0.2635</td>\n    </tr>\n    <tr>\n      <th>LC1</th>\n      <td>0.0296</td>\n      <td>0.1876</td>\n      <td>0.1576</td>\n    </tr>\n    <tr>\n      <th>W1</th>\n      <td>0.0761</td>\n      <td>0.3116</td>\n      <td>0.2441</td>\n    </tr>\n    <tr>\n      <th>S1</th>\n      <td>0.0713</td>\n      <td>0.2651</td>\n      <td>0.2688</td>\n    </tr>\n    <tr>\n      <th>C1</th>\n      <td>0.0861</td>\n      <td>0.2986</td>\n      <td>0.2882</td>\n    </tr>\n    <tr>\n      <th>GC1</th>\n      <td>0.0825</td>\n      <td>0.1645</td>\n      <td>0.5017</td>\n    </tr>\n    <tr>\n      <th>SI1</th>\n      <td>0.1044</td>\n      <td>0.3075</td>\n      <td>0.3394</td>\n    </tr>\n    <tr>\n      <th>HG1</th>\n      <td>0.0940</td>\n      <td>0.2602</td>\n      <td>0.3614</td>\n    </tr>\n    <tr>\n      <th>PA1</th>\n      <td>0.1293</td>\n      <td>0.3516</td>\n      <td>0.3678</td>\n    </tr>\n  </tbody>\n</table>\n</div>"
     },
     "metadata": {},
     "output_type": "display_data"
    }
   ],
   "source": [
    "metrics = calc_return_metrics(rets, adj=12)\n",
    "display(metrics)"
   ],
   "metadata": {
    "collapsed": false,
    "ExecuteTime": {
     "end_time": "2023-07-12T02:38:21.304347Z",
     "start_time": "2023-07-12T02:38:20.914744Z"
    }
   }
  },
  {
   "cell_type": "markdown",
   "source": [
    "### 2. Risk metrics\n",
    "- VaR (0.01)\n",
    "- CVaR (0.01)\n",
    "- Max Drawdown"
   ],
   "metadata": {
    "collapsed": false
   }
  },
  {
   "cell_type": "code",
   "execution_count": 8,
   "outputs": [
    {
     "data": {
      "text/plain": "     VaR (0.01)     MDD\nNG1     -0.3590 -0.9015\nKC1     -0.1781 -0.7044\nCC1     -0.1981 -0.5115\nLB1     -0.2393 -0.7117\nCT1     -0.2069 -0.7640\nSB1     -0.2015 -0.7109\nLC1     -0.1272 -0.4947\nW1      -0.1922 -0.6695\nS1      -0.2141 -0.5484\nC1      -0.1961 -0.6339\nGC1     -0.1075 -0.3811\nSI1     -0.2216 -0.7205\nHG1     -0.1488 -0.6576\nPA1     -0.2251 -0.8572",
      "text/html": "<div>\n<style scoped>\n    .dataframe tbody tr th:only-of-type {\n        vertical-align: middle;\n    }\n\n    .dataframe tbody tr th {\n        vertical-align: top;\n    }\n\n    .dataframe thead th {\n        text-align: right;\n    }\n</style>\n<table border=\"1\" class=\"dataframe\">\n  <thead>\n    <tr style=\"text-align: right;\">\n      <th></th>\n      <th>VaR (0.01)</th>\n      <th>MDD</th>\n    </tr>\n  </thead>\n  <tbody>\n    <tr>\n      <th>NG1</th>\n      <td>-0.3590</td>\n      <td>-0.9015</td>\n    </tr>\n    <tr>\n      <th>KC1</th>\n      <td>-0.1781</td>\n      <td>-0.7044</td>\n    </tr>\n    <tr>\n      <th>CC1</th>\n      <td>-0.1981</td>\n      <td>-0.5115</td>\n    </tr>\n    <tr>\n      <th>LB1</th>\n      <td>-0.2393</td>\n      <td>-0.7117</td>\n    </tr>\n    <tr>\n      <th>CT1</th>\n      <td>-0.2069</td>\n      <td>-0.7640</td>\n    </tr>\n    <tr>\n      <th>SB1</th>\n      <td>-0.2015</td>\n      <td>-0.7109</td>\n    </tr>\n    <tr>\n      <th>LC1</th>\n      <td>-0.1272</td>\n      <td>-0.4947</td>\n    </tr>\n    <tr>\n      <th>W1</th>\n      <td>-0.1922</td>\n      <td>-0.6695</td>\n    </tr>\n    <tr>\n      <th>S1</th>\n      <td>-0.2141</td>\n      <td>-0.5484</td>\n    </tr>\n    <tr>\n      <th>C1</th>\n      <td>-0.1961</td>\n      <td>-0.6339</td>\n    </tr>\n    <tr>\n      <th>GC1</th>\n      <td>-0.1075</td>\n      <td>-0.3811</td>\n    </tr>\n    <tr>\n      <th>SI1</th>\n      <td>-0.2216</td>\n      <td>-0.7205</td>\n    </tr>\n    <tr>\n      <th>HG1</th>\n      <td>-0.1488</td>\n      <td>-0.6576</td>\n    </tr>\n    <tr>\n      <th>PA1</th>\n      <td>-0.2251</td>\n      <td>-0.8572</td>\n    </tr>\n  </tbody>\n</table>\n</div>"
     },
     "metadata": {},
     "output_type": "display_data"
    }
   ],
   "source": [
    "display(calc_risk_metrics(rets, qt=0.01))"
   ],
   "metadata": {
    "collapsed": false,
    "ExecuteTime": {
     "end_time": "2023-07-12T02:38:21.304396Z",
     "start_time": "2023-07-12T02:38:20.919279Z"
    }
   }
  },
  {
   "cell_type": "markdown",
   "source": [
    "### 3."
   ],
   "metadata": {
    "collapsed": false
   }
  },
  {
   "cell_type": "markdown",
   "source": [
    "If I can only invest in a single asset, the statistics I would recommend that an investor is the **Sharpe ratio**. The Sharpe ratio is the ratio of the mean return to the volatility and is a measure of risk-adjusted return, and the higher, the better.\n",
    "\n",
    "Meanwhile, I will take a look at other return statistics for reference."
   ],
   "metadata": {
    "collapsed": false
   }
  },
  {
   "cell_type": "code",
   "execution_count": 9,
   "outputs": [
    {
     "data": {
      "text/plain": "GC1   0.5017\nPA1   0.3678\nHG1   0.3614\nName: Annualized Sharpe Ratio, dtype: float64"
     },
     "metadata": {},
     "output_type": "display_data"
    }
   ],
   "source": [
    "display(metrics[\"Annualized Sharpe Ratio\"].nlargest(3))"
   ],
   "metadata": {
    "collapsed": false,
    "ExecuteTime": {
     "end_time": "2023-07-12T02:38:21.304452Z",
     "start_time": "2023-07-12T02:38:20.923677Z"
    }
   }
  },
  {
   "cell_type": "code",
   "execution_count": 10,
   "outputs": [
    {
     "data": {
      "text/plain": "  Best Mean Best Vol Best SR Worst SR\n0       NG1      GC1     GC1      KC1\n1       LB1      LC1     PA1      LC1\n2       PA1      HG1     HG1      CT1",
      "text/html": "<div>\n<style scoped>\n    .dataframe tbody tr th:only-of-type {\n        vertical-align: middle;\n    }\n\n    .dataframe tbody tr th {\n        vertical-align: top;\n    }\n\n    .dataframe thead th {\n        text-align: right;\n    }\n</style>\n<table border=\"1\" class=\"dataframe\">\n  <thead>\n    <tr style=\"text-align: right;\">\n      <th></th>\n      <th>Best Mean</th>\n      <th>Best Vol</th>\n      <th>Best SR</th>\n      <th>Worst SR</th>\n    </tr>\n  </thead>\n  <tbody>\n    <tr>\n      <th>0</th>\n      <td>NG1</td>\n      <td>GC1</td>\n      <td>GC1</td>\n      <td>KC1</td>\n    </tr>\n    <tr>\n      <th>1</th>\n      <td>LB1</td>\n      <td>LC1</td>\n      <td>PA1</td>\n      <td>LC1</td>\n    </tr>\n    <tr>\n      <th>2</th>\n      <td>PA1</td>\n      <td>HG1</td>\n      <td>HG1</td>\n      <td>CT1</td>\n    </tr>\n  </tbody>\n</table>\n</div>"
     },
     "execution_count": 10,
     "metadata": {},
     "output_type": "execute_result"
    }
   ],
   "source": [
    "top3_mean = pd.Series(metrics[\"Annualized Mean\"].nlargest(3).index)\n",
    "bottom3_vol = pd.Series(metrics[\"Annualized Volatility\"].nsmallest(3).index)\n",
    "top3_sharpe = pd.Series(metrics[\"Annualized Sharpe Ratio\"].nlargest(3).index)\n",
    "worst3_sharpe = pd.Series(metrics[\"Annualized Sharpe Ratio\"].nsmallest(3).index)\n",
    "pd.DataFrame([top3_mean, bottom3_vol, top3_sharpe, worst3_sharpe],\n",
    "             index=[\"Best Mean\", \"Best Vol\", \"Best SR\", \"Worst SR\"]).T"
   ],
   "metadata": {
    "collapsed": false,
    "ExecuteTime": {
     "end_time": "2023-07-12T02:38:21.304503Z",
     "start_time": "2023-07-12T02:38:20.929065Z"
    }
   }
  },
  {
   "cell_type": "markdown",
   "source": [
    "I will recommend the investor to consider `GC1` because it has the lowest volatility and highest Sharpe ratio, meaning that means it provides a relatively high return for each unit of risk taken. Even though `NG1` has the highest mean return, it also has the highest volatility, meaning that it has a high per unit return. Unless the investor focuses only on maximizing return and is an absolute risk-taker, which is very unlikely, I will not recommend `NG1`."
   ],
   "metadata": {
    "collapsed": false
   }
  },
  {
   "cell_type": "markdown",
   "source": [
    "### 4."
   ],
   "metadata": {
    "collapsed": false
   }
  },
  {
   "cell_type": "markdown",
   "source": [
    "My answer will be different. Since I am adding an asset to an existing large portfolio, individual statistics do not suffice—it is an asset's correlation or covariance with the existing portofolio I need to care about the most.  I would want to choose an asset that has a low correlation with the other assets in my portfolio as it leads to better diversification and can reduce portfolio risk.\n",
    "\n",
    "Also, I will look at the characters of an investor's existing portfolio—if it is heavily invested in volatile or high-risk assets, I will recommend the one with the lowest risk because of its lower volatility and risk of extreme losses."
   ],
   "metadata": {
    "collapsed": false
   }
  },
  {
   "cell_type": "code",
   "execution_count": 11,
   "outputs": [
    {
     "data": {
      "text/plain": "<Figure size 800x600 with 2 Axes>",
      "image/png": "[encoded data removed]"
     },
     "metadata": {},
     "output_type": "display_data"
    }
   ],
   "source": [
    "corr_matrix = rets.corr()\n",
    "np.fill_diagonal(corr_matrix.values, np.nan)\n",
    "sns.heatmap(corr_matrix, annot=True, cmap=\"crest\", vmin=-1, vmax=1, annot_kws={\"size\": 8}, fmt=\".3f\").set_title(\"Correlation Matrix\")\n",
    "plt.show()"
   ],
   "metadata": {
    "collapsed": false,
    "ExecuteTime": {
     "end_time": "2023-07-12T02:38:21.347767Z",
     "start_time": "2023-07-12T02:38:20.931546Z"
    }
   }
  },
  {
   "cell_type": "markdown",
   "source": [
    "I will recommend `LC1` based on the principles above, or maybe `GC1`, whose correlation measures are not as low as LC1, but it has higher reward.\n",
    "\n",
    "1. `LC1` is the asset with the lowest correlation with all other assets by sum of absolute correlation.\n",
    "2. `LC1` and `GC1` has the lowest raw correlation (-0.06). However, as mentioned in the previous question, I will not recommend `GC1` as it has a high volatility. I cannot expect an average investor to be an absolute risk-taker.2. I would have a low correlation with the other assets in my portfolio. This is because I want to diversify my portfolio and reduce the risk of my portfolio. I would choose LC1.\n",
    "\n",
    "CT1 also doesn't seem like a bad choice as it has a low correlation with all other assets except for `SB1` and `C1`. However, I will still choose `LC1` as it has a lower correlation with `SB1` and `C1` than `CT1`.."
   ],
   "metadata": {
    "collapsed": false
   }
  },
  {
   "cell_type": "code",
   "execution_count": 12,
   "outputs": [
    {
     "data": {
      "text/plain": "CT1  NG1   0.0081\nLC1  S1    0.0123\ndtype: float64"
     },
     "metadata": {},
     "output_type": "display_data"
    },
    {
     "data": {
      "text/plain": "GC1  LC1   -0.0572\nLC1  C1    -0.0473\ndtype: float64"
     },
     "metadata": {},
     "output_type": "display_data"
    }
   ],
   "source": [
    "display(corr_matrix.unstack().sort_values(key=abs, ascending=True).dropna().drop_duplicates().head(2))\n",
    "display(corr_matrix.unstack().sort_values(ascending=True).dropna().drop_duplicates().head(2))"
   ],
   "metadata": {
    "collapsed": false,
    "ExecuteTime": {
     "end_time": "2023-07-12T02:38:21.347921Z",
     "start_time": "2023-07-12T02:38:21.156468Z"
    }
   }
  },
  {
   "cell_type": "code",
   "execution_count": 13,
   "outputs": [
    {
     "name": "stdout",
     "output_type": "stream",
     "text": [
      "Asset with the lowest sum of absolute correlation with others:\n",
      "LC1\n",
      "Asset with the lowest sum of correlation with others:\n",
      "LC1\n"
     ]
    }
   ],
   "source": [
    "# find the asset with the lowest correlation with all other assets\n",
    "print(f\"Asset with the lowest sum of absolute correlation with others:\\n{corr_matrix.abs().sum().idxmin()}\")\n",
    "print(f\"Asset with the lowest sum of correlation with others:\\n{corr_matrix.sum().idxmin()}\")"
   ],
   "metadata": {
    "collapsed": false,
    "ExecuteTime": {
     "end_time": "2023-07-12T02:38:21.347987Z",
     "start_time": "2023-07-12T02:38:21.162741Z"
    }
   }
  },
  {
   "cell_type": "markdown",
   "source": [
    "### 5. Linear Factor Decomposition\n"
   ],
   "metadata": {
    "collapsed": false
   }
  },
  {
   "cell_type": "code",
   "execution_count": 14,
   "outputs": [
    {
     "data": {
      "text/plain": "<pandas.io.formats.style.Styler at 0x152fe01f0>",
      "text/html": "<style type=\"text/css\">\n</style>\n<table id=\"T_82c7e\">\n  <thead>\n    <tr>\n      <th class=\"blank level0\" >&nbsp;</th>\n      <th id=\"T_82c7e_level0_col0\" class=\"col_heading level0 col0\" >Alpha</th>\n      <th id=\"T_82c7e_level0_col1\" class=\"col_heading level0 col1\" >SB1</th>\n      <th id=\"T_82c7e_level0_col2\" class=\"col_heading level0 col2\" >R-squared</th>\n      <th id=\"T_82c7e_level0_col3\" class=\"col_heading level0 col3\" >Treynor Ratio</th>\n      <th id=\"T_82c7e_level0_col4\" class=\"col_heading level0 col4\" >Info Ratio</th>\n    </tr>\n  </thead>\n  <tbody>\n    <tr>\n      <th id=\"T_82c7e_level0_row0\" class=\"row_heading level0 row0\" >C1</th>\n      <td id=\"T_82c7e_row0_col0\" class=\"data row0 col0\" >7.74%</td>\n      <td id=\"T_82c7e_row0_col1\" class=\"data row0 col1\" >9.44%</td>\n      <td id=\"T_82c7e_row0_col2\" class=\"data row0 col2\" >1.20%</td>\n      <td id=\"T_82c7e_row0_col3\" class=\"data row0 col3\" >91.11%</td>\n      <td id=\"T_82c7e_row0_col4\" class=\"data row0 col4\" >26.09%</td>\n    </tr>\n  </tbody>\n</table>\n"
     },
     "metadata": {},
     "output_type": "display_data"
    }
   ],
   "source": [
    "pricing_reg = get_ols_metrics(rets.SB1, rets.C1, annualization=12)\n",
    "display(pricing_reg.style.format('{:,.2%}'))"
   ],
   "metadata": {
    "collapsed": false,
    "ExecuteTime": {
     "end_time": "2023-07-12T02:38:21.348077Z",
     "start_time": "2023-07-12T02:38:21.170157Z"
    }
   }
  },
  {
   "cell_type": "markdown",
   "source": [
    "- The market alpha is 0.0074.\n",
    "- The market beta is the coefficient of C1 which is 0.0944.\n",
    "- The market information ratio is 0.2609."
   ],
   "metadata": {
    "collapsed": false
   }
  },
  {
   "cell_type": "markdown",
   "source": [
    "### 6."
   ],
   "metadata": {
    "collapsed": false
   }
  },
  {
   "cell_type": "code",
   "execution_count": 15,
   "outputs": [
    {
     "data": {
      "text/plain": "0.09444854394093133"
     },
     "execution_count": 15,
     "metadata": {},
     "output_type": "execute_result"
    }
   ],
   "source": [
    "pricing_reg.loc['C1', 'SB1']"
   ],
   "metadata": {
    "collapsed": false,
    "ExecuteTime": {
     "end_time": "2023-07-12T02:38:21.348215Z",
     "start_time": "2023-07-12T02:38:21.206007Z"
    }
   }
  },
  {
   "cell_type": "markdown",
   "source": [
    "The regression coefficient between C1 and SB1 gives the hedge ratio between the two, which is 9.44%. This means that for every 1% increase in coffee, sugar will increase by 9.44%.\n",
    "\n",
    "In a simple linear regression of sugar on coffee, the slope coefficient (beta) would be the same as the hedge ratio."
   ],
   "metadata": {
    "collapsed": false
   }
  },
  {
   "cell_type": "markdown",
   "source": [
    "# 2 Mean Variance Optimization"
   ],
   "metadata": {
    "collapsed": false
   }
  },
  {
   "cell_type": "markdown",
   "source": [
    "### 1. tangency portfolio"
   ],
   "metadata": {
    "collapsed": false
   }
  },
  {
   "cell_type": "code",
   "execution_count": 16,
   "outputs": [
    {
     "data": {
      "text/plain": "          0\nGC1  0.6031\nLC1  0.1289\nLB1  0.0866\nC1   0.0848\nHG1  0.0746\nCC1  0.0745\nPA1  0.0733\nSB1  0.0636\nNG1  0.0574\nS1   0.0273\nCT1 -0.0095\nW1  -0.0104\nKC1 -0.0728\nSI1 -0.1814",
      "text/html": "<div>\n<style scoped>\n    .dataframe tbody tr th:only-of-type {\n        vertical-align: middle;\n    }\n\n    .dataframe tbody tr th {\n        vertical-align: top;\n    }\n\n    .dataframe thead th {\n        text-align: right;\n    }\n</style>\n<table border=\"1\" class=\"dataframe\">\n  <thead>\n    <tr style=\"text-align: right;\">\n      <th></th>\n      <th>0</th>\n    </tr>\n  </thead>\n  <tbody>\n    <tr>\n      <th>GC1</th>\n      <td>0.6031</td>\n    </tr>\n    <tr>\n      <th>LC1</th>\n      <td>0.1289</td>\n    </tr>\n    <tr>\n      <th>LB1</th>\n      <td>0.0866</td>\n    </tr>\n    <tr>\n      <th>C1</th>\n      <td>0.0848</td>\n    </tr>\n    <tr>\n      <th>HG1</th>\n      <td>0.0746</td>\n    </tr>\n    <tr>\n      <th>CC1</th>\n      <td>0.0745</td>\n    </tr>\n    <tr>\n      <th>PA1</th>\n      <td>0.0733</td>\n    </tr>\n    <tr>\n      <th>SB1</th>\n      <td>0.0636</td>\n    </tr>\n    <tr>\n      <th>NG1</th>\n      <td>0.0574</td>\n    </tr>\n    <tr>\n      <th>S1</th>\n      <td>0.0273</td>\n    </tr>\n    <tr>\n      <th>CT1</th>\n      <td>-0.0095</td>\n    </tr>\n    <tr>\n      <th>W1</th>\n      <td>-0.0104</td>\n    </tr>\n    <tr>\n      <th>KC1</th>\n      <td>-0.0728</td>\n    </tr>\n    <tr>\n      <th>SI1</th>\n      <td>-0.1814</td>\n    </tr>\n  </tbody>\n</table>\n</div>"
     },
     "metadata": {},
     "output_type": "display_data"
    }
   ],
   "source": [
    "weight_tan = tangency_portfolio(rets.mean(), rets.cov())\n",
    "display(weight_tan.sort_values(by=0, ascending=False))"
   ],
   "metadata": {
    "collapsed": false,
    "ExecuteTime": {
     "end_time": "2023-07-12T02:38:21.351648Z",
     "start_time": "2023-07-12T02:38:21.210531Z"
    }
   }
  },
  {
   "cell_type": "code",
   "execution_count": 17,
   "outputs": [
    {
     "data": {
      "text/plain": "    Mean  Volatility  Sharpe Ratio\n0 0.0875      0.1163        0.7524",
      "text/html": "<div>\n<style scoped>\n    .dataframe tbody tr th:only-of-type {\n        vertical-align: middle;\n    }\n\n    .dataframe tbody tr th {\n        vertical-align: top;\n    }\n\n    .dataframe thead th {\n        text-align: right;\n    }\n</style>\n<table border=\"1\" class=\"dataframe\">\n  <thead>\n    <tr style=\"text-align: right;\">\n      <th></th>\n      <th>Mean</th>\n      <th>Volatility</th>\n      <th>Sharpe Ratio</th>\n    </tr>\n  </thead>\n  <tbody>\n    <tr>\n      <th>0</th>\n      <td>0.0875</td>\n      <td>0.1163</td>\n      <td>0.7524</td>\n    </tr>\n  </tbody>\n</table>\n</div>"
     },
     "execution_count": 17,
     "metadata": {},
     "output_type": "execute_result"
    }
   ],
   "source": [
    "performance_summary(rets @ weight_tan, adj_factor=12)"
   ],
   "metadata": {
    "collapsed": false,
    "ExecuteTime": {
     "end_time": "2023-07-12T02:38:21.351763Z",
     "start_time": "2023-07-12T02:38:21.298675Z"
    }
   }
  },
  {
   "cell_type": "markdown",
   "source": [
    "### 2. mean-variance portfolios with target return"
   ],
   "metadata": {
    "collapsed": false
   }
  },
  {
   "cell_type": "markdown",
   "source": [
    "If a risk-free rate is not available, we invest all into the risky assets, and the weights have to sum to 1."
   ],
   "metadata": {
    "collapsed": false
   }
  },
  {
   "cell_type": "code",
   "execution_count": 18,
   "outputs": [
    {
     "data": {
      "text/plain": "          0\nGC1  0.6085\nLC1  0.1100\nLB1  0.0940\nC1   0.0897\nPA1  0.0812\nHG1  0.0774\nCC1  0.0764\nSB1  0.0654\nNG1  0.0616\nS1   0.0245\nW1  -0.0125\nCT1 -0.0139\nKC1 -0.0805\nSI1 -0.1818",
      "text/html": "<div>\n<style scoped>\n    .dataframe tbody tr th:only-of-type {\n        vertical-align: middle;\n    }\n\n    .dataframe tbody tr th {\n        vertical-align: top;\n    }\n\n    .dataframe thead th {\n        text-align: right;\n    }\n</style>\n<table border=\"1\" class=\"dataframe\">\n  <thead>\n    <tr style=\"text-align: right;\">\n      <th></th>\n      <th>0</th>\n    </tr>\n  </thead>\n  <tbody>\n    <tr>\n      <th>GC1</th>\n      <td>0.6085</td>\n    </tr>\n    <tr>\n      <th>LC1</th>\n      <td>0.1100</td>\n    </tr>\n    <tr>\n      <th>LB1</th>\n      <td>0.0940</td>\n    </tr>\n    <tr>\n      <th>C1</th>\n      <td>0.0897</td>\n    </tr>\n    <tr>\n      <th>PA1</th>\n      <td>0.0812</td>\n    </tr>\n    <tr>\n      <th>HG1</th>\n      <td>0.0774</td>\n    </tr>\n    <tr>\n      <th>CC1</th>\n      <td>0.0764</td>\n    </tr>\n    <tr>\n      <th>SB1</th>\n      <td>0.0654</td>\n    </tr>\n    <tr>\n      <th>NG1</th>\n      <td>0.0616</td>\n    </tr>\n    <tr>\n      <th>S1</th>\n      <td>0.0245</td>\n    </tr>\n    <tr>\n      <th>W1</th>\n      <td>-0.0125</td>\n    </tr>\n    <tr>\n      <th>CT1</th>\n      <td>-0.0139</td>\n    </tr>\n    <tr>\n      <th>KC1</th>\n      <td>-0.0805</td>\n    </tr>\n    <tr>\n      <th>SI1</th>\n      <td>-0.1818</td>\n    </tr>\n  </tbody>\n</table>\n</div>"
     },
     "metadata": {},
     "output_type": "display_data"
    },
    {
     "name": "stdout",
     "output_type": "stream",
     "text": [
      "sum of weights in risky assets: 1.0000\n"
     ]
    }
   ],
   "source": [
    "w_target = mv_portfolio(rets.mean(), rets.cov(), 0.0075)\n",
    "display(w_target.sort_values(by=0, ascending=False))\n",
    "print(f\"sum of weights in risky assets: {w_target.sum().values[0]:.4f}\")"
   ],
   "metadata": {
    "collapsed": false,
    "ExecuteTime": {
     "end_time": "2023-07-12T02:38:21.560986Z",
     "start_time": "2023-07-12T02:38:21.304823Z"
    }
   }
  },
  {
   "cell_type": "markdown",
   "source": [
    "When a risk-free rate is available, the weights of the risky assets need not add up to 1. The result of the MV portfolio is a combination of the tangency portfolio and a position in the riskless asset."
   ],
   "metadata": {
    "collapsed": false
   }
  },
  {
   "cell_type": "code",
   "execution_count": 19,
   "outputs": [
    {
     "data": {
      "text/plain": "          0\nGC1  0.6202\nLC1  0.1326\nLB1  0.0891\nC1   0.0872\nHG1  0.0767\nCC1  0.0766\nPA1  0.0754\nSB1  0.0654\nNG1  0.0591\nS1   0.0281\nCT1 -0.0098\nW1  -0.0107\nKC1 -0.0749\nSI1 -0.1865",
      "text/html": "<div>\n<style scoped>\n    .dataframe tbody tr th:only-of-type {\n        vertical-align: middle;\n    }\n\n    .dataframe tbody tr th {\n        vertical-align: top;\n    }\n\n    .dataframe thead th {\n        text-align: right;\n    }\n</style>\n<table border=\"1\" class=\"dataframe\">\n  <thead>\n    <tr style=\"text-align: right;\">\n      <th></th>\n      <th>0</th>\n    </tr>\n  </thead>\n  <tbody>\n    <tr>\n      <th>GC1</th>\n      <td>0.6202</td>\n    </tr>\n    <tr>\n      <th>LC1</th>\n      <td>0.1326</td>\n    </tr>\n    <tr>\n      <th>LB1</th>\n      <td>0.0891</td>\n    </tr>\n    <tr>\n      <th>C1</th>\n      <td>0.0872</td>\n    </tr>\n    <tr>\n      <th>HG1</th>\n      <td>0.0767</td>\n    </tr>\n    <tr>\n      <th>CC1</th>\n      <td>0.0766</td>\n    </tr>\n    <tr>\n      <th>PA1</th>\n      <td>0.0754</td>\n    </tr>\n    <tr>\n      <th>SB1</th>\n      <td>0.0654</td>\n    </tr>\n    <tr>\n      <th>NG1</th>\n      <td>0.0591</td>\n    </tr>\n    <tr>\n      <th>S1</th>\n      <td>0.0281</td>\n    </tr>\n    <tr>\n      <th>CT1</th>\n      <td>-0.0098</td>\n    </tr>\n    <tr>\n      <th>W1</th>\n      <td>-0.0107</td>\n    </tr>\n    <tr>\n      <th>KC1</th>\n      <td>-0.0749</td>\n    </tr>\n    <tr>\n      <th>SI1</th>\n      <td>-0.1865</td>\n    </tr>\n  </tbody>\n</table>\n</div>"
     },
     "metadata": {},
     "output_type": "display_data"
    },
    {
     "name": "stdout",
     "output_type": "stream",
     "text": [
      "sum of weights in risky assets: 1.02842\n"
     ]
    }
   ],
   "source": [
    "def mv_portfolio_riskfree(return_data, cov, target_return):\n",
    "    inv_cov = np.linalg.inv(cov)\n",
    "    ones = np.ones(return_data.shape)\n",
    "    weights = inv_cov @ return_data / (ones.T @ inv_cov @ return_data)\n",
    "    weights = weights * target_return / (weights.T @ return_data)\n",
    "    try:\n",
    "        return pd.DataFrame(weights, index=return_data.index)\n",
    "    except AttributeError:\n",
    "        return weights\n",
    "\n",
    "\n",
    "w_target_riskfree = mv_portfolio_riskfree(rets.mean(), rets.cov(), 0.0075)\n",
    "display(w_target_riskfree.sort_values(by=0, ascending=False))\n",
    "print(f\"sum of weights in risky assets: {w_target_riskfree.sum().values[0]:.5f}\")"
   ],
   "metadata": {
    "collapsed": false,
    "ExecuteTime": {
     "end_time": "2023-07-12T02:38:21.631521Z",
     "start_time": "2023-07-12T02:38:21.351687Z"
    }
   }
  },
  {
   "cell_type": "markdown",
   "source": [],
   "metadata": {
    "collapsed": false
   }
  },
  {
   "cell_type": "markdown",
   "source": [
    "### 3"
   ],
   "metadata": {
    "collapsed": false
   }
  },
  {
   "cell_type": "markdown",
   "source": [
    "The tangency portfolio does not weigh securities in order of their individual Sharpe ratios but considers the entire portfolio's reward versus risk, or return versus volatility. The tangency portfolio also encapsulates the correlation between assets in a portfolio and is the portfolio on the risky MV frontier with the maximum Sharpe ratio."
   ],
   "metadata": {
    "collapsed": false
   }
  },
  {
   "cell_type": "markdown",
   "source": [
    "### 4"
   ],
   "metadata": {
    "collapsed": false
   }
  },
  {
   "cell_type": "code",
   "execution_count": 20,
   "outputs": [
    {
     "data": {
      "text/plain": "    Mean  Volatility  Sharpe Ratio\n0 0.0900      0.1198        0.7516",
      "text/html": "<div>\n<style scoped>\n    .dataframe tbody tr th:only-of-type {\n        vertical-align: middle;\n    }\n\n    .dataframe tbody tr th {\n        vertical-align: top;\n    }\n\n    .dataframe thead th {\n        text-align: right;\n    }\n</style>\n<table border=\"1\" class=\"dataframe\">\n  <thead>\n    <tr style=\"text-align: right;\">\n      <th></th>\n      <th>Mean</th>\n      <th>Volatility</th>\n      <th>Sharpe Ratio</th>\n    </tr>\n  </thead>\n  <tbody>\n    <tr>\n      <th>0</th>\n      <td>0.0900</td>\n      <td>0.1198</td>\n      <td>0.7516</td>\n    </tr>\n  </tbody>\n</table>\n</div>"
     },
     "execution_count": 20,
     "metadata": {},
     "output_type": "execute_result"
    }
   ],
   "source": [
    "performance_summary(rets @ w_target, adj_factor=12)"
   ],
   "metadata": {
    "collapsed": false,
    "ExecuteTime": {
     "end_time": "2023-07-12T02:38:21.631738Z",
     "start_time": "2023-07-12T02:38:21.382696Z"
    }
   }
  },
  {
   "cell_type": "code",
   "execution_count": 21,
   "outputs": [
    {
     "data": {
      "text/plain": "    Mean  Volatility  Sharpe Ratio\n0 0.0900      0.1196        0.7524",
      "text/html": "<div>\n<style scoped>\n    .dataframe tbody tr th:only-of-type {\n        vertical-align: middle;\n    }\n\n    .dataframe tbody tr th {\n        vertical-align: top;\n    }\n\n    .dataframe thead th {\n        text-align: right;\n    }\n</style>\n<table border=\"1\" class=\"dataframe\">\n  <thead>\n    <tr style=\"text-align: right;\">\n      <th></th>\n      <th>Mean</th>\n      <th>Volatility</th>\n      <th>Sharpe Ratio</th>\n    </tr>\n  </thead>\n  <tbody>\n    <tr>\n      <th>0</th>\n      <td>0.0900</td>\n      <td>0.1196</td>\n      <td>0.7524</td>\n    </tr>\n  </tbody>\n</table>\n</div>"
     },
     "execution_count": 21,
     "metadata": {},
     "output_type": "execute_result"
    }
   ],
   "source": [
    "performance_summary(rets @ w_target_riskfree, adj_factor=12)"
   ],
   "metadata": {
    "collapsed": false,
    "ExecuteTime": {
     "end_time": "2023-07-12T02:38:21.631830Z",
     "start_time": "2023-07-12T02:38:21.410332Z"
    }
   }
  },
  {
   "cell_type": "markdown",
   "source": [
    "### 5 HCM"
   ],
   "metadata": {
    "collapsed": false
   }
  },
  {
   "cell_type": "markdown",
   "source": [
    "- Needless to say, HCM used diversification and identified correlations: i.e., HCM invested in a diverse array of asset classes such as real estate, private equity. That diversification reduces risk and enhances returns is well understood, but it HCM's innovations below made them above and beyond.\n",
    "\n",
    "- HCM used a two-stage optimization. Rather than trying to optimize across all individual securities simultaneously (could be thousands), they first optimized portfolios within each asset class. Then, they combined these in a second-stage optimization. This made the problem more tractable.\n",
    "\n",
    "- HMC focused on real returns, those adjusted for inflation, rather than nominal returns when analyzing its portfolio allocation. This gives a more accurate reflection of the actual purchasing power in the future and makes the portfolio allocation more realistic.\n",
    "\n",
    "- HCM imposed constraints on allocations to different asset classes, which reflect considerations regarding investment limitations and risk management in the real world, such as short-selling or the maximum budget on a particular asset class.\n"
   ],
   "metadata": {
    "collapsed": false
   }
  },
  {
   "cell_type": "markdown",
   "source": [
    "### 6"
   ],
   "metadata": {
    "collapsed": false
   }
  },
  {
   "cell_type": "markdown",
   "source": [
    "The mean-variance optimization is a quadratic programming problem with a non-convex objective function.\n",
    "- It is not robust as it heavily relies on the estimated returns, variances, and covariances of asset returns. Changes in these estimates can lead to huge differences in portfolio allocations.\n",
    "- Even if the estimates were accurate for the period, we don't know how good they are for the future. Financial markets change fast. If historical returns and covariances do not represent future returns and covariances, an optimized portfolio can become suboptimal.\n",
    "- Solving the optimization involves taking many covariance matrices and finding their inverse, which is computationally complex.\n",
    "- Its non-robust nature is why variants of the mean-variance optimization are used, i.e., with shrinkage or Bayesian methods or resampling."
   ],
   "metadata": {
    "collapsed": false
   }
  },
  {
   "cell_type": "markdown",
   "source": [
    "# 3. Pricing"
   ],
   "metadata": {
    "collapsed": false
   }
  },
  {
   "cell_type": "code",
   "execution_count": 22,
   "outputs": [],
   "source": [
    "assets = pd.read_excel('midterm_A_2023_data.xlsx', sheet_name='commodities (excess returns)', parse_dates=True,\n",
    "                       index_col=0)\n",
    "factors = pd.read_excel('midterm_A_2023_data.xlsx', sheet_name='factors (excess returns)', parse_dates=True,\n",
    "                        index_col=0)"
   ],
   "metadata": {
    "collapsed": false,
    "ExecuteTime": {
     "end_time": "2023-07-12T02:38:21.646761Z",
     "start_time": "2023-07-12T02:38:21.420651Z"
    }
   }
  },
  {
   "cell_type": "code",
   "execution_count": 23,
   "outputs": [
    {
     "data": {
      "text/plain": "               MKT    UMD\nDate                     \n2000-01-31 -0.0474 0.0192\n2000-02-29  0.0245 0.1820",
      "text/html": "<div>\n<style scoped>\n    .dataframe tbody tr th:only-of-type {\n        vertical-align: middle;\n    }\n\n    .dataframe tbody tr th {\n        vertical-align: top;\n    }\n\n    .dataframe thead th {\n        text-align: right;\n    }\n</style>\n<table border=\"1\" class=\"dataframe\">\n  <thead>\n    <tr style=\"text-align: right;\">\n      <th></th>\n      <th>MKT</th>\n      <th>UMD</th>\n    </tr>\n    <tr>\n      <th>Date</th>\n      <th></th>\n      <th></th>\n    </tr>\n  </thead>\n  <tbody>\n    <tr>\n      <th>2000-01-31</th>\n      <td>-0.0474</td>\n      <td>0.0192</td>\n    </tr>\n    <tr>\n      <th>2000-02-29</th>\n      <td>0.0245</td>\n      <td>0.1820</td>\n    </tr>\n  </tbody>\n</table>\n</div>"
     },
     "execution_count": 23,
     "metadata": {},
     "output_type": "execute_result"
    }
   ],
   "source": [
    "factors.head(2)"
   ],
   "metadata": {
    "collapsed": false,
    "ExecuteTime": {
     "end_time": "2023-07-12T02:38:21.646985Z",
     "start_time": "2023-07-12T02:38:21.504255Z"
    }
   }
  },
  {
   "cell_type": "markdown",
   "source": [
    "### 1."
   ],
   "metadata": {
    "collapsed": false
   }
  },
  {
   "cell_type": "code",
   "execution_count": 24,
   "outputs": [
    {
     "data": {
      "text/plain": "<pandas.io.formats.style.Styler at 0x153046b50>",
      "text/html": "<style type=\"text/css\">\n</style>\n<table id=\"T_b72b8\">\n  <thead>\n    <tr>\n      <th class=\"blank level0\" >&nbsp;</th>\n      <th id=\"T_b72b8_level0_col0\" class=\"col_heading level0 col0\" >Alpha</th>\n      <th id=\"T_b72b8_level0_col1\" class=\"col_heading level0 col1\" >MKT</th>\n      <th id=\"T_b72b8_level0_col2\" class=\"col_heading level0 col2\" >UMD</th>\n      <th id=\"T_b72b8_level0_col3\" class=\"col_heading level0 col3\" >R-squared</th>\n      <th id=\"T_b72b8_level0_col4\" class=\"col_heading level0 col4\" >Info Ratio</th>\n    </tr>\n  </thead>\n  <tbody>\n    <tr>\n      <th id=\"T_b72b8_level0_row0\" class=\"row_heading level0 row0\" >NG1</th>\n      <td id=\"T_b72b8_row0_col0\" class=\"data row0 col0\" >11.20%</td>\n      <td id=\"T_b72b8_row0_col1\" class=\"data row0 col1\" >35.41%</td>\n      <td id=\"T_b72b8_row0_col2\" class=\"data row0 col2\" >38.12%</td>\n      <td id=\"T_b72b8_row0_col3\" class=\"data row0 col3\" >1.73%</td>\n      <td id=\"T_b72b8_row0_col4\" class=\"data row0 col4\" >20.99%</td>\n    </tr>\n    <tr>\n      <th id=\"T_b72b8_level0_row1\" class=\"row_heading level0 row1\" >KC1</th>\n      <td id=\"T_b72b8_row1_col0\" class=\"data row1 col0\" >2.32%</td>\n      <td id=\"T_b72b8_row1_col1\" class=\"data row1 col1\" >31.51%</td>\n      <td id=\"T_b72b8_row1_col2\" class=\"data row1 col2\" >-2.75%</td>\n      <td id=\"T_b72b8_row1_col3\" class=\"data row1 col3\" >2.59%</td>\n      <td id=\"T_b72b8_row1_col4\" class=\"data row1 col4\" >7.33%</td>\n    </tr>\n    <tr>\n      <th id=\"T_b72b8_level0_row2\" class=\"row_heading level0 row2\" >CC1</th>\n      <td id=\"T_b72b8_row2_col0\" class=\"data row2 col0\" >7.08%</td>\n      <td id=\"T_b72b8_row2_col1\" class=\"data row2 col1\" >20.73%</td>\n      <td id=\"T_b72b8_row2_col2\" class=\"data row2 col2\" >-3.58%</td>\n      <td id=\"T_b72b8_row2_col3\" class=\"data row2 col3\" >1.20%</td>\n      <td id=\"T_b72b8_row2_col4\" class=\"data row2 col4\" >21.94%</td>\n    </tr>\n    <tr>\n      <th id=\"T_b72b8_level0_row3\" class=\"row_heading level0 row3\" >LB1</th>\n      <td id=\"T_b72b8_row3_col0\" class=\"data row3 col0\" >6.45%</td>\n      <td id=\"T_b72b8_row3_col1\" class=\"data row3 col1\" >94.21%</td>\n      <td id=\"T_b72b8_row3_col2\" class=\"data row3 col2\" >-0.48%</td>\n      <td id=\"T_b72b8_row3_col3\" class=\"data row3 col3\" >13.68%</td>\n      <td id=\"T_b72b8_row3_col4\" class=\"data row3 col4\" >17.32%</td>\n    </tr>\n    <tr>\n      <th id=\"T_b72b8_level0_row4\" class=\"row_heading level0 row4\" >CT1</th>\n      <td id=\"T_b72b8_row4_col0\" class=\"data row4 col0\" >2.49%</td>\n      <td id=\"T_b72b8_row4_col1\" class=\"data row4 col1\" >50.42%</td>\n      <td id=\"T_b72b8_row4_col2\" class=\"data row4 col2\" >-17.86%</td>\n      <td id=\"T_b72b8_row4_col3\" class=\"data row4 col3\" >9.90%</td>\n      <td id=\"T_b72b8_row4_col4\" class=\"data row4 col4\" >8.55%</td>\n    </tr>\n    <tr>\n      <th id=\"T_b72b8_level0_row5\" class=\"row_heading level0 row5\" >SB1</th>\n      <td id=\"T_b72b8_row5_col0\" class=\"data row5 col0\" >9.31%</td>\n      <td id=\"T_b72b8_row5_col1\" class=\"data row5 col1\" >5.80%</td>\n      <td id=\"T_b72b8_row5_col2\" class=\"data row5 col2\" >-31.92%</td>\n      <td id=\"T_b72b8_row5_col3\" class=\"data row5 col3\" >3.27%</td>\n      <td id=\"T_b72b8_row5_col4\" class=\"data row5 col4\" >27.31%</td>\n    </tr>\n    <tr>\n      <th id=\"T_b72b8_level0_row6\" class=\"row_heading level0 row6\" >LC1</th>\n      <td id=\"T_b72b8_row6_col0\" class=\"data row6 col0\" >1.54%</td>\n      <td id=\"T_b72b8_row6_col1\" class=\"data row6 col1\" >18.31%</td>\n      <td id=\"T_b72b8_row6_col2\" class=\"data row6 col2\" >6.61%</td>\n      <td id=\"T_b72b8_row6_col3\" class=\"data row6 col3\" >2.00%</td>\n      <td id=\"T_b72b8_row6_col4\" class=\"data row6 col4\" >8.30%</td>\n    </tr>\n    <tr>\n      <th id=\"T_b72b8_level0_row7\" class=\"row_heading level0 row7\" >W1</th>\n      <td id=\"T_b72b8_row7_col0\" class=\"data row7 col0\" >5.45%</td>\n      <td id=\"T_b72b8_row7_col1\" class=\"data row7 col1\" >29.89%</td>\n      <td id=\"T_b72b8_row7_col2\" class=\"data row7 col2\" >2.24%</td>\n      <td id=\"T_b72b8_row7_col3\" class=\"data row7 col3\" >2.13%</td>\n      <td id=\"T_b72b8_row7_col4\" class=\"data row7 col4\" >17.69%</td>\n    </tr>\n    <tr>\n      <th id=\"T_b72b8_level0_row8\" class=\"row_heading level0 row8\" >S1</th>\n      <td id=\"T_b72b8_row8_col0\" class=\"data row8 col0\" >4.25%</td>\n      <td id=\"T_b72b8_row8_col1\" class=\"data row8 col1\" >39.95%</td>\n      <td id=\"T_b72b8_row8_col2\" class=\"data row8 col2\" >2.73%</td>\n      <td id=\"T_b72b8_row8_col3\" class=\"data row8 col3\" >5.29%</td>\n      <td id=\"T_b72b8_row8_col4\" class=\"data row8 col4\" >16.49%</td>\n    </tr>\n    <tr>\n      <th id=\"T_b72b8_level0_row9\" class=\"row_heading level0 row9\" >C1</th>\n      <td id=\"T_b72b8_row9_col0\" class=\"data row9 col0\" >6.09%</td>\n      <td id=\"T_b72b8_row9_col1\" class=\"data row9 col1\" >34.04%</td>\n      <td id=\"T_b72b8_row9_col2\" class=\"data row9 col2\" >6.20%</td>\n      <td id=\"T_b72b8_row9_col3\" class=\"data row9 col3\" >2.82%</td>\n      <td id=\"T_b72b8_row9_col4\" class=\"data row9 col4\" >20.68%</td>\n    </tr>\n    <tr>\n      <th id=\"T_b72b8_level0_row10\" class=\"row_heading level0 row10\" >GC1</th>\n      <td id=\"T_b72b8_row10_col0\" class=\"data row10 col0\" >7.05%</td>\n      <td id=\"T_b72b8_row10_col1\" class=\"data row10 col1\" >13.16%</td>\n      <td id=\"T_b72b8_row10_col2\" class=\"data row10 col2\" >14.87%</td>\n      <td id=\"T_b72b8_row10_col3\" class=\"data row10 col3\" >2.74%</td>\n      <td id=\"T_b72b8_row10_col4\" class=\"data row10 col4\" >43.45%</td>\n    </tr>\n    <tr>\n      <th id=\"T_b72b8_level0_row11\" class=\"row_heading level0 row11\" >SI1</th>\n      <td id=\"T_b72b8_row11_col0\" class=\"data row11 col0\" >6.55%</td>\n      <td id=\"T_b72b8_row11_col1\" class=\"data row11 col1\" >51.18%</td>\n      <td id=\"T_b72b8_row11_col2\" class=\"data row11 col2\" >14.44%</td>\n      <td id=\"T_b72b8_row11_col3\" class=\"data row11 col3\" >5.84%</td>\n      <td id=\"T_b72b8_row11_col4\" class=\"data row11 col4\" >21.97%</td>\n    </tr>\n    <tr>\n      <th id=\"T_b72b8_level0_row12\" class=\"row_heading level0 row12\" >HG1</th>\n      <td id=\"T_b72b8_row12_col0\" class=\"data row12 col0\" >4.78%</td>\n      <td id=\"T_b72b8_row12_col1\" class=\"data row12 col1\" >69.06%</td>\n      <td id=\"T_b72b8_row12_col2\" class=\"data row12 col2\" >-13.88%</td>\n      <td id=\"T_b72b8_row12_col3\" class=\"data row12 col3\" >21.47%</td>\n      <td id=\"T_b72b8_row12_col4\" class=\"data row12 col4\" >20.73%</td>\n    </tr>\n    <tr>\n      <th id=\"T_b72b8_level0_row13\" class=\"row_heading level0 row13\" >PA1</th>\n      <td id=\"T_b72b8_row13_col0\" class=\"data row13 col0\" >7.92%</td>\n      <td id=\"T_b72b8_row13_col1\" class=\"data row13 col1\" >66.45%</td>\n      <td id=\"T_b72b8_row13_col2\" class=\"data row13 col2\" >17.33%</td>\n      <td id=\"T_b72b8_row13_col3\" class=\"data row13 col3\" >7.56%</td>\n      <td id=\"T_b72b8_row13_col4\" class=\"data row13 col4\" >23.42%</td>\n    </tr>\n  </tbody>\n</table>\n"
     },
     "metadata": {},
     "output_type": "display_data"
    }
   ],
   "source": [
    "pricing_reg = get_ols_metrics(factors, assets, annualization=12)\n",
    "display(pricing_reg.style.format('{:,.2%}'))"
   ],
   "metadata": {
    "collapsed": false,
    "ExecuteTime": {
     "end_time": "2023-07-12T02:38:21.673988Z",
     "start_time": "2023-07-12T02:38:21.511828Z"
    }
   }
  },
  {
   "cell_type": "markdown",
   "source": [
    "### 2"
   ],
   "metadata": {
    "collapsed": false
   }
  },
  {
   "cell_type": "markdown",
   "source": [
    "If the model worked perfectly.\n",
    "- All the alpha would be 0, or at least very low. All returns would be explained by the market.\n",
    "\n",
    "- R-squared would be anything. A high R-squared would mean that the model explains a lot of the variances in asset's returns, but it could be a bad model, and vice versa.\n",
    "\n",
    "- The Treynor ratios should all be the same or similar.\n",
    "\n",
    "- The Info Ratio should also be 0, since the $\\alpha$'s should be 0 ."
   ],
   "metadata": {
    "collapsed": false
   }
  },
  {
   "cell_type": "markdown",
   "source": [
    "### 3"
   ],
   "metadata": {
    "collapsed": false
   }
  },
  {
   "cell_type": "code",
   "execution_count": 25,
   "outputs": [
    {
     "data": {
      "text/plain": "NG1   0.0173\nKC1   0.0259\nCC1   0.0120\nLB1   0.1368\nCT1   0.0990\nSB1   0.0327\nLC1   0.0200\nW1    0.0213\nS1    0.0529\nC1    0.0282\nGC1   0.0274\nSI1   0.0584\nHG1   0.2147\nPA1   0.0756\nName: R-squared, dtype: float64"
     },
     "execution_count": 25,
     "metadata": {},
     "output_type": "execute_result"
    }
   ],
   "source": [
    "pricing_reg.loc[:, 'R-squared']"
   ],
   "metadata": {
    "collapsed": false,
    "ExecuteTime": {
     "end_time": "2023-07-12T02:38:21.730715Z",
     "start_time": "2023-07-12T02:38:21.579816Z"
    }
   }
  },
  {
   "cell_type": "code",
   "execution_count": 26,
   "outputs": [
    {
     "data": {
      "text/plain": "'HG1'"
     },
     "execution_count": 26,
     "metadata": {},
     "output_type": "execute_result"
    }
   ],
   "source": [
    "pricing_reg.loc[:, 'R-squared'].idxmax()"
   ],
   "metadata": {
    "collapsed": false,
    "ExecuteTime": {
     "end_time": "2023-07-12T02:38:21.730880Z",
     "start_time": "2023-07-12T02:38:21.585195Z"
    }
   }
  },
  {
   "cell_type": "markdown",
   "source": [
    "The model fits the best 'HG1' because it has the highest R-squared value—the model explains the most variance in the returns of `HG1`."
   ],
   "metadata": {
    "collapsed": false
   }
  },
  {
   "cell_type": "markdown",
   "source": [
    "### 4\n",
    "Which factor has a higher risk premium in the estimated model above?"
   ],
   "metadata": {
    "collapsed": false
   }
  },
  {
   "cell_type": "code",
   "execution_count": 27,
   "outputs": [
    {
     "data": {
      "text/plain": "     Alpha    MKT     UMD  R-squared  Info Ratio\nNG1 0.1120 0.3541  0.3812     0.0173      0.2099\nKC1 0.0232 0.3151 -0.0275     0.0259      0.0733\nCC1 0.0708 0.2073 -0.0358     0.0120      0.2194\nLB1 0.0645 0.9421 -0.0048     0.1368      0.1732\nCT1 0.0249 0.5042 -0.1786     0.0990      0.0855\nSB1 0.0931 0.0580 -0.3192     0.0327      0.2731\nLC1 0.0154 0.1831  0.0661     0.0200      0.0830\nW1  0.0545 0.2989  0.0224     0.0213      0.1769\nS1  0.0425 0.3995  0.0273     0.0529      0.1649\nC1  0.0609 0.3404  0.0620     0.0282      0.2068\nGC1 0.0705 0.1316  0.1487     0.0274      0.4345\nSI1 0.0655 0.5118  0.1444     0.0584      0.2197\nHG1 0.0478 0.6906 -0.1388     0.2147      0.2073\nPA1 0.0792 0.6645  0.1733     0.0756      0.2342",
      "text/html": "<div>\n<style scoped>\n    .dataframe tbody tr th:only-of-type {\n        vertical-align: middle;\n    }\n\n    .dataframe tbody tr th {\n        vertical-align: top;\n    }\n\n    .dataframe thead th {\n        text-align: right;\n    }\n</style>\n<table border=\"1\" class=\"dataframe\">\n  <thead>\n    <tr style=\"text-align: right;\">\n      <th></th>\n      <th>Alpha</th>\n      <th>MKT</th>\n      <th>UMD</th>\n      <th>R-squared</th>\n      <th>Info Ratio</th>\n    </tr>\n  </thead>\n  <tbody>\n    <tr>\n      <th>NG1</th>\n      <td>0.1120</td>\n      <td>0.3541</td>\n      <td>0.3812</td>\n      <td>0.0173</td>\n      <td>0.2099</td>\n    </tr>\n    <tr>\n      <th>KC1</th>\n      <td>0.0232</td>\n      <td>0.3151</td>\n      <td>-0.0275</td>\n      <td>0.0259</td>\n      <td>0.0733</td>\n    </tr>\n    <tr>\n      <th>CC1</th>\n      <td>0.0708</td>\n      <td>0.2073</td>\n      <td>-0.0358</td>\n      <td>0.0120</td>\n      <td>0.2194</td>\n    </tr>\n    <tr>\n      <th>LB1</th>\n      <td>0.0645</td>\n      <td>0.9421</td>\n      <td>-0.0048</td>\n      <td>0.1368</td>\n      <td>0.1732</td>\n    </tr>\n    <tr>\n      <th>CT1</th>\n      <td>0.0249</td>\n      <td>0.5042</td>\n      <td>-0.1786</td>\n      <td>0.0990</td>\n      <td>0.0855</td>\n    </tr>\n    <tr>\n      <th>SB1</th>\n      <td>0.0931</td>\n      <td>0.0580</td>\n      <td>-0.3192</td>\n      <td>0.0327</td>\n      <td>0.2731</td>\n    </tr>\n    <tr>\n      <th>LC1</th>\n      <td>0.0154</td>\n      <td>0.1831</td>\n      <td>0.0661</td>\n      <td>0.0200</td>\n      <td>0.0830</td>\n    </tr>\n    <tr>\n      <th>W1</th>\n      <td>0.0545</td>\n      <td>0.2989</td>\n      <td>0.0224</td>\n      <td>0.0213</td>\n      <td>0.1769</td>\n    </tr>\n    <tr>\n      <th>S1</th>\n      <td>0.0425</td>\n      <td>0.3995</td>\n      <td>0.0273</td>\n      <td>0.0529</td>\n      <td>0.1649</td>\n    </tr>\n    <tr>\n      <th>C1</th>\n      <td>0.0609</td>\n      <td>0.3404</td>\n      <td>0.0620</td>\n      <td>0.0282</td>\n      <td>0.2068</td>\n    </tr>\n    <tr>\n      <th>GC1</th>\n      <td>0.0705</td>\n      <td>0.1316</td>\n      <td>0.1487</td>\n      <td>0.0274</td>\n      <td>0.4345</td>\n    </tr>\n    <tr>\n      <th>SI1</th>\n      <td>0.0655</td>\n      <td>0.5118</td>\n      <td>0.1444</td>\n      <td>0.0584</td>\n      <td>0.2197</td>\n    </tr>\n    <tr>\n      <th>HG1</th>\n      <td>0.0478</td>\n      <td>0.6906</td>\n      <td>-0.1388</td>\n      <td>0.2147</td>\n      <td>0.2073</td>\n    </tr>\n    <tr>\n      <th>PA1</th>\n      <td>0.0792</td>\n      <td>0.6645</td>\n      <td>0.1733</td>\n      <td>0.0756</td>\n      <td>0.2342</td>\n    </tr>\n  </tbody>\n</table>\n</div>"
     },
     "execution_count": 27,
     "metadata": {},
     "output_type": "execute_result"
    }
   ],
   "source": [
    "pricing_reg"
   ],
   "metadata": {
    "collapsed": false,
    "ExecuteTime": {
     "end_time": "2023-07-12T02:38:21.772128Z",
     "start_time": "2023-07-12T02:38:21.594462Z"
    }
   }
  },
  {
   "cell_type": "markdown",
   "source": [
    "Assuming that beta reflects risk premiums, `MKT` seems to be a higher risk premium as the $\\beta$ associated with `MKT` are generally larger than those associated with UMD (Momentum)."
   ],
   "metadata": {
    "collapsed": false
   }
  },
  {
   "cell_type": "markdown",
   "source": [
    "### 5."
   ],
   "metadata": {
    "collapsed": false
   }
  },
  {
   "cell_type": "markdown",
   "source": [
    "If CAPM is true and perfectly fits our data:\n",
    "- We know nothing about the time-series R-squared metrics. The CAPM doesn't try to explain the variations in returns of security at different times, and the R-Square can be high or low regardless of if the CAPM is good or bad. The CAPM says about the long-run average. It says the expected excess return of security if a linear function of its beta to the market premium.\n",
    "\n",
    "- Treynor Ratios ($\\frac{\\mathbb{E}[\\tilde{r}]}{\\beta}$) would be the same for every security would be equal to the expected market premium.\n",
    "\n",
    "- Alpha $\\alpha$ would be 0, and the information ratio would be 0, as there would be no excess expected return against the market premium."
   ],
   "metadata": {
    "collapsed": false
   }
  },
  {
   "cell_type": "markdown",
   "source": [
    "# 4. Forecasting"
   ],
   "metadata": {
    "collapsed": false
   }
  },
  {
   "cell_type": "code",
   "execution_count": 28,
   "outputs": [
    {
     "data": {
      "text/plain": "               GLD  Tbill rate  Tbill change\nDate                                        \n2009-04-19 -0.0126      0.1300       -0.0450\n2009-04-26  0.0528      0.0950       -0.0350\n2009-05-03 -0.0309      0.1450        0.0500",
      "text/html": "<div>\n<style scoped>\n    .dataframe tbody tr th:only-of-type {\n        vertical-align: middle;\n    }\n\n    .dataframe tbody tr th {\n        vertical-align: top;\n    }\n\n    .dataframe thead th {\n        text-align: right;\n    }\n</style>\n<table border=\"1\" class=\"dataframe\">\n  <thead>\n    <tr style=\"text-align: right;\">\n      <th></th>\n      <th>GLD</th>\n      <th>Tbill rate</th>\n      <th>Tbill change</th>\n    </tr>\n    <tr>\n      <th>Date</th>\n      <th></th>\n      <th></th>\n      <th></th>\n    </tr>\n  </thead>\n  <tbody>\n    <tr>\n      <th>2009-04-19</th>\n      <td>-0.0126</td>\n      <td>0.1300</td>\n      <td>-0.0450</td>\n    </tr>\n    <tr>\n      <th>2009-04-26</th>\n      <td>0.0528</td>\n      <td>0.0950</td>\n      <td>-0.0350</td>\n    </tr>\n    <tr>\n      <th>2009-05-03</th>\n      <td>-0.0309</td>\n      <td>0.1450</td>\n      <td>0.0500</td>\n    </tr>\n  </tbody>\n</table>\n</div>"
     },
     "execution_count": 28,
     "metadata": {},
     "output_type": "execute_result"
    }
   ],
   "source": [
    "rets_forecast = pd.read_excel('midterm_A_2023_data.xlsx', sheet_name='forecasting (weekly)', parse_dates=True, index_col=0)\n",
    "rets_forecast.head(3)"
   ],
   "metadata": {
    "collapsed": false,
    "ExecuteTime": {
     "end_time": "2023-07-12T02:38:21.946024Z",
     "start_time": "2023-07-12T02:38:21.599789Z"
    }
   }
  },
  {
   "cell_type": "markdown",
   "source": [
    "### 1"
   ],
   "metadata": {
    "collapsed": false
   }
  },
  {
   "cell_type": "code",
   "execution_count": 29,
   "outputs": [],
   "source": [
    "sigs = rets_forecast[['Tbill rate', 'Tbill change']]\n",
    "sigs_lag = sigs.shift().dropna()\n",
    "sigs_lag, gld = sigs_lag.align(rets_forecast[['GLD']], join='inner', axis=0)"
   ],
   "metadata": {
    "collapsed": false,
    "ExecuteTime": {
     "end_time": "2023-07-12T02:38:21.946158Z",
     "start_time": "2023-07-12T02:38:21.718827Z"
    }
   }
  },
  {
   "cell_type": "code",
   "execution_count": 30,
   "outputs": [],
   "source": [
    "forecasts = rets_forecast[['GLD']].expanding().mean().shift(1).dropna()\n",
    "forecasts.columns = ['Mean']\n",
    "model_map = {'Tbill rate': ['Tbill rate'], 'Tbill change': ['Tbill change'], 'ALL': sigs.columns}"
   ],
   "metadata": {
    "collapsed": false,
    "ExecuteTime": {
     "end_time": "2023-07-12T02:38:21.946556Z",
     "start_time": "2023-07-12T02:38:21.729070Z"
    }
   }
  },
  {
   "cell_type": "code",
   "execution_count": 31,
   "outputs": [
    {
     "name": "stdout",
     "output_type": "stream",
     "text": [
      "\n",
      "Model: GOLD ~ Tbill rate\n",
      "R-squared: 0.000105\n",
      "Alpha:[0.00099138]\tBeta: [[0.00025706]]\n",
      "\n",
      "Model: GOLD ~ Tbill change\n",
      "R-squared: 0.000012\n",
      "Alpha:[0.00112631]\tBeta: [[0.00133266]]\n",
      "\n",
      "Model: GOLD ~ ALL\n",
      "R-squared: 0.000107\n",
      "Alpha:[0.00099261]\tBeta: [[0.00025022 0.00045566]]\n"
     ]
    }
   ],
   "source": [
    "for model in model_map.keys():\n",
    "    X = sigs_lag[model_map[model]]\n",
    "    mod = LinearRegression().fit(X, gld)\n",
    "    # R-squared and OLS estimates for α (intercept) and β (slope)\n",
    "    forecasts[model] = mod.predict(X)\n",
    "    print(f\"\\nModel: GOLD ~ {model}\\nR-squared: {mod.score(X, gld):.6f}\\nAlpha:{mod.intercept_}\\tBeta: {mod.coef_}\")\n",
    "\n",
    "forecasts.dropna(inplace=True)\n",
    "# forecasts"
   ],
   "metadata": {
    "collapsed": false,
    "ExecuteTime": {
     "end_time": "2023-07-12T02:38:21.947018Z",
     "start_time": "2023-07-12T02:38:21.732005Z"
    }
   }
  },
  {
   "cell_type": "code",
   "execution_count": 32,
   "outputs": [
    {
     "data": {
      "text/plain": "<pandas.io.formats.style.Styler at 0x152fbe6d0>",
      "text/html": "<style type=\"text/css\">\n</style>\n<table id=\"T_594b0\">\n  <thead>\n    <tr>\n      <th class=\"blank level0\" >&nbsp;</th>\n      <th id=\"T_594b0_level0_col0\" class=\"col_heading level0 col0\" >Alpha</th>\n      <th id=\"T_594b0_level0_col1\" class=\"col_heading level0 col1\" >Tbill rate</th>\n      <th id=\"T_594b0_level0_col2\" class=\"col_heading level0 col2\" >Tbill change</th>\n      <th id=\"T_594b0_level0_col3\" class=\"col_heading level0 col3\" >R-squared</th>\n      <th id=\"T_594b0_level0_col4\" class=\"col_heading level0 col4\" >Info Ratio</th>\n    </tr>\n  </thead>\n  <tbody>\n    <tr>\n      <th id=\"T_594b0_level0_row0\" class=\"row_heading level0 row0\" >GLD</th>\n      <td id=\"T_594b0_row0_col0\" class=\"data row0 col0\" >0.000993</td>\n      <td id=\"T_594b0_row0_col1\" class=\"data row0 col1\" >0.000250</td>\n      <td id=\"T_594b0_row0_col2\" class=\"data row0 col2\" >0.000456</td>\n      <td id=\"T_594b0_row0_col3\" class=\"data row0 col3\" >0.000107</td>\n      <td id=\"T_594b0_row0_col4\" class=\"data row0 col4\" >0.046985</td>\n    </tr>\n  </tbody>\n</table>\n"
     },
     "metadata": {},
     "output_type": "display_data"
    }
   ],
   "source": [
    "fct_reg = get_ols_metrics(sigs_lag, gld, annualization=1)\n",
    "display(fct_reg.style.format('{:,.6f}'))"
   ],
   "metadata": {
    "collapsed": false,
    "ExecuteTime": {
     "end_time": "2023-07-12T02:38:21.978352Z",
     "start_time": "2023-07-12T02:38:21.746780Z"
    }
   }
  },
  {
   "cell_type": "markdown",
   "source": [
    "- The R-squared is 0.000107.\n",
    "- The Alpha is 00099261.\n",
    "- The Beta is 0.0.00025022 for Tbill rate and 0.00045566 for Tbill change."
   ],
   "metadata": {
    "collapsed": false
   }
  },
  {
   "cell_type": "code",
   "execution_count": 40,
   "outputs": [
    {
     "data": {
      "text/plain": "<Figure size 600x400 with 1 Axes>",
      "image/png": "[encoded data removed]"
     },
     "metadata": {},
     "output_type": "display_data"
    }
   ],
   "source": [
    "forecasts.plot(figsize=(6, 4), cmap=\"coolwarm\", lw = 0.5, title='Forecasts')\n",
    "plt.ylim(-0.001, 0.0175)\n",
    "plt.show()"
   ],
   "metadata": {
    "collapsed": false,
    "ExecuteTime": {
     "end_time": "2023-07-12T02:38:45.900583Z",
     "start_time": "2023-07-12T02:38:45.798289Z"
    }
   }
  },
  {
   "cell_type": "markdown",
   "source": [
    "### 2 Trading Weights"
   ],
   "metadata": {
    "collapsed": false
   }
  },
  {
   "cell_type": "code",
   "execution_count": 41,
   "outputs": [],
   "source": [
    "wts = 0.2 + 80 * forecasts\n",
    "fund_returns = wts * gld.values"
   ],
   "metadata": {
    "collapsed": false,
    "ExecuteTime": {
     "end_time": "2023-07-12T02:38:49.093098Z",
     "start_time": "2023-07-12T02:38:49.088019Z"
    }
   }
  },
  {
   "cell_type": "code",
   "execution_count": 42,
   "outputs": [
    {
     "name": "stdout",
     "output_type": "stream",
     "text": [
      "First 5 values: \n",
      "Date\n",
      "2009-04-26    0.0148\n",
      "2009-05-03   -0.0086\n",
      "2009-05-10    0.0099\n",
      "2009-05-17    0.0049\n",
      "2009-05-24    0.0080\n",
      "Name: ALL, dtype: float64\n"
     ]
    }
   ],
   "source": [
    "print(f\"First 5 values: \\n{fund_returns.ALL.head()}\")"
   ],
   "metadata": {
    "collapsed": false,
    "ExecuteTime": {
     "end_time": "2023-07-12T02:38:49.268733Z",
     "start_time": "2023-07-12T02:38:49.257056Z"
    }
   }
  },
  {
   "cell_type": "code",
   "execution_count": 43,
   "outputs": [
    {
     "name": "stdout",
     "output_type": "stream",
     "text": [
      "Last 5 values: \n",
      "Date\n",
      "2022-11-06    0.0078\n",
      "2022-11-13    0.0187\n",
      "2022-11-20   -0.0039\n",
      "2022-11-27    0.0010\n",
      "2022-12-04   -0.0011\n",
      "Name: ALL, dtype: float64\n"
     ]
    }
   ],
   "source": [
    "print(f\"Last 5 values: \\n{fund_returns.ALL.tail()}\")"
   ],
   "metadata": {
    "collapsed": false,
    "ExecuteTime": {
     "end_time": "2023-07-12T02:38:49.404646Z",
     "start_time": "2023-07-12T02:38:49.400550Z"
    }
   }
  },
  {
   "cell_type": "markdown",
   "source": [
    "### 3"
   ],
   "metadata": {
    "collapsed": false
   }
  },
  {
   "cell_type": "code",
   "execution_count": 44,
   "outputs": [
    {
     "data": {
      "text/plain": "                GLD\nMean         0.0136\nVolatility   0.0732\nSharpe Ratio 0.1859",
      "text/html": "<div>\n<style scoped>\n    .dataframe tbody tr th:only-of-type {\n        vertical-align: middle;\n    }\n\n    .dataframe tbody tr th {\n        vertical-align: top;\n    }\n\n    .dataframe thead th {\n        text-align: right;\n    }\n</style>\n<table border=\"1\" class=\"dataframe\">\n  <thead>\n    <tr style=\"text-align: right;\">\n      <th></th>\n      <th>GLD</th>\n    </tr>\n  </thead>\n  <tbody>\n    <tr>\n      <th>Mean</th>\n      <td>0.0136</td>\n    </tr>\n    <tr>\n      <th>Volatility</th>\n      <td>0.0732</td>\n    </tr>\n    <tr>\n      <th>Sharpe Ratio</th>\n      <td>0.1859</td>\n    </tr>\n  </tbody>\n</table>\n</div>"
     },
     "execution_count": 44,
     "metadata": {},
     "output_type": "execute_result"
    }
   ],
   "source": [
    "performance_summary(gld, adj_factor=12).T"
   ],
   "metadata": {
    "collapsed": false,
    "ExecuteTime": {
     "end_time": "2023-07-12T02:38:49.736093Z",
     "start_time": "2023-07-12T02:38:49.720342Z"
    }
   }
  },
  {
   "cell_type": "code",
   "execution_count": 45,
   "outputs": [
    {
     "data": {
      "text/plain": "Mean           0.0040\nVolatility     0.0209\nSharpe Ratio   0.1911\nName: ALL, dtype: float64"
     },
     "execution_count": 45,
     "metadata": {},
     "output_type": "execute_result"
    }
   ],
   "source": [
    "performance_summary(fund_returns, adj_factor=12).loc['ALL']"
   ],
   "metadata": {
    "collapsed": false,
    "ExecuteTime": {
     "end_time": "2023-07-12T02:38:49.856727Z",
     "start_time": "2023-07-12T02:38:49.852968Z"
    }
   }
  },
  {
   "cell_type": "markdown",
   "source": [
    "`GLD` offers higher returns due to the higher mean, but it also involves greater risk, represented by a higher volatility. Still, the `GLD`'s Sharpe ratio are comparable to the ALL (0.1859 vs 0.1911). The slightly higher Sharpe ratio indicates marginally better risk-adjusted performance.\n",
    "\n",
    "Gold seems better to me as the slightly higher returns are prioritized over risk. BUT ULTIMATELY, the better strategy hinges on the investor's risk tolerance. ALL would seem more suitable for investors seeking lower volatility and marginally better risk-adjusted returns."
   ],
   "metadata": {
    "collapsed": false
   }
  },
  {
   "cell_type": "markdown",
   "source": [
    "### 4\n"
   ],
   "metadata": {
    "collapsed": false
   }
  },
  {
   "cell_type": "markdown",
   "source": [
    "The model with the Tbill rate as the signal has an R-squared value of 0.000105, which is higher than the model with the Tbill change as the signal, which has an R-squared value of 0.000012. This suggests that Tbill rate has a slightly stronger relationship with the GLD return, and would thus be more likely to forecast future movements in GLD more accurately.\n",
    "\n",
    "Also, interest rates (`Tbill rate`) have compounding effects over long periods. Higher interest rates increase the opportunity cost of holding gold which does not offer a yield, pushing the price down, and vice versa. This relationship is more stable and reliable over long periods, as compared to changes in Tbill yields which can be more erratic.\n",
    "\n",
    "Therefore, the `Tbill rate` is more likely to compound the effect over long horizons, similar to the dividend-price ratios used in forecasting SPY.\n"
   ],
   "metadata": {
    "collapsed": false
   }
  }
 ],
 "metadata": {
  "kernelspec": {
   "display_name": "Python 3",
   "language": "python",
   "name": "python3"
  },
  "language_info": {
   "codemirror_mode": {
    "name": "ipython",
    "version": 2
   },
   "file_extension": ".py",
   "mimetype": "text/x-python",
   "name": "python",
   "nbconvert_exporter": "python",
   "pygments_lexer": "ipython2",
   "version": "2.7.6"
  }
 },
 "nbformat": 4,
 "nbformat_minor": 0
}
