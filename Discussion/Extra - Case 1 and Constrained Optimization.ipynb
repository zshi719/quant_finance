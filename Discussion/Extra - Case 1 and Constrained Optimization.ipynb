{
 "cells": [
  {
   "cell_type": "markdown",
   "id": "02404ed4",
   "metadata": {},
   "source": [
    "# Discussion of Portfolio Optimization with Asset Bounds\n",
    "## Via the HBS Case: Harvard and Inflation-Indexed Bonds\n",
    "\n",
    "### Mark Hendricks\n",
    "#### Summer 2022"
   ]
  },
  {
   "cell_type": "code",
   "execution_count": 1,
   "id": "7e9728e2",
   "metadata": {
    "ExecuteTime": {
     "end_time": "2023-07-09T21:38:58.944440Z",
     "start_time": "2023-07-09T21:38:58.531843100Z"
    }
   },
   "outputs": [],
   "source": [
    "import pandas as pd\n",
    "import numpy as np\n",
    "import warnings\n",
    "from scipy.optimize import minimize"
   ]
  },
  {
   "cell_type": "markdown",
   "id": "e6f9c719",
   "metadata": {},
   "source": [
    "# Data Processing\n",
    "\n",
    "## Organize Return Statistics as provided in the Harvard Case\n",
    "- Assumed (Exhibit 4)\n",
    "- Historic (Exhibit 2)\n",
    "\n",
    "The exhibits are a mess when loaded, function below cleans them up and returns the relevant data.\n",
    "\n",
    "#### Problem with Data in Exhibit 2\n",
    "Note: The historic correlation matrix in Exhibit 2 **is not positive definite!**\n",
    "- This is clearly a mistake in the exhibit.\n",
    "- It does not cause an obvious problem with the results below.\n",
    "- But if you compare the analytic MV solution with a numerical optimization of the classic MV problem (no bounds) one sees that the numerical optimizer can take advantage of the matrix being negative definite to achieve a negative variance!\n",
    "- Thus, the numerically optimized solution with constraints is suspect.\n",
    "\n",
    "**Thus, the analysis with \"Historic\" data from Exhibit 2 should be taken with a grain of salt.** Yet it still illustrates the concept."
   ]
  },
  {
   "cell_type": "code",
   "execution_count": 2,
   "id": "981d217a",
   "metadata": {
    "ExecuteTime": {
     "end_time": "2023-07-09T21:38:58.945439700Z",
     "start_time": "2023-07-09T21:38:58.547016900Z"
    }
   },
   "outputs": [],
   "source": [
    "def read_harvard_stats_exhibit(df,description=None):\n",
    "\n",
    "    # get the portion of the exhibit with actual data\n",
    "    df.dropna(subset=[df.columns[0]],axis=0,how='any',inplace=True)\n",
    "    df.set_index(df.columns[0],inplace=True)\n",
    "    df.dropna(axis=1,how='all',inplace=True)\n",
    "    df.dropna(axis=0,how='all',inplace=True)\n",
    "    df.set_index(df.columns[0],inplace=True)\n",
    "    df.index.name = description\n",
    "    \n",
    "    # deal with typos and bad formatting from the case exhbit\n",
    "    if description == 'Assumed Stats':\n",
    "        df.rename({'Infl-Indexed Bonds':'Inflation-Indexed Bonds'},axis=0,inplace=True)\n",
    "    elif description == 'Historic Stats':\n",
    "        df.rename({'Absolute Returnb':'Absolute Return', 'High Yieldb':'High Yield', 'Foreign Bondsb':'Foreign Bonds'},axis=0, inplace=True)\n",
    "\n",
    "    # organize data\n",
    "    df.columns = ['Mean','Vol'] + list(df.index)\n",
    "\n",
    "    df = df.astype('float64')\n",
    "    corr = df.drop(columns=['Mean','Vol'])\n",
    "    \n",
    "    ### Force the correlation matrix in Exhibit 2 to be positive definite\n",
    "    HIST_CORR_FIX = [.80,.85]\n",
    "    if description == 'Historic Stats':\n",
    "        corr.loc['Absolute Return',['Domestic Equity','Foreign Equity']] = HIST_CORR_FIX\n",
    "        corr.loc[['Domestic Equity','Foreign Equity'],'Absolute Return'] = HIST_CORR_FIX\n",
    "    \n",
    "    vol = df['Vol'] / 100\n",
    "    mean = df['Mean'] / 100\n",
    "    cov = corr * (np.outer(vol, vol.T))\n",
    "    \n",
    "    return {'mean':mean, 'vol':vol, 'cov':cov, 'corr':corr}"
   ]
  },
  {
   "cell_type": "markdown",
   "id": "02687d35",
   "metadata": {},
   "source": [
    "## Organize Optimization Parameters\n",
    "### Also read in the HBS Solutions"
   ]
  },
  {
   "cell_type": "code",
   "execution_count": 3,
   "id": "d808a560",
   "metadata": {
    "ExecuteTime": {
     "end_time": "2023-07-09T21:38:58.945946700Z",
     "start_time": "2023-07-09T21:38:58.555667600Z"
    }
   },
   "outputs": [],
   "source": [
    "def read_harvard_optimization_exhibit(df, description = None):\n",
    "    df = df.dropna(axis=1,how='all').dropna(axis=0,how='all').set_index(df.columns[0])\n",
    "    df.columns = df.iloc[-4,:]/100\n",
    "    df = df.loc[cov.index]\n",
    "\n",
    "    if description == 'Historic Stats':\n",
    "        df.drop(index='Inflation-Indexed Bonds',inplace=True)\n",
    "        \n",
    "    hbs_solutions = df.loc[:,df.columns.notnull()]/100\n",
    "    hbs_solutions.index.name = 'weights'\n",
    "\n",
    "    bounds_df = df.iloc[:,-2:]\n",
    "    if description == 'Policy':\n",
    "        bounds_df /= 100\n",
    "    bounds_df.columns = ['Min','Max']\n",
    "    bounds_df.index.name = description\n",
    "    \n",
    "    return bounds_df, hbs_solutions"
   ]
  },
  {
   "cell_type": "markdown",
   "id": "907029fc",
   "metadata": {},
   "source": [
    "## Case has 4 combinations\n",
    "### Two types of statistics\n",
    "- Historic\n",
    "- Assumed\n",
    "\n",
    "### Two sets of bounds\n",
    "- Long-only\n",
    "- Policy\n",
    "\n",
    "Our main focus, like that of case, is\n",
    "- Assumed stats\n",
    "- Policy constraints"
   ]
  },
  {
   "cell_type": "code",
   "execution_count": 4,
   "id": "c8617154",
   "metadata": {
    "ExecuteTime": {
     "end_time": "2023-07-09T21:38:58.946453Z",
     "start_time": "2023-07-09T21:38:58.609774200Z"
    }
   },
   "outputs": [],
   "source": [
    "DATAFILE = '../data/harvard_tips_exhibits.xlsx'\n",
    "\n",
    "USE_HISTORIC_STATS = False\n",
    "USE_LONGONLY_CONSTRAINT = False"
   ]
  },
  {
   "cell_type": "code",
   "execution_count": 5,
   "id": "36a4d9a1",
   "metadata": {
    "ExecuteTime": {
     "end_time": "2023-07-09T21:38:58.946453Z",
     "start_time": "2023-07-09T21:38:58.614775400Z"
    }
   },
   "outputs": [],
   "source": [
    "if USE_HISTORIC_STATS:\n",
    "    sheet_stats = 'Exhibit 2'\n",
    "    stats_description = 'Historic Stats'\n",
    "else:\n",
    "    sheet_stats = 'Exhibit 4'\n",
    "    stats_description = 'Assumed Stats'\n",
    "\n",
    "if USE_LONGONLY_CONSTRAINT:\n",
    "    sheet_constraint = 'Exhibit 5'\n",
    "    constraint_description = 'Long-Only'\n",
    "else:\n",
    "    sheet_constraint = 'Exhibit 6'\n",
    "    constraint_description = 'Policy'"
   ]
  },
  {
   "cell_type": "code",
   "execution_count": 6,
   "id": "46309b14",
   "metadata": {
    "scrolled": false,
    "ExecuteTime": {
     "end_time": "2023-07-09T21:38:59.438941600Z",
     "start_time": "2023-07-09T21:38:58.616784700Z"
    }
   },
   "outputs": [
    {
     "ename": "FileNotFoundError",
     "evalue": "[Errno 2] No such file or directory: '../data/harvard_tips_exhibits.xlsx'",
     "output_type": "error",
     "traceback": [
      "\u001B[1;31m---------------------------------------------------------------------------\u001B[0m",
      "\u001B[1;31mFileNotFoundError\u001B[0m                         Traceback (most recent call last)",
      "Cell \u001B[1;32mIn[6], line 4\u001B[0m\n\u001B[0;32m      1\u001B[0m \u001B[38;5;28;01mwith\u001B[39;00m warnings\u001B[38;5;241m.\u001B[39mcatch_warnings():\n\u001B[0;32m      2\u001B[0m     warnings\u001B[38;5;241m.\u001B[39msimplefilter(\u001B[38;5;124m'\u001B[39m\u001B[38;5;124mignore\u001B[39m\u001B[38;5;124m'\u001B[39m)\n\u001B[1;32m----> 4\u001B[0m     rawdata_stats \u001B[38;5;241m=\u001B[39m \u001B[43mpd\u001B[49m\u001B[38;5;241;43m.\u001B[39;49m\u001B[43mread_excel\u001B[49m\u001B[43m(\u001B[49m\u001B[43mDATAFILE\u001B[49m\u001B[43m,\u001B[49m\u001B[43msheet_name\u001B[49m\u001B[38;5;241;43m=\u001B[39;49m\u001B[43msheet_stats\u001B[49m\u001B[43m)\u001B[49m\n\u001B[0;32m      5\u001B[0m     rawdata_opt \u001B[38;5;241m=\u001B[39m pd\u001B[38;5;241m.\u001B[39mread_excel(DATAFILE,sheet_name\u001B[38;5;241m=\u001B[39msheet_constraint)\n\u001B[0;32m      7\u001B[0m output_stats \u001B[38;5;241m=\u001B[39m read_harvard_stats_exhibit(rawdata_stats, description \u001B[38;5;241m=\u001B[39m stats_description)    \n",
      "File \u001B[1;32m~\\python3.11\\Lib\\site-packages\\pandas\\io\\excel\\_base.py:478\u001B[0m, in \u001B[0;36mread_excel\u001B[1;34m(io, sheet_name, header, names, index_col, usecols, dtype, engine, converters, true_values, false_values, skiprows, nrows, na_values, keep_default_na, na_filter, verbose, parse_dates, date_parser, date_format, thousands, decimal, comment, skipfooter, storage_options, dtype_backend)\u001B[0m\n\u001B[0;32m    476\u001B[0m \u001B[38;5;28;01mif\u001B[39;00m \u001B[38;5;129;01mnot\u001B[39;00m \u001B[38;5;28misinstance\u001B[39m(io, ExcelFile):\n\u001B[0;32m    477\u001B[0m     should_close \u001B[38;5;241m=\u001B[39m \u001B[38;5;28;01mTrue\u001B[39;00m\n\u001B[1;32m--> 478\u001B[0m     io \u001B[38;5;241m=\u001B[39m \u001B[43mExcelFile\u001B[49m\u001B[43m(\u001B[49m\u001B[43mio\u001B[49m\u001B[43m,\u001B[49m\u001B[43m \u001B[49m\u001B[43mstorage_options\u001B[49m\u001B[38;5;241;43m=\u001B[39;49m\u001B[43mstorage_options\u001B[49m\u001B[43m,\u001B[49m\u001B[43m \u001B[49m\u001B[43mengine\u001B[49m\u001B[38;5;241;43m=\u001B[39;49m\u001B[43mengine\u001B[49m\u001B[43m)\u001B[49m\n\u001B[0;32m    479\u001B[0m \u001B[38;5;28;01melif\u001B[39;00m engine \u001B[38;5;129;01mand\u001B[39;00m engine \u001B[38;5;241m!=\u001B[39m io\u001B[38;5;241m.\u001B[39mengine:\n\u001B[0;32m    480\u001B[0m     \u001B[38;5;28;01mraise\u001B[39;00m \u001B[38;5;167;01mValueError\u001B[39;00m(\n\u001B[0;32m    481\u001B[0m         \u001B[38;5;124m\"\u001B[39m\u001B[38;5;124mEngine should not be specified when passing \u001B[39m\u001B[38;5;124m\"\u001B[39m\n\u001B[0;32m    482\u001B[0m         \u001B[38;5;124m\"\u001B[39m\u001B[38;5;124man ExcelFile - ExcelFile already has the engine set\u001B[39m\u001B[38;5;124m\"\u001B[39m\n\u001B[0;32m    483\u001B[0m     )\n",
      "File \u001B[1;32m~\\python3.11\\Lib\\site-packages\\pandas\\io\\excel\\_base.py:1496\u001B[0m, in \u001B[0;36mExcelFile.__init__\u001B[1;34m(self, path_or_buffer, engine, storage_options)\u001B[0m\n\u001B[0;32m   1494\u001B[0m     ext \u001B[38;5;241m=\u001B[39m \u001B[38;5;124m\"\u001B[39m\u001B[38;5;124mxls\u001B[39m\u001B[38;5;124m\"\u001B[39m\n\u001B[0;32m   1495\u001B[0m \u001B[38;5;28;01melse\u001B[39;00m:\n\u001B[1;32m-> 1496\u001B[0m     ext \u001B[38;5;241m=\u001B[39m \u001B[43minspect_excel_format\u001B[49m\u001B[43m(\u001B[49m\n\u001B[0;32m   1497\u001B[0m \u001B[43m        \u001B[49m\u001B[43mcontent_or_path\u001B[49m\u001B[38;5;241;43m=\u001B[39;49m\u001B[43mpath_or_buffer\u001B[49m\u001B[43m,\u001B[49m\u001B[43m \u001B[49m\u001B[43mstorage_options\u001B[49m\u001B[38;5;241;43m=\u001B[39;49m\u001B[43mstorage_options\u001B[49m\n\u001B[0;32m   1498\u001B[0m \u001B[43m    \u001B[49m\u001B[43m)\u001B[49m\n\u001B[0;32m   1499\u001B[0m     \u001B[38;5;28;01mif\u001B[39;00m ext \u001B[38;5;129;01mis\u001B[39;00m \u001B[38;5;28;01mNone\u001B[39;00m:\n\u001B[0;32m   1500\u001B[0m         \u001B[38;5;28;01mraise\u001B[39;00m \u001B[38;5;167;01mValueError\u001B[39;00m(\n\u001B[0;32m   1501\u001B[0m             \u001B[38;5;124m\"\u001B[39m\u001B[38;5;124mExcel file format cannot be determined, you must specify \u001B[39m\u001B[38;5;124m\"\u001B[39m\n\u001B[0;32m   1502\u001B[0m             \u001B[38;5;124m\"\u001B[39m\u001B[38;5;124man engine manually.\u001B[39m\u001B[38;5;124m\"\u001B[39m\n\u001B[0;32m   1503\u001B[0m         )\n",
      "File \u001B[1;32m~\\python3.11\\Lib\\site-packages\\pandas\\io\\excel\\_base.py:1371\u001B[0m, in \u001B[0;36minspect_excel_format\u001B[1;34m(content_or_path, storage_options)\u001B[0m\n\u001B[0;32m   1368\u001B[0m \u001B[38;5;28;01mif\u001B[39;00m \u001B[38;5;28misinstance\u001B[39m(content_or_path, \u001B[38;5;28mbytes\u001B[39m):\n\u001B[0;32m   1369\u001B[0m     content_or_path \u001B[38;5;241m=\u001B[39m BytesIO(content_or_path)\n\u001B[1;32m-> 1371\u001B[0m \u001B[38;5;28;01mwith\u001B[39;00m \u001B[43mget_handle\u001B[49m\u001B[43m(\u001B[49m\n\u001B[0;32m   1372\u001B[0m \u001B[43m    \u001B[49m\u001B[43mcontent_or_path\u001B[49m\u001B[43m,\u001B[49m\u001B[43m \u001B[49m\u001B[38;5;124;43m\"\u001B[39;49m\u001B[38;5;124;43mrb\u001B[39;49m\u001B[38;5;124;43m\"\u001B[39;49m\u001B[43m,\u001B[49m\u001B[43m \u001B[49m\u001B[43mstorage_options\u001B[49m\u001B[38;5;241;43m=\u001B[39;49m\u001B[43mstorage_options\u001B[49m\u001B[43m,\u001B[49m\u001B[43m \u001B[49m\u001B[43mis_text\u001B[49m\u001B[38;5;241;43m=\u001B[39;49m\u001B[38;5;28;43;01mFalse\u001B[39;49;00m\n\u001B[0;32m   1373\u001B[0m \u001B[43m\u001B[49m\u001B[43m)\u001B[49m \u001B[38;5;28;01mas\u001B[39;00m handle:\n\u001B[0;32m   1374\u001B[0m     stream \u001B[38;5;241m=\u001B[39m handle\u001B[38;5;241m.\u001B[39mhandle\n\u001B[0;32m   1375\u001B[0m     stream\u001B[38;5;241m.\u001B[39mseek(\u001B[38;5;241m0\u001B[39m)\n",
      "File \u001B[1;32m~\\python3.11\\Lib\\site-packages\\pandas\\io\\common.py:868\u001B[0m, in \u001B[0;36mget_handle\u001B[1;34m(path_or_buf, mode, encoding, compression, memory_map, is_text, errors, storage_options)\u001B[0m\n\u001B[0;32m    859\u001B[0m         handle \u001B[38;5;241m=\u001B[39m \u001B[38;5;28mopen\u001B[39m(\n\u001B[0;32m    860\u001B[0m             handle,\n\u001B[0;32m    861\u001B[0m             ioargs\u001B[38;5;241m.\u001B[39mmode,\n\u001B[1;32m   (...)\u001B[0m\n\u001B[0;32m    864\u001B[0m             newline\u001B[38;5;241m=\u001B[39m\u001B[38;5;124m\"\u001B[39m\u001B[38;5;124m\"\u001B[39m,\n\u001B[0;32m    865\u001B[0m         )\n\u001B[0;32m    866\u001B[0m     \u001B[38;5;28;01melse\u001B[39;00m:\n\u001B[0;32m    867\u001B[0m         \u001B[38;5;66;03m# Binary mode\u001B[39;00m\n\u001B[1;32m--> 868\u001B[0m         handle \u001B[38;5;241m=\u001B[39m \u001B[38;5;28;43mopen\u001B[39;49m\u001B[43m(\u001B[49m\u001B[43mhandle\u001B[49m\u001B[43m,\u001B[49m\u001B[43m \u001B[49m\u001B[43mioargs\u001B[49m\u001B[38;5;241;43m.\u001B[39;49m\u001B[43mmode\u001B[49m\u001B[43m)\u001B[49m\n\u001B[0;32m    869\u001B[0m     handles\u001B[38;5;241m.\u001B[39mappend(handle)\n\u001B[0;32m    871\u001B[0m \u001B[38;5;66;03m# Convert BytesIO or file objects passed with an encoding\u001B[39;00m\n",
      "\u001B[1;31mFileNotFoundError\u001B[0m: [Errno 2] No such file or directory: '../data/harvard_tips_exhibits.xlsx'"
     ]
    }
   ],
   "source": [
    "with warnings.catch_warnings():\n",
    "    warnings.simplefilter('ignore')\n",
    "\n",
    "    rawdata_stats = pd.read_excel(DATAFILE,sheet_name=sheet_stats)\n",
    "    rawdata_opt = pd.read_excel(DATAFILE,sheet_name=sheet_constraint)\n",
    "\n",
    "output_stats = read_harvard_stats_exhibit(rawdata_stats, description = stats_description)    \n",
    "mean = output_stats['mean']\n",
    "cov = output_stats['cov']\n",
    "nAssets = mean.shape[0]\n",
    "\n",
    "bounds_df, hbs_solutions = read_harvard_optimization_exhibit(rawdata_opt, description = constraint_description)"
   ]
  },
  {
   "cell_type": "markdown",
   "id": "0b1004cf",
   "metadata": {},
   "source": [
    "# Constrained Optimization\n",
    "\n",
    "### Objective\n",
    "Minimize portfolio variance. \n",
    "- Portfolio weights: $\\boldsymbol{w}$\n",
    "- Return covariance matrix: $\\boldsymbol{\\Sigma}$\n",
    "$$f(\\boldsymbol{w}) = \\boldsymbol{w}' \\boldsymbol{\\Sigma} \\boldsymbol{w}$$"
   ]
  },
  {
   "cell_type": "code",
   "execution_count": null,
   "id": "593f8043",
   "metadata": {
    "ExecuteTime": {
     "start_time": "2023-07-09T21:38:59.438941600Z"
    }
   },
   "outputs": [],
   "source": [
    "def objective(w):        \n",
    "    return (w.T @ cov @ w)"
   ]
  },
  {
   "cell_type": "markdown",
   "id": "fd1c917d",
   "metadata": {},
   "source": [
    "### Constraints\n",
    "\n",
    "#### Equality Constraints\n",
    "- Targeted mean for the optimized portfolio: $\\mu_p$\n",
    "Define the following two functions:\n",
    "$$g_{1}(\\boldsymbol{w}) \\equiv \\boldsymbol{1}'\\boldsymbol{w}$$\n",
    "$$g_{2}(\\boldsymbol{w}) \\equiv \\boldsymbol{\\mu}'\\boldsymbol{w}$$\n",
    "\n",
    "These are imposed as equality constraints:\n",
    "$$g_1(\\boldsymbol{w}) = 1$$\n",
    "$$g_2(\\boldsymbol{w}) = \\mu_p$$\n",
    "\n",
    "#### Target mean\n",
    "Below we analyze the problem for a target mean return of\n",
    "- 8% if using the assume stats\n",
    "- 12% if using the historic stats\n",
    "The reason for the difference is that the historic stats are **much** more favorable, and it is easy to generate high mean returns."
   ]
  },
  {
   "cell_type": "code",
   "execution_count": null,
   "id": "101d625c",
   "metadata": {},
   "outputs": [],
   "source": [
    "if USE_HISTORIC_STATS:\n",
    "    TARGET_MEAN = 0.12\n",
    "else:\n",
    "    TARGET_MEAN = 0.07\n",
    "\n",
    "def fun_constraint_capital(w):\n",
    "    return np.sum(w) - 1\n",
    "\n",
    "def fun_constraint_mean(w):\n",
    "    return (mean @ w) - TARGET_MEAN\n",
    "\n",
    "constraint_capital = {'type': 'eq', 'fun': fun_constraint_capital}\n",
    "constraint_mean = {'type': 'eq', 'fun': fun_constraint_mean}\n",
    "\n",
    "cons = ([constraint_capital, constraint_mean])"
   ]
  },
  {
   "cell_type": "markdown",
   "id": "315436bb",
   "metadata": {},
   "source": [
    "### Inequality Constraints\n",
    "\n",
    "**This cell's notation and setup is overkill for the simplicity of these constraints, but is noted here for more general problems.**\n",
    "\n",
    "- Denote the $k\\times k$ identity matrix as $\\mathcal{I}_k$\n",
    "- Denote the $i$ column of the identity matrix as $\\boldsymbol{\\iota}_i$\n",
    "\n",
    "Define the following $k$ functions, for $1\\le i\\le n$: \n",
    "$$h_i(\\boldsymbol{w}) \\equiv \\boldsymbol{\\iota}_i' \\boldsymbol{w}$$\n",
    "For each $i$, we use the upper and lower inequality constraints:\n",
    "$$h_i(\\boldsymbol{w}) \\le d_i^{\\text{max}}$$\n",
    "$$h_i(\\boldsymbol{w}) \\ge d_i^{\\text{min}}$$\n",
    "\n",
    "Stack the constraints into matrix notation. The inequality constraint functions are linear:\n",
    "$$\\boldsymbol{h}(\\boldsymbol{w}) \\equiv \\mathcal{I}_k \\boldsymbol{w}$$\n",
    "and there are $2n$ total of them--$n$ upper and $n$ lower:\n",
    "$$\\boldsymbol{h}(\\boldsymbol{w}) \\le \\boldsymbol{d}^{\\text{max}}$$\n",
    "$$\\boldsymbol{h}(\\boldsymbol{w}) \\ge \\boldsymbol{d}^{\\text{min}}$$"
   ]
  },
  {
   "cell_type": "markdown",
   "id": "4f3d1ae5",
   "metadata": {},
   "source": [
    "### Boundary Constraints\n",
    "\n",
    "Given that the inequality constraint functions are all linear, these constraints are simply boundary conditions.\n",
    "\n",
    "The `scipy` package `minimize` implements boundary constraints specifically, via an iteration of tuples:"
   ]
  },
  {
   "cell_type": "code",
   "execution_count": null,
   "id": "462210bb",
   "metadata": {},
   "outputs": [],
   "source": [
    "bounds = [tuple(bounds_df.iloc[i,:].values) for i in range(nAssets)]"
   ]
  },
  {
   "cell_type": "markdown",
   "id": "45c99e30",
   "metadata": {},
   "source": [
    "## Solution\n",
    "\n",
    "#### Default Tolerance\n",
    "- Default tolerance is fine here, but be careful. Variance minimization for daily or even monthly variance leads to extremely small scaling of the objective function, and often the default tolerance will not be sufficient.\n",
    "- Even in the example below, making the tolerance stricter impacts the weights to the second decimal place.\n",
    "\n",
    "#### Method\n",
    "- For the data given here the problem is not too hard to solve, so many methods will work fine.\n",
    "- If using high dimensionality, nearly singular determinant, etc, it may matter more.\n",
    "- Below we use `SLSQP` as it is fast and fairly robust for this application.\n",
    "- At the end, we redo the optimization using `trust-constr` solely for the fact that this method automatically returns the Lagrange Multipliers which are useful for pedagogical reasons.\n",
    "\n",
    "#### Initialize\n",
    "- Try equally-weighted portfolio\n",
    "- This satisfies the Long-Only constraint.\n",
    "- May not satisfy the Policy constraint, but this problem is well-behaved, so it will be good enough as an initial guess\n",
    "\n",
    "#### Verify!\n",
    "- In a serious application, we would code the problem to verify that the answer returned by the solution is a \"success\" (obeys all the constraints) rather than a failed attempt. Try changing `TARGET_MEAN` to a big number, and you will see the optimizer fail to hit the target and obey the constraints."
   ]
  },
  {
   "cell_type": "code",
   "execution_count": null,
   "id": "5d2380e6",
   "metadata": {},
   "outputs": [],
   "source": [
    "TOL = 1e-12\n",
    "METHOD = 'SLSQP'\n",
    "\n",
    "w0 = np.ones(nAssets) / nAssets\n",
    "\n",
    "solution = minimize(objective, w0, method=METHOD, bounds=bounds,constraints=cons, tol=TOL)\n",
    "wstar = pd.DataFrame(data=solution.x, index=cov.columns, columns=['Bounded: Numerical'])\n",
    "\n",
    "if solution.success:\n",
    "    print('Optimization SUCCESSFUL.')\n",
    "else:\n",
    "    print('Optimization FAILED.')\n",
    "\n",
    "print(f'Iterations: {solution.nit}.')"
   ]
  },
  {
   "cell_type": "markdown",
   "id": "291449b4",
   "metadata": {},
   "source": [
    "# Other Solutions for Comparison\n",
    "\n",
    "#### HBS Case Exhibit Solution\n",
    "Compare to Exhibits 5 and 6.\n",
    "- Only applicable if `USE_HISTORIC_STATS` is `False`.\n",
    "- (Case does not provide their solutions when using Historic data.)\n",
    "\n",
    "#### Classic MV via Numerical Optimization\n",
    "Solve numerically by dropping the inequality (bounds) constraints in `minimize`.\n",
    "- Only applicable if `USE_HISTORIC_STATS` is `False`. \n",
    "- (Exhibit 2 correlation matrix is not positive definite.)\n",
    "\n",
    "#### Analytic MV solution for verification.\n",
    "- Calculate this on your own.\n",
    "- The function doing it below is not available to you.\n",
    "- If `USE_HISTORIC_STATS` is `True`, computation may not work correctly, but it is attempted.\n",
    "\n",
    "#### Equal-weighted\n",
    "- Just for illustration. "
   ]
  },
  {
   "cell_type": "code",
   "execution_count": null,
   "id": "58a2b923",
   "metadata": {},
   "outputs": [],
   "source": [
    "if sheet_stats == 'Exhibit 4' and TARGET_MEAN in hbs_solutions.columns:\n",
    "    wstar['Bounded: Case'] = hbs_solutions[TARGET_MEAN]   "
   ]
  },
  {
   "cell_type": "code",
   "execution_count": null,
   "id": "17a664a7",
   "metadata": {},
   "outputs": [],
   "source": [
    "if not USE_HISTORIC_STATS:\n",
    "    METHOD = 'SLSQP'\n",
    "    TOL = 1e-12\n",
    "    w0 = np.ones(nAssets) / nAssets\n",
    "\n",
    "    solutionMV = minimize(objective, w0, method=METHOD, constraints=cons, tol=TOL)\n",
    "    wstar['MV: Numerical'] = solutionMV.x\n",
    "    \n",
    "    if solutionMV.success:\n",
    "        print('Optimization SUCCESSFUL.')\n",
    "    else:\n",
    "        print('Optimization FAILED.')\n",
    "\n",
    "    print(f'Iterations: {solutionMV.nit}.')"
   ]
  },
  {
   "cell_type": "code",
   "execution_count": null,
   "id": "a9459adc",
   "metadata": {},
   "outputs": [],
   "source": [
    "import os\n",
    "import sys\n",
    "if os.path.isfile('../dev/extras.py'):\n",
    "    sys.path.insert(0, '../dev')\n",
    "    from extras import MVweights\n",
    "    wstar['MV: Analytic'] = MVweights(mean=mean,cov=cov,isexcess=False,target=TARGET_MEAN)"
   ]
  },
  {
   "cell_type": "code",
   "execution_count": null,
   "id": "6edb4a67",
   "metadata": {},
   "outputs": [],
   "source": [
    "wstar.insert(0,'Equally-Weighted',w0)"
   ]
  },
  {
   "cell_type": "markdown",
   "id": "5e9cb7a1",
   "metadata": {},
   "source": [
    "# Results\n",
    "\n",
    "### Optimized Weights Comparison"
   ]
  },
  {
   "cell_type": "code",
   "execution_count": null,
   "id": "acceabb2",
   "metadata": {
    "scrolled": false
   },
   "outputs": [],
   "source": [
    "display(wstar.style.format('{:.2%}'.format))"
   ]
  },
  {
   "cell_type": "markdown",
   "id": "d4c9cb64",
   "metadata": {},
   "source": [
    "### Using Bounds of..."
   ]
  },
  {
   "cell_type": "code",
   "execution_count": null,
   "id": "8760e758",
   "metadata": {
    "scrolled": false
   },
   "outputs": [],
   "source": [
    "display(bounds_df.style.format('{:.2%}'.format))"
   ]
  },
  {
   "cell_type": "markdown",
   "id": "b51bc048",
   "metadata": {},
   "source": [
    "# Performance Stats"
   ]
  },
  {
   "cell_type": "code",
   "execution_count": null,
   "id": "34225574",
   "metadata": {},
   "outputs": [],
   "source": [
    "meanP = (mean.T @ wstar)\n",
    "volP = pd.Series(np.diag(wstar.T @ cov @ wstar),index=wstar.columns).apply(np.sqrt)\n",
    "\n",
    "sharpeP = (meanP-mean.loc['Cash'])/volP\n",
    "\n",
    "performance = pd.DataFrame({'mean':meanP,'vol':volP,'Sharpe':sharpeP})\n",
    "display(performance.style.format('{:.2%}'.format))"
   ]
  },
  {
   "cell_type": "markdown",
   "id": "3c33d08c",
   "metadata": {},
   "source": [
    "### In the case of Assumed Statistics (Exhibit 4)...\n",
    "\n",
    "The Bounded and Classic MV answers have similar Sharpe ratios.\n",
    "- Bounded optimization does a good job?\n",
    "- For these targeted mean returns, yes.\n",
    "- But for large target mean, classic MV can get there with huge long-short positions, and the bounded solution will fail or will do so with bigger penalty.\n",
    "\n",
    "Try `TARGET_MEAN` of 10%, 15%, 20% to get an idea of this.\n",
    "\n",
    "Additionally, this analysis is impacted by the strange assumed mean return. Domestic equities are assumed to only have a 3% premium over cash!"
   ]
  },
  {
   "cell_type": "markdown",
   "id": "e872578b",
   "metadata": {},
   "source": [
    "# Which Constraints are most costly?\n",
    "\n",
    "The Lagrange Multipliers give us a clue.\n",
    "- Each is the derivative of the objective function with respect to the constraint boundary.\n",
    "- Magnitude shows impact.\n",
    "- Sign is an indication of whether constraint is upper or lower bound.\n",
    "- Showing impact on objective (variance) so numbers are small.\n",
    "\n",
    "Focus on their relative magnitudes.\n",
    "\n",
    "### The importance of the constraints changes a lot\n",
    "- between using the Long-Only or Policy Constraints\n",
    "- between using the Historic and Assumed Stats"
   ]
  },
  {
   "cell_type": "code",
   "execution_count": null,
   "id": "08405dbf",
   "metadata": {
    "scrolled": false
   },
   "outputs": [],
   "source": [
    "warnings.filterwarnings(\"ignore\", message=\"delta_grad == 0.0. Check if the approximated function is linear.\")\n",
    "\n",
    "TOL = 1e-12\n",
    "METHOD = 'trust-constr'\n",
    "\n",
    "w0 = wstar['Bounded: Numerical']\n",
    "solutionALT = minimize(objective, w0, method=METHOD, bounds=bounds,constraints=cons, tol=TOL)\n",
    "\n",
    "pd.DataFrame(solutionALT.v[-1], index=mean.index, columns=['Lagrange Multipliers']).sort_values('Lagrange Multipliers',ascending=False).style.format('{:.2%}'.format)"
   ]
  },
  {
   "cell_type": "markdown",
   "id": "8926dd38",
   "metadata": {},
   "source": [
    "# Figures"
   ]
  },
  {
   "cell_type": "code",
   "execution_count": null,
   "id": "5fe1bc05",
   "metadata": {},
   "outputs": [],
   "source": [
    "warnings.filterwarnings(\"ignore\", message=\"Values in x were outside bounds during a \")\n",
    "\n",
    "import matplotlib.pyplot as plt\n",
    "import seaborn as sns\n",
    "\n",
    "omega = pd.DataFrame(MVweights(mean=mean,cov=cov,isexcess=False,target='TAN'), index=mean.index).rename({0:'Tangency'},axis=1)\n",
    "\n",
    "mean_ex = mean-mean['Cash']\n",
    "cov_ex = cov.drop(columns=['Cash'],index=['Cash'])\n",
    "omega['GMV'] = MVweights(mean=mean,cov=cov,isexcess=False,target='GMV')\n",
    "\n",
    "omega_tan = omega['Tangency']\n",
    "omega_gmv = omega['GMV']\n",
    "\n",
    "vols = pd.Series(np.sqrt(np.diag(cov)), index=cov.index)\n",
    "special_vols = pd.Series(np.sqrt(np.diag(omega.T @ cov @ omega)), index=omega.columns)\n",
    "special_means = mean.T @ omega\n",
    "\n",
    "if USE_LONGONLY_CONSTRAINT:\n",
    "    MVgridmax = 350\n",
    "else:\n",
    "    MVgridmax = 200\n",
    "    \n",
    "delta_grid = np.linspace(-25,MVgridmax,100)\n",
    "mv_frame = pd.DataFrame(columns=['mean','vol'],index=delta_grid)\n",
    "for i, delta in enumerate(delta_grid):\n",
    "    omega_mv = delta * omega_tan + (1-delta) * omega_gmv\n",
    "    mv_frame['mean'].iloc[i] = omega_mv.T @ mean.T\n",
    "    mv_frame['vol'].iloc[i] = np.sqrt(omega_mv.T @ cov @ omega_mv)\n",
    "    \n",
    "mv_assets = pd.concat([mean, vols],axis=1)\n",
    "mv_special = pd.concat([special_means, special_vols],axis=1)\n",
    "mv_assets.columns = ['mean','vol']\n",
    "mv_special.columns = ['mean','vol']\n",
    "\n",
    "ax = mv_frame.plot.scatter(x='vol',y='mean', c='k', figsize=(10,10), title='MV Frontier')\n",
    "mv_assets.plot.scatter(x='vol',y='mean',ax=ax, c='b', marker='^', linewidth=4)\n",
    "mv_special.plot.scatter(x='vol',y='mean',ax=ax, c='g', marker='o', linewidth=4)\n",
    "\n",
    "for i in range(mv_assets.shape[0]):\n",
    "    plt.text(x=mv_assets['vol'][i]+.0005, y=mv_assets['mean'][i]+.001, s=mv_assets.index[i])\n",
    "\n",
    "TOL = 1e-12\n",
    "METHOD = 'SLSQP'\n",
    "w0 = np.ones(nAssets) / nAssets\n",
    "\n",
    "\n",
    "if USE_LONGONLY_CONSTRAINT:\n",
    "    maxmu = .12\n",
    "    minmu = 0\n",
    "else:\n",
    "    maxmu = .08\n",
    "    minmu = .05\n",
    "    \n",
    "mu_grid = np.linspace(minmu,maxmu,20)\n",
    "mvcon_frame = pd.DataFrame(columns=['mean','vol'],index=mu_grid)\n",
    "for i, mu in enumerate(mu_grid):\n",
    "    TARGET_MEAN = mu\n",
    "    omega_con = minimize(objective, w0, method=METHOD, bounds=bounds,constraints=cons, tol=TOL).x\n",
    "    mvcon_frame['mean'].iloc[i] = omega_con.T @ mean.T\n",
    "    mvcon_frame['vol'].iloc[i] = np.sqrt(omega_con.T @ cov @ omega_con)\n",
    "    \n",
    "mvcon_frame.plot.scatter(x='vol',y='mean', c='r', marker = 's', ax=ax, linewidth=5)\n",
    "\n",
    "plt.legend(['Classic MV', 'Assets', 'TAN & GMV', 'Bounded MV'])\n",
    "full_fig = plt.gcf()"
   ]
  },
  {
   "cell_type": "code",
   "execution_count": null,
   "id": "265cc340",
   "metadata": {},
   "outputs": [],
   "source": []
  }
 ],
 "metadata": {
  "hide_input": false,
  "kernelspec": {
   "display_name": "Python 3",
   "language": "python",
   "name": "python3"
  },
  "language_info": {
   "codemirror_mode": {
    "name": "ipython",
    "version": 3
   },
   "file_extension": ".py",
   "mimetype": "text/x-python",
   "name": "python",
   "nbconvert_exporter": "python",
   "pygments_lexer": "ipython3",
   "version": "3.9.7"
  }
 },
 "nbformat": 4,
 "nbformat_minor": 5
}
