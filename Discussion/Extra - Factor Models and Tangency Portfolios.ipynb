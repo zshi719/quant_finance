{
 "cells": [
  {
   "cell_type": "markdown",
   "id": "c2f32b1b",
   "metadata": {},
   "source": [
    "# Factor Models and the Tangency\n",
    "\n",
    "## Weight on the Tangency portfolio\n",
    "\n",
    "Above we looked at the tangency portfolio weights of the securities and factors.\n",
    "\n",
    "Are these weights \"significant\"? That is, are we sure that these weights are not just the 4 factors plus random noise?\n",
    "\n",
    "It turns out that running OLS of y=1 on X = returns gives us the tangency weights. (They are a scaled version, but that doesn't matter.) \n",
    "\n",
    "Since this comes from regression betas, we also automatically get the t-stats and p-values. If the p-values are less than .05, then we say the regressor is statistically significant at the 5th percentile.\n",
    "\n",
    "Let's see whether the factors are the only significant weights when included with the equities."
   ]
  },
  {
   "cell_type": "code",
   "execution_count": null,
   "id": "220eec06",
   "metadata": {
    "is_executing": true
   },
   "outputs": [],
   "source": [
    "import pandas as pd\n",
    "import numpy as np\n",
    "import statsmodels.api as sm\n",
    "from sklearn.linear_model import LinearRegression\n",
    "import seaborn as sns\n",
    "import matplotlib.pyplot as plt\n",
    "\n",
    "import sys\n",
    "sys.path.insert(0, '../cmds')\n",
    "from portfolio import *"
   ]
  },
  {
   "cell_type": "code",
   "execution_count": null,
   "id": "23dbcfd0",
   "metadata": {
    "is_executing": true
   },
   "outputs": [],
   "source": [
    "facs = pd.read_excel('../data/factor_pricing_data.xlsx',sheet_name='factors (excess)').set_index('Date')\n",
    "assets = pd.read_excel('../data/factor_pricing_data.xlsx',sheet_name='assets (excess)').set_index('Date')\n",
    "\n",
    "FREQ = 12"
   ]
  },
  {
   "cell_type": "code",
   "execution_count": null,
   "id": "f2fda157",
   "metadata": {
    "is_executing": true
   },
   "outputs": [],
   "source": [
    "temp = sm.add_constant(assets.join(facs))\n",
    "X = temp.drop(columns=['const'])\n",
    "y = temp[['const']]\n",
    "mod = sm.OLS(y,X).fit()\n",
    "pvals = mod.pvalues.to_frame()\n",
    "pvals.columns = ['p-values']\n",
    "pvals.T.style.format('{:.2%}')"
   ]
  },
  {
   "cell_type": "markdown",
   "id": "ebaa44b5",
   "metadata": {},
   "source": [
    "The p-values for MKT, HML, and UMD are less than .05, saying they're significant in testing. \n",
    "\n",
    "However, we also see significance (p-value less than .05) in many of the test assets."
   ]
  },
  {
   "cell_type": "markdown",
   "id": "9249155d",
   "metadata": {},
   "source": [
    "### Do the extra 3 factors beyond the CAPM help much?\n",
    "\n",
    "We could see whether the tangency portfolio is improved much by using the four factors (versus just using MKT.)"
   ]
  },
  {
   "cell_type": "code",
   "execution_count": null,
   "id": "d2a4c5f2",
   "metadata": {
    "is_executing": true
   },
   "outputs": [],
   "source": [
    "temp = sm.add_constant(facs)\n",
    "X = temp[['MKT','SMB','HML','UMD']]\n",
    "y = temp[['const']]\n",
    "\n",
    "mod = sm.OLS(y,X).fit()\n",
    "pvals = mod.pvalues.to_frame()\n",
    "pvals.columns = ['p-values']\n",
    "pvals.T.style.format('{:.2%}')"
   ]
  },
  {
   "cell_type": "markdown",
   "id": "74d6a020",
   "metadata": {},
   "source": [
    "It appears that the size factor, SMB, is not significant at any interesting level.\n",
    "\n",
    "So why is the size factors used in pricing? It seems to help when we test large \n",
    "\n",
    "But hopefully this also helps illustrate why CAPM is still the baseline for many applications."
   ]
  }
 ],
 "metadata": {
  "hide_input": false,
  "kernelspec": {
   "display_name": "Python 3",
   "language": "python",
   "name": "python3"
  },
  "language_info": {
   "codemirror_mode": {
    "name": "ipython",
    "version": 3
   },
   "file_extension": ".py",
   "mimetype": "text/x-python",
   "name": "python",
   "nbconvert_exporter": "python",
   "pygments_lexer": "ipython3",
   "version": "3.9.7"
  }
 },
 "nbformat": 4,
 "nbformat_minor": 5
}
