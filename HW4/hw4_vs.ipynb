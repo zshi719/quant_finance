{
 "cells": [
  {
   "cell_type": "raw",
   "source": [
    "---\n",
    "title: \"HW4 Q3\"\n",
    "substitle: \"FINM 250\"\n",
    "author: \"Victoria Shi\"\n",
    "format:\n",
    "  html:\n",
    "    toc: true\n",
    "    toc-title: Contents\n",
    "    toc-depth: 4\n",
    "    code-fold: show\n",
    "    self-contained: true\n",
    "    html-math-method: mathml\n",
    "jupyter: python3\n",
    "---"
   ],
   "metadata": {
    "collapsed": false
   }
  },
  {
   "cell_type": "code",
   "execution_count": 12,
   "outputs": [],
   "source": [
    "import matplotlib.pyplot as plt\n",
    "import numpy as np\n",
    "import pandas as pd\n",
    "pd.options.display.float_format = '{:.4f}'.format\n",
    "import seaborn as sns\n",
    "sns.set_theme(style='white', palette='crest', font_scale = 1.2, rc={'figure.figsize': (8, 6)})"
   ],
   "metadata": {
    "collapsed": false,
    "ExecuteTime": {
     "end_time": "2023-07-08T05:58:52.275388Z",
     "start_time": "2023-07-08T05:58:52.264065Z"
    }
   }
  },
  {
   "cell_type": "code",
   "execution_count": 2,
   "outputs": [],
   "source": [
    "df_returns = pd.read_excel('gmo_analysis_data.xlsx', sheet_name='returns (total)', parse_dates=True, index_col=0)"
   ],
   "metadata": {
    "collapsed": false,
    "ExecuteTime": {
     "end_time": "2023-07-08T05:42:58.616917Z",
     "start_time": "2023-07-08T05:42:58.382809Z"
    }
   }
  },
  {
   "cell_type": "code",
   "execution_count": 3,
   "outputs": [
    {
     "data": {
      "text/plain": "             GMWAX     SPY\nDate                      \n1996-11-30  0.0452  0.0730\n1996-12-31 -0.0113 -0.0238\n1997-01-31  0.0147  0.0618\n1997-02-28  0.0223  0.0096\n1997-03-31 -0.0152 -0.0441",
      "text/html": "<div>\n<style scoped>\n    .dataframe tbody tr th:only-of-type {\n        vertical-align: middle;\n    }\n\n    .dataframe tbody tr th {\n        vertical-align: top;\n    }\n\n    .dataframe thead th {\n        text-align: right;\n    }\n</style>\n<table border=\"1\" class=\"dataframe\">\n  <thead>\n    <tr style=\"text-align: right;\">\n      <th></th>\n      <th>GMWAX</th>\n      <th>SPY</th>\n    </tr>\n    <tr>\n      <th>Date</th>\n      <th></th>\n      <th></th>\n    </tr>\n  </thead>\n  <tbody>\n    <tr>\n      <th>1996-11-30</th>\n      <td>0.0452</td>\n      <td>0.0730</td>\n    </tr>\n    <tr>\n      <th>1996-12-31</th>\n      <td>-0.0113</td>\n      <td>-0.0238</td>\n    </tr>\n    <tr>\n      <th>1997-01-31</th>\n      <td>0.0147</td>\n      <td>0.0618</td>\n    </tr>\n    <tr>\n      <th>1997-02-28</th>\n      <td>0.0223</td>\n      <td>0.0096</td>\n    </tr>\n    <tr>\n      <th>1997-03-31</th>\n      <td>-0.0152</td>\n      <td>-0.0441</td>\n    </tr>\n  </tbody>\n</table>\n</div>"
     },
     "execution_count": 3,
     "metadata": {},
     "output_type": "execute_result"
    }
   ],
   "source": [
    "df_returns.head()"
   ],
   "metadata": {
    "collapsed": false,
    "ExecuteTime": {
     "end_time": "2023-07-08T05:42:59.002121Z",
     "start_time": "2023-07-08T05:42:58.985669Z"
    }
   }
  },
  {
   "cell_type": "code",
   "execution_count": null,
   "outputs": [],
   "source": [],
   "metadata": {
    "collapsed": false
   }
  },
  {
   "cell_type": "markdown",
   "source": [
    "1. Calculate the mean, volatility, and Sharpe ratio for GMWAX. Do this for three samples:\n",
    "• from inception through 2011\n",
    "• 2012-present\n",
    "• inception - present"
   ],
   "metadata": {
    "collapsed": false
   }
  },
  {
   "cell_type": "code",
   "execution_count": 11,
   "outputs": [
    {
     "ename": "AttributeError",
     "evalue": "'Series' object has no attribute 'GMWAX'",
     "output_type": "error",
     "traceback": [
      "\u001B[0;31m---------------------------------------------------------------------------\u001B[0m",
      "\u001B[0;31mAttributeError\u001B[0m                            Traceback (most recent call last)",
      "Input \u001B[0;32mIn [11]\u001B[0m, in \u001B[0;36m<cell line: 3>\u001B[0;34m()\u001B[0m\n\u001B[1;32m      1\u001B[0m GMWAX_summary \u001B[38;5;241m=\u001B[39m pd\u001B[38;5;241m.\u001B[39mDataFrame(index\u001B[38;5;241m=\u001B[39m[\u001B[38;5;124m'\u001B[39m\u001B[38;5;124mInception-2011\u001B[39m\u001B[38;5;124m'\u001B[39m, \u001B[38;5;124m'\u001B[39m\u001B[38;5;124m2012-Present\u001B[39m\u001B[38;5;124m'\u001B[39m, \u001B[38;5;124m'\u001B[39m\u001B[38;5;124mInception-Present\u001B[39m\u001B[38;5;124m'\u001B[39m])\n\u001B[1;32m      2\u001B[0m adj \u001B[38;5;241m=\u001B[39m \u001B[38;5;241m12\u001B[39m\n\u001B[0;32m----> 3\u001B[0m GMWAX_summary[\u001B[38;5;124m'\u001B[39m\u001B[38;5;124mannualized_mean\u001B[39m\u001B[38;5;124m'\u001B[39m] \u001B[38;5;241m=\u001B[39m np\u001B[38;5;241m.\u001B[39mnanmean(\u001B[43mdf_returns\u001B[49m\u001B[38;5;241;43m.\u001B[39;49m\u001B[43mGMWAX\u001B[49m\u001B[38;5;241;43m.\u001B[39;49m\u001B[43miloc\u001B[49m\u001B[43m[\u001B[49m\u001B[43mnp\u001B[49m\u001B[38;5;241;43m.\u001B[39;49m\u001B[43mwhere\u001B[49m\u001B[43m(\u001B[49m\u001B[43mdf_returns\u001B[49m\u001B[38;5;241;43m.\u001B[39;49m\u001B[43mindex\u001B[49m\u001B[43m \u001B[49m\u001B[38;5;241;43m<\u001B[39;49m\u001B[43m \u001B[49m\u001B[38;5;124;43m'\u001B[39;49m\u001B[38;5;124;43m2012-01-01\u001B[39;49m\u001B[38;5;124;43m'\u001B[39;49m\u001B[43m)\u001B[49m\u001B[43m]\u001B[49m\u001B[38;5;241;43m.\u001B[39;49m\u001B[43mGMWAX\u001B[49m, axis\u001B[38;5;241m=\u001B[39m\u001B[38;5;241m0\u001B[39m) \u001B[38;5;241m*\u001B[39m adj\n\u001B[1;32m      4\u001B[0m GMWAX_summary[\u001B[38;5;124m'\u001B[39m\u001B[38;5;124mannualized_volatility\u001B[39m\u001B[38;5;124m'\u001B[39m] \u001B[38;5;241m=\u001B[39m np\u001B[38;5;241m.\u001B[39mnanstd(df_returns\u001B[38;5;241m.\u001B[39mGMWAX\u001B[38;5;241m.\u001B[39miloc[np\u001B[38;5;241m.\u001B[39mwhere(df_returns\u001B[38;5;241m.\u001B[39mindex \u001B[38;5;241m>\u001B[39m\u001B[38;5;241m=\u001B[39m \u001B[38;5;124m'\u001B[39m\u001B[38;5;124m2012-01-01\u001B[39m\u001B[38;5;124m'\u001B[39m)]\u001B[38;5;241m.\u001B[39mGMWAX, axis\u001B[38;5;241m=\u001B[39m\u001B[38;5;241m0\u001B[39m) \u001B[38;5;241m*\u001B[39m np\u001B[38;5;241m.\u001B[39msqrt(adj)\n\u001B[1;32m      6\u001B[0m GMWAX_summary[\u001B[38;5;124m'\u001B[39m\u001B[38;5;124mannualized_SR\u001B[39m\u001B[38;5;124m'\u001B[39m] \u001B[38;5;241m=\u001B[39m GMWAX_summary[\u001B[38;5;124m'\u001B[39m\u001B[38;5;124mannualized_mean\u001B[39m\u001B[38;5;124m'\u001B[39m]\u001B[38;5;241m/\u001B[39mGMWAX_summary[\u001B[38;5;124m'\u001B[39m\u001B[38;5;124mannualized_volatility\u001B[39m\u001B[38;5;124m'\u001B[39m]\n",
      "File \u001B[0;32m~/opt/anaconda3/lib/python3.9/site-packages/pandas/core/generic.py:5575\u001B[0m, in \u001B[0;36mNDFrame.__getattr__\u001B[0;34m(self, name)\u001B[0m\n\u001B[1;32m   5568\u001B[0m \u001B[38;5;28;01mif\u001B[39;00m (\n\u001B[1;32m   5569\u001B[0m     name \u001B[38;5;129;01mnot\u001B[39;00m \u001B[38;5;129;01min\u001B[39;00m \u001B[38;5;28mself\u001B[39m\u001B[38;5;241m.\u001B[39m_internal_names_set\n\u001B[1;32m   5570\u001B[0m     \u001B[38;5;129;01mand\u001B[39;00m name \u001B[38;5;129;01mnot\u001B[39;00m \u001B[38;5;129;01min\u001B[39;00m \u001B[38;5;28mself\u001B[39m\u001B[38;5;241m.\u001B[39m_metadata\n\u001B[1;32m   5571\u001B[0m     \u001B[38;5;129;01mand\u001B[39;00m name \u001B[38;5;129;01mnot\u001B[39;00m \u001B[38;5;129;01min\u001B[39;00m \u001B[38;5;28mself\u001B[39m\u001B[38;5;241m.\u001B[39m_accessors\n\u001B[1;32m   5572\u001B[0m     \u001B[38;5;129;01mand\u001B[39;00m \u001B[38;5;28mself\u001B[39m\u001B[38;5;241m.\u001B[39m_info_axis\u001B[38;5;241m.\u001B[39m_can_hold_identifiers_and_holds_name(name)\n\u001B[1;32m   5573\u001B[0m ):\n\u001B[1;32m   5574\u001B[0m     \u001B[38;5;28;01mreturn\u001B[39;00m \u001B[38;5;28mself\u001B[39m[name]\n\u001B[0;32m-> 5575\u001B[0m \u001B[38;5;28;01mreturn\u001B[39;00m \u001B[38;5;28;43mobject\u001B[39;49m\u001B[38;5;241;43m.\u001B[39;49m\u001B[38;5;21;43m__getattribute__\u001B[39;49m\u001B[43m(\u001B[49m\u001B[38;5;28;43mself\u001B[39;49m\u001B[43m,\u001B[49m\u001B[43m \u001B[49m\u001B[43mname\u001B[49m\u001B[43m)\u001B[49m\n",
      "\u001B[0;31mAttributeError\u001B[0m: 'Series' object has no attribute 'GMWAX'"
     ]
    }
   ],
   "source": [
    "metrics = pd.DataFrame(index=df_returns.columns)\n",
    "metrics['Mean'] = df_returns.mean() * df_returns\n",
    "metrics['Vol'] = df_returns.std() * np.sqrt(df_returns)\n",
    "metrics['Sharpe'] = (df_returns.mean() / df_returns.std()) * np.sqrt(annualization)\n",
    "\n",
    "metrics['Min'] = returns.min()\n",
    "metrics['Max'] = returns.max()\n",
    "\n",
    "\n",
    "\n",
    "GMWAX_summary = pd.DataFrame(index=['Inception-2011', '2012-Present', 'Inception-Present'])\n",
    "adj = 12\n",
    "GMWAX_summary['annualized_mean'] = np.nanmean(df_returns.GMWAX.iloc[np.where(df_returns.index < '2012-01-01')].GMWAX, axis=0) * adj\n",
    "GMWAX_summary['annualized_volatility'] = np.nanstd(df_returns.GMWAX.iloc[np.where(df_returns.index >= '2012-01-01')].GMWAX, axis=0) * np.sqrt(adj)\n",
    "\n",
    "GMWAX_summary['annualized_SR'] = GMWAX_summary['annualized_mean']/GMWAX_summary['annualized_volatility']\n",
    "display(GMWAX_summary)"
   ],
   "metadata": {
    "collapsed": false,
    "ExecuteTime": {
     "end_time": "2023-07-08T05:51:10.445308Z",
     "start_time": "2023-07-08T05:51:10.441577Z"
    }
   }
  },
  {
   "cell_type": "markdown",
   "source": [
    "## 3 Forecast Regression"
   ],
   "metadata": {
    "collapsed": false
   }
  },
  {
   "cell_type": "markdown",
   "source": [
    "\n",
    "The active strategies are highly correlated.\n",
    "The active strategies (in-sample) deliver slightly improved Sharpe Ratio relative to the Passive strategy.\n",
    "The active strategies (in-sampel) deliver positive alpha and positive Info Ratios\n",
    "The Earnings-Price signal is more helpful than the Dividend-Price signal, as seen in the EP strategy doing better than the DP strategy.\n"
   ],
   "metadata": {
    "collapsed": false
   }
  },
  {
   "cell_type": "code",
   "execution_count": 4,
   "outputs": [
    {
     "data": {
      "text/plain": "               DP     EP  US10Y\nDate                           \n1996-11-30 2.0100 5.1400 6.0600\n1996-12-31 2.0000 5.2100 6.4300\n1997-01-31 1.9500 5.1200 6.5300\n1997-02-28 1.8800 4.9800 6.5600\n1997-03-31 1.9000 5.0800 6.9200",
      "text/html": "<div>\n<style scoped>\n    .dataframe tbody tr th:only-of-type {\n        vertical-align: middle;\n    }\n\n    .dataframe tbody tr th {\n        vertical-align: top;\n    }\n\n    .dataframe thead th {\n        text-align: right;\n    }\n</style>\n<table border=\"1\" class=\"dataframe\">\n  <thead>\n    <tr style=\"text-align: right;\">\n      <th></th>\n      <th>DP</th>\n      <th>EP</th>\n      <th>US10Y</th>\n    </tr>\n    <tr>\n      <th>Date</th>\n      <th></th>\n      <th></th>\n      <th></th>\n    </tr>\n  </thead>\n  <tbody>\n    <tr>\n      <th>1996-11-30</th>\n      <td>2.0100</td>\n      <td>5.1400</td>\n      <td>6.0600</td>\n    </tr>\n    <tr>\n      <th>1996-12-31</th>\n      <td>2.0000</td>\n      <td>5.2100</td>\n      <td>6.4300</td>\n    </tr>\n    <tr>\n      <th>1997-01-31</th>\n      <td>1.9500</td>\n      <td>5.1200</td>\n      <td>6.5300</td>\n    </tr>\n    <tr>\n      <th>1997-02-28</th>\n      <td>1.8800</td>\n      <td>4.9800</td>\n      <td>6.5600</td>\n    </tr>\n    <tr>\n      <th>1997-03-31</th>\n      <td>1.9000</td>\n      <td>5.0800</td>\n      <td>6.9200</td>\n    </tr>\n  </tbody>\n</table>\n</div>"
     },
     "execution_count": 4,
     "metadata": {},
     "output_type": "execute_result"
    }
   ],
   "source": [
    "df_signals = pd.read_excel('gmo_analysis_data.xlsx', sheet_name='signals', parse_dates=True, index_col=0)\n",
    "\n",
    "df_signals.head()"
   ],
   "metadata": {
    "collapsed": false,
    "ExecuteTime": {
     "end_time": "2023-07-06T23:26:27.858754Z",
     "start_time": "2023-07-06T23:26:27.838525Z"
    }
   }
  },
  {
   "cell_type": "code",
   "execution_count": 5,
   "outputs": [],
   "source": [
    "# lag the independent variable, so that we can align date stamps and still have lag\n",
    "sigs_lag = df_signals.shift().dropna()\n",
    "# align the data frames to the same subset of dates\n",
    "sigs_lag, SPY = sigs_lag.align(df_returns.SPY, join=\"inner\", axis=0)"
   ],
   "metadata": {
    "collapsed": false,
    "ExecuteTime": {
     "end_time": "2023-07-06T23:26:27.876330Z",
     "start_time": "2023-07-06T23:26:27.857078Z"
    }
   }
  },
  {
   "cell_type": "code",
   "execution_count": 6,
   "outputs": [
    {
     "data": {
      "text/plain": "Date\n1996-12-31   -0.0238\n1997-01-31    0.0618\n1997-02-28    0.0096\n1997-03-31   -0.0441\n1997-04-30    0.0626\nName: SPY, dtype: float64"
     },
     "execution_count": 6,
     "metadata": {},
     "output_type": "execute_result"
    }
   ],
   "source": [
    "sigs_lag.head()\n",
    "SPY.head()"
   ],
   "metadata": {
    "collapsed": false,
    "ExecuteTime": {
     "end_time": "2023-07-06T23:26:27.886807Z",
     "start_time": "2023-07-06T23:26:27.859788Z"
    }
   }
  },
  {
   "cell_type": "code",
   "execution_count": 7,
   "outputs": [
    {
     "data": {
      "text/plain": "Date\n1996-12-31   0.0730\n1997-01-31   0.0246\n1997-02-28   0.0370\n1997-03-31   0.0301\n1997-04-30   0.0153\nName: SPY, dtype: float64"
     },
     "execution_count": 7,
     "metadata": {},
     "output_type": "execute_result"
    }
   ],
   "source": [
    "from sklearn.linear_model import LinearRegression\n",
    "\n",
    "forecasts = df_returns.SPY.expanding().mean().shift(1).dropna()\n",
    "forecasts.columns = ['Mean']\n",
    "forecasts.head()"
   ],
   "metadata": {
    "collapsed": false,
    "ExecuteTime": {
     "end_time": "2023-07-06T23:26:28.375470Z",
     "start_time": "2023-07-06T23:26:27.862842Z"
    }
   }
  },
  {
   "cell_type": "code",
   "execution_count": 8,
   "outputs": [
    {
     "data": {
      "text/plain": "Date\n1996-12-31 00:00:00   0.0730\n1997-01-31 00:00:00   0.0246\n1997-02-28 00:00:00   0.0370\n1997-03-31 00:00:00   0.0301\n1997-04-30 00:00:00   0.0153\nName: SPY, dtype: object"
     },
     "execution_count": 8,
     "metadata": {},
     "output_type": "execute_result"
    }
   ],
   "source": [
    "# Define the models for the other forecasts\n",
    "model_map = {'DP':['DP'],'EP':['EP'], 'ALL':df_signals.columns}\n",
    "\n",
    "for model in model_map.keys():\n",
    "    X = sigs_lag[model_map[model]]\n",
    "    forecasts[model] = LinearRegression().fit(X, SPY).predict(X) # lagged signals\n",
    "    forecasts.dropna(inplace=True)\n",
    "\n",
    "forecasts.head()"
   ],
   "metadata": {
    "collapsed": false,
    "ExecuteTime": {
     "end_time": "2023-07-06T23:26:28.386717Z",
     "start_time": "2023-07-06T23:26:28.377883Z"
    }
   }
  },
  {
   "cell_type": "code",
   "execution_count": 9,
   "outputs": [],
   "source": [
    "forecasts = pd.to_numeric(forecasts, errors='coerce')"
   ],
   "metadata": {
    "collapsed": false,
    "ExecuteTime": {
     "end_time": "2023-07-06T23:26:28.388483Z",
     "start_time": "2023-07-06T23:26:28.387420Z"
    }
   }
  },
  {
   "cell_type": "code",
   "execution_count": 10,
   "outputs": [
    {
     "data": {
      "text/plain": "<AxesSubplot:title={'center':'Forecasts of SPY Returns'}, xlabel='Date'>"
     },
     "execution_count": 10,
     "metadata": {},
     "output_type": "execute_result"
    },
    {
     "data": {
      "text/plain": "<Figure size 720x360 with 1 Axes>",
      "image/png": "[encoded data removed]"
     },
     "metadata": {},
     "output_type": "display_data"
    }
   ],
   "source": [
    "forecasts.plot(figsize=(10,5), title='Forecasts of SPY Returns')"
   ],
   "metadata": {
    "collapsed": false,
    "ExecuteTime": {
     "end_time": "2023-07-06T23:26:28.452169Z",
     "start_time": "2023-07-06T23:26:28.389139Z"
    }
   }
  },
  {
   "cell_type": "code",
   "execution_count": 11,
   "outputs": [
    {
     "ename": "ValueError",
     "evalue": "operands could not be broadcast together with shapes (322,) (319,) ",
     "output_type": "error",
     "traceback": [
      "\u001B[0;31m---------------------------------------------------------------------------\u001B[0m",
      "\u001B[0;31mValueError\u001B[0m                                Traceback (most recent call last)",
      "Input \u001B[0;32mIn [11]\u001B[0m, in \u001B[0;36m<cell line: 3>\u001B[0;34m()\u001B[0m\n\u001B[1;32m      1\u001B[0m \u001B[38;5;66;03m# Define the weights\u001B[39;00m\n\u001B[1;32m      2\u001B[0m wts \u001B[38;5;241m=\u001B[39m \u001B[38;5;241m100\u001B[39m \u001B[38;5;241m*\u001B[39m forecasts\n\u001B[0;32m----> 3\u001B[0m fund_returns \u001B[38;5;241m=\u001B[39m \u001B[43mwts\u001B[49m\u001B[43m \u001B[49m\u001B[38;5;241;43m*\u001B[39;49m\u001B[43m \u001B[49m\u001B[43mSPY\u001B[49m\u001B[38;5;241;43m.\u001B[39;49m\u001B[43mvalues\u001B[49m\n\u001B[1;32m      4\u001B[0m fund_returns\u001B[38;5;241m.\u001B[39minsert(\u001B[38;5;241m0\u001B[39m, \u001B[38;5;124m\"\u001B[39m\u001B[38;5;124mPassive\u001B[39m\u001B[38;5;124m\"\u001B[39m, SPY)\n\u001B[1;32m      6\u001B[0m \u001B[38;5;66;03m# Assess the Active Performance\u001B[39;00m\n",
      "File \u001B[0;32m~/opt/anaconda3/lib/python3.9/site-packages/pandas/core/ops/common.py:70\u001B[0m, in \u001B[0;36m_unpack_zerodim_and_defer.<locals>.new_method\u001B[0;34m(self, other)\u001B[0m\n\u001B[1;32m     66\u001B[0m             \u001B[38;5;28;01mreturn\u001B[39;00m \u001B[38;5;28mNotImplemented\u001B[39m\n\u001B[1;32m     68\u001B[0m other \u001B[38;5;241m=\u001B[39m item_from_zerodim(other)\n\u001B[0;32m---> 70\u001B[0m \u001B[38;5;28;01mreturn\u001B[39;00m \u001B[43mmethod\u001B[49m\u001B[43m(\u001B[49m\u001B[38;5;28;43mself\u001B[39;49m\u001B[43m,\u001B[49m\u001B[43m \u001B[49m\u001B[43mother\u001B[49m\u001B[43m)\u001B[49m\n",
      "File \u001B[0;32m~/opt/anaconda3/lib/python3.9/site-packages/pandas/core/arraylike.py:116\u001B[0m, in \u001B[0;36mOpsMixin.__mul__\u001B[0;34m(self, other)\u001B[0m\n\u001B[1;32m    114\u001B[0m \u001B[38;5;129m@unpack_zerodim_and_defer\u001B[39m(\u001B[38;5;124m\"\u001B[39m\u001B[38;5;124m__mul__\u001B[39m\u001B[38;5;124m\"\u001B[39m)\n\u001B[1;32m    115\u001B[0m \u001B[38;5;28;01mdef\u001B[39;00m \u001B[38;5;21m__mul__\u001B[39m(\u001B[38;5;28mself\u001B[39m, other):\n\u001B[0;32m--> 116\u001B[0m     \u001B[38;5;28;01mreturn\u001B[39;00m \u001B[38;5;28;43mself\u001B[39;49m\u001B[38;5;241;43m.\u001B[39;49m\u001B[43m_arith_method\u001B[49m\u001B[43m(\u001B[49m\u001B[43mother\u001B[49m\u001B[43m,\u001B[49m\u001B[43m \u001B[49m\u001B[43moperator\u001B[49m\u001B[38;5;241;43m.\u001B[39;49m\u001B[43mmul\u001B[49m\u001B[43m)\u001B[49m\n",
      "File \u001B[0;32m~/opt/anaconda3/lib/python3.9/site-packages/pandas/core/series.py:5639\u001B[0m, in \u001B[0;36mSeries._arith_method\u001B[0;34m(self, other, op)\u001B[0m\n\u001B[1;32m   5637\u001B[0m \u001B[38;5;28;01mdef\u001B[39;00m \u001B[38;5;21m_arith_method\u001B[39m(\u001B[38;5;28mself\u001B[39m, other, op):\n\u001B[1;32m   5638\u001B[0m     \u001B[38;5;28mself\u001B[39m, other \u001B[38;5;241m=\u001B[39m ops\u001B[38;5;241m.\u001B[39malign_method_SERIES(\u001B[38;5;28mself\u001B[39m, other)\n\u001B[0;32m-> 5639\u001B[0m     \u001B[38;5;28;01mreturn\u001B[39;00m \u001B[43mbase\u001B[49m\u001B[38;5;241;43m.\u001B[39;49m\u001B[43mIndexOpsMixin\u001B[49m\u001B[38;5;241;43m.\u001B[39;49m\u001B[43m_arith_method\u001B[49m\u001B[43m(\u001B[49m\u001B[38;5;28;43mself\u001B[39;49m\u001B[43m,\u001B[49m\u001B[43m \u001B[49m\u001B[43mother\u001B[49m\u001B[43m,\u001B[49m\u001B[43m \u001B[49m\u001B[43mop\u001B[49m\u001B[43m)\u001B[49m\n",
      "File \u001B[0;32m~/opt/anaconda3/lib/python3.9/site-packages/pandas/core/base.py:1295\u001B[0m, in \u001B[0;36mIndexOpsMixin._arith_method\u001B[0;34m(self, other, op)\u001B[0m\n\u001B[1;32m   1292\u001B[0m rvalues \u001B[38;5;241m=\u001B[39m ensure_wrapped_if_datetimelike(rvalues)\n\u001B[1;32m   1294\u001B[0m \u001B[38;5;28;01mwith\u001B[39;00m np\u001B[38;5;241m.\u001B[39merrstate(\u001B[38;5;28mall\u001B[39m\u001B[38;5;241m=\u001B[39m\u001B[38;5;124m\"\u001B[39m\u001B[38;5;124mignore\u001B[39m\u001B[38;5;124m\"\u001B[39m):\n\u001B[0;32m-> 1295\u001B[0m     result \u001B[38;5;241m=\u001B[39m \u001B[43mops\u001B[49m\u001B[38;5;241;43m.\u001B[39;49m\u001B[43marithmetic_op\u001B[49m\u001B[43m(\u001B[49m\u001B[43mlvalues\u001B[49m\u001B[43m,\u001B[49m\u001B[43m \u001B[49m\u001B[43mrvalues\u001B[49m\u001B[43m,\u001B[49m\u001B[43m \u001B[49m\u001B[43mop\u001B[49m\u001B[43m)\u001B[49m\n\u001B[1;32m   1297\u001B[0m \u001B[38;5;28;01mreturn\u001B[39;00m \u001B[38;5;28mself\u001B[39m\u001B[38;5;241m.\u001B[39m_construct_result(result, name\u001B[38;5;241m=\u001B[39mres_name)\n",
      "File \u001B[0;32m~/opt/anaconda3/lib/python3.9/site-packages/pandas/core/ops/array_ops.py:222\u001B[0m, in \u001B[0;36marithmetic_op\u001B[0;34m(left, right, op)\u001B[0m\n\u001B[1;32m    217\u001B[0m \u001B[38;5;28;01melse\u001B[39;00m:\n\u001B[1;32m    218\u001B[0m     \u001B[38;5;66;03m# TODO we should handle EAs consistently and move this check before the if/else\u001B[39;00m\n\u001B[1;32m    219\u001B[0m     \u001B[38;5;66;03m# (https://github.com/pandas-dev/pandas/issues/41165)\u001B[39;00m\n\u001B[1;32m    220\u001B[0m     _bool_arith_check(op, left, right)\n\u001B[0;32m--> 222\u001B[0m     res_values \u001B[38;5;241m=\u001B[39m \u001B[43m_na_arithmetic_op\u001B[49m\u001B[43m(\u001B[49m\u001B[43mleft\u001B[49m\u001B[43m,\u001B[49m\u001B[43m \u001B[49m\u001B[43mright\u001B[49m\u001B[43m,\u001B[49m\u001B[43m \u001B[49m\u001B[43mop\u001B[49m\u001B[43m)\u001B[49m\n\u001B[1;32m    224\u001B[0m \u001B[38;5;28;01mreturn\u001B[39;00m res_values\n",
      "File \u001B[0;32m~/opt/anaconda3/lib/python3.9/site-packages/pandas/core/ops/array_ops.py:163\u001B[0m, in \u001B[0;36m_na_arithmetic_op\u001B[0;34m(left, right, op, is_cmp)\u001B[0m\n\u001B[1;32m    160\u001B[0m     func \u001B[38;5;241m=\u001B[39m partial(expressions\u001B[38;5;241m.\u001B[39mevaluate, op)\n\u001B[1;32m    162\u001B[0m \u001B[38;5;28;01mtry\u001B[39;00m:\n\u001B[0;32m--> 163\u001B[0m     result \u001B[38;5;241m=\u001B[39m \u001B[43mfunc\u001B[49m\u001B[43m(\u001B[49m\u001B[43mleft\u001B[49m\u001B[43m,\u001B[49m\u001B[43m \u001B[49m\u001B[43mright\u001B[49m\u001B[43m)\u001B[49m\n\u001B[1;32m    164\u001B[0m \u001B[38;5;28;01mexcept\u001B[39;00m \u001B[38;5;167;01mTypeError\u001B[39;00m:\n\u001B[1;32m    165\u001B[0m     \u001B[38;5;28;01mif\u001B[39;00m \u001B[38;5;129;01mnot\u001B[39;00m is_cmp \u001B[38;5;129;01mand\u001B[39;00m (is_object_dtype(left\u001B[38;5;241m.\u001B[39mdtype) \u001B[38;5;129;01mor\u001B[39;00m is_object_dtype(right)):\n\u001B[1;32m    166\u001B[0m         \u001B[38;5;66;03m# For object dtype, fallback to a masked operation (only operating\u001B[39;00m\n\u001B[1;32m    167\u001B[0m         \u001B[38;5;66;03m#  on the non-missing values)\u001B[39;00m\n\u001B[1;32m    168\u001B[0m         \u001B[38;5;66;03m# Don't do this for comparisons, as that will handle complex numbers\u001B[39;00m\n\u001B[1;32m    169\u001B[0m         \u001B[38;5;66;03m#  incorrectly, see GH#32047\u001B[39;00m\n",
      "File \u001B[0;32m~/opt/anaconda3/lib/python3.9/site-packages/pandas/core/computation/expressions.py:239\u001B[0m, in \u001B[0;36mevaluate\u001B[0;34m(op, a, b, use_numexpr)\u001B[0m\n\u001B[1;32m    236\u001B[0m \u001B[38;5;28;01mif\u001B[39;00m op_str \u001B[38;5;129;01mis\u001B[39;00m \u001B[38;5;129;01mnot\u001B[39;00m \u001B[38;5;28;01mNone\u001B[39;00m:\n\u001B[1;32m    237\u001B[0m     \u001B[38;5;28;01mif\u001B[39;00m use_numexpr:\n\u001B[1;32m    238\u001B[0m         \u001B[38;5;66;03m# error: \"None\" not callable\u001B[39;00m\n\u001B[0;32m--> 239\u001B[0m         \u001B[38;5;28;01mreturn\u001B[39;00m \u001B[43m_evaluate\u001B[49m\u001B[43m(\u001B[49m\u001B[43mop\u001B[49m\u001B[43m,\u001B[49m\u001B[43m \u001B[49m\u001B[43mop_str\u001B[49m\u001B[43m,\u001B[49m\u001B[43m \u001B[49m\u001B[43ma\u001B[49m\u001B[43m,\u001B[49m\u001B[43m \u001B[49m\u001B[43mb\u001B[49m\u001B[43m)\u001B[49m  \u001B[38;5;66;03m# type: ignore[misc]\u001B[39;00m\n\u001B[1;32m    240\u001B[0m \u001B[38;5;28;01mreturn\u001B[39;00m _evaluate_standard(op, op_str, a, b)\n",
      "File \u001B[0;32m~/opt/anaconda3/lib/python3.9/site-packages/pandas/core/computation/expressions.py:128\u001B[0m, in \u001B[0;36m_evaluate_numexpr\u001B[0;34m(op, op_str, a, b)\u001B[0m\n\u001B[1;32m    125\u001B[0m     _store_test_result(result \u001B[38;5;129;01mis\u001B[39;00m \u001B[38;5;129;01mnot\u001B[39;00m \u001B[38;5;28;01mNone\u001B[39;00m)\n\u001B[1;32m    127\u001B[0m \u001B[38;5;28;01mif\u001B[39;00m result \u001B[38;5;129;01mis\u001B[39;00m \u001B[38;5;28;01mNone\u001B[39;00m:\n\u001B[0;32m--> 128\u001B[0m     result \u001B[38;5;241m=\u001B[39m \u001B[43m_evaluate_standard\u001B[49m\u001B[43m(\u001B[49m\u001B[43mop\u001B[49m\u001B[43m,\u001B[49m\u001B[43m \u001B[49m\u001B[43mop_str\u001B[49m\u001B[43m,\u001B[49m\u001B[43m \u001B[49m\u001B[43ma\u001B[49m\u001B[43m,\u001B[49m\u001B[43m \u001B[49m\u001B[43mb\u001B[49m\u001B[43m)\u001B[49m\n\u001B[1;32m    130\u001B[0m \u001B[38;5;28;01mreturn\u001B[39;00m result\n",
      "File \u001B[0;32m~/opt/anaconda3/lib/python3.9/site-packages/pandas/core/computation/expressions.py:69\u001B[0m, in \u001B[0;36m_evaluate_standard\u001B[0;34m(op, op_str, a, b)\u001B[0m\n\u001B[1;32m     67\u001B[0m \u001B[38;5;28;01mif\u001B[39;00m _TEST_MODE:\n\u001B[1;32m     68\u001B[0m     _store_test_result(\u001B[38;5;28;01mFalse\u001B[39;00m)\n\u001B[0;32m---> 69\u001B[0m \u001B[38;5;28;01mreturn\u001B[39;00m \u001B[43mop\u001B[49m\u001B[43m(\u001B[49m\u001B[43ma\u001B[49m\u001B[43m,\u001B[49m\u001B[43m \u001B[49m\u001B[43mb\u001B[49m\u001B[43m)\u001B[49m\n",
      "\u001B[0;31mValueError\u001B[0m: operands could not be broadcast together with shapes (322,) (319,) "
     ]
    }
   ],
   "source": [
    "# Define the weights\n",
    "wts = 100 * forecasts\n",
    "fund_returns = wts * SPY.values\n",
    "fund_returns.insert(0, \"Passive\", SPY)\n",
    "\n",
    "# Assess the Active Performance\n",
    "print('Correlation of funds performances:')\n",
    "fund_returns.corr().style.format(\"{:.2f}\")\n"
   ],
   "metadata": {
    "collapsed": false,
    "ExecuteTime": {
     "end_time": "2023-07-06T23:26:28.943351Z",
     "start_time": "2023-07-06T23:26:28.453094Z"
    }
   }
  },
  {
   "cell_type": "code",
   "execution_count": null,
   "outputs": [],
   "source": [
    "\n",
    "def get_ols_metrics(regressors, targets, annualization=1, ignorenan=True):\n",
    "    # ensure regressors and targets are pandas dataframes, as expected\n",
    "    if not isinstance(regressors, pd.DataFrame):\n",
    "        regressors = regressors.to_frame()\n",
    "    if not isinstance(targets, pd.DataFrame):\n",
    "        targets = targets.to_frame()\n",
    "\n",
    "    # align the targets and regressors on the same dates\n",
    "    df_aligned = targets.join(regressors, how='inner', lsuffix='y ')\n",
    "    Y = df_aligned[targets.columns]\n",
    "    Xset = df_aligned[regressors.columns]\n",
    "\n",
    "    reg = pd.DataFrame(index=targets.columns)\n",
    "    for col in Y.columns:\n",
    "        y = Y[col]\n",
    "\n",
    "        if ignorenan:\n",
    "            # ensure we use only non-NaN dates\n",
    "            alldata = Xset.join(y, lsuffix='X')\n",
    "            mask = alldata.notnull().all(axis=1)\n",
    "            y = y[mask]\n",
    "            X = Xset[mask]\n",
    "        else:\n",
    "            X = Xset\n",
    "\n",
    "        model = LinearRegression().fit(X, y)\n",
    "        reg.loc[col, 'alpha'] = model.intercept_ * annualization\n",
    "        reg.loc[col, regressors.columns] = model.coef_\n",
    "        reg.loc[col, 'r-squared'] = model.score(X, y)\n",
    "\n",
    "        # sklearn does not return the residuals, so we need to build them\n",
    "        yfit = model.predict(X)\n",
    "        residuals = y - yfit\n",
    "\n",
    "        # Treynor Ratio is only defined for univariate regression\n",
    "        if Xset.shape[1] == 1:\n",
    "            reg.loc[col, 'Treynor Ratio'] = (y.mean() / model.coef_) * annualization\n",
    "\n",
    "        # if intercept =0, numerical roundoff will nonetheless show nonzero Info Ratio\n",
    "        num_roundoff = 1e-12\n",
    "        if np.abs(model.intercept_) < num_roundoff:\n",
    "            reg.loc[col, 'Info Ratio'] = None\n",
    "        else:\n",
    "            reg.loc[col, 'Info Ratio'] = (model.intercept_ / residuals.std()) * np.sqrt(annualization)\n",
    "\n",
    "    return reg"
   ],
   "metadata": {
    "collapsed": false
   }
  },
  {
   "cell_type": "code",
   "execution_count": null,
   "outputs": [],
   "source": [
    "(fund_returns + 1).cumprod().plot(figsize=(10,5), title='Cumulative Returns of Strategies')\n",
    "\n",
    "corr_rolling = fund_returns.rolling(50).corr()\n",
    "dynamic_corrs = corr_rolling['Passive'].unstack(1)\n",
    "dynamic_corrs = dynamic_corrs.reindex(columns=fund_returns.columns).drop('Passive')\n",
    "dynamic_corrs.plot(figsize=(10,5), title='Correlation to SPY')\n",
    "performanceMetrics(fund_returns, annualization=12).style.format(\"{:.2f}\")\n",
    "\n",
    "tailMetrics(fund_returns).style.format({\n",
    "    'Skewness':'{:.2f}',\n",
    "    'Kurtosis':'{:.2f}',\n",
    "    'VaR (0.05)':'{:.2f}',\n",
    "    'CVaR (0.05)':'{:.2f}',\n",
    "    'Max Drawdown':'{:.2f}',\n",
    "    'Peak':'{%Y-%m}',\n",
    "    'Bottom':'{%Y-%m}',\n",
    "    'Recovery':'{%Y-%m}'\n",
    "})\n",
    "\n",
    "get_ols_metrics(SPY, fund_returns, annualization=12).style.format({\n",
    "    'alpha': '{:.2f}',\n",
    "    'SPY':'{:.2f}',\n",
    "    'r-squared': '{:.2%}',\n",
    "    'Treynor Ratio': '{:.2f}',\n",
    "    'Info Ratio': '{:.2f}',\n",
    "})\n",
    "\n",
    "tab2000 = (fund_returns['2000':'2011']+1).cumprod()\n",
    "tab2000['RF'] = (rf['2000':'2011']+1).cumprod()\n",
    "tab2000.plot(figsize=(10,5), title=\"Stock Underperformance?\")\n"
   ],
   "metadata": {
    "collapsed": false
   }
  },
  {
   "cell_type": "code",
   "execution_count": null,
   "outputs": [],
   "source": [],
   "metadata": {
    "collapsed": false
   }
  }
 ],
 "metadata": {
  "kernelspec": {
   "display_name": "Python 3",
   "language": "python",
   "name": "python3"
  },
  "language_info": {
   "codemirror_mode": {
    "name": "ipython",
    "version": 2
   },
   "file_extension": ".py",
   "mimetype": "text/x-python",
   "name": "python",
   "nbconvert_exporter": "python",
   "pygments_lexer": "ipython2",
   "version": "2.7.6"
  }
 },
 "nbformat": 4,
 "nbformat_minor": 0
}
