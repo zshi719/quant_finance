{
 "cells": [
  {
   "cell_type": "markdown",
   "metadata": {},
   "source": [
    "# FINM 250 Homework 4\n",
    "### TA Solutions\n",
    "\n",
    "## Part 3\n",
    "\n",
    "### 1"
   ]
  },
  {
   "cell_type": "code",
   "execution_count": 9,
   "metadata": {
    "ExecuteTime": {
     "end_time": "2023-07-11T14:55:26.895552Z",
     "start_time": "2023-07-11T14:55:26.846543Z"
    }
   },
   "outputs": [],
   "source": [
    "import pandas as pd\n",
    "import numpy as np\n",
    "import statsmodels.api as sm\n",
    "import seaborn as sns\n",
    "import matplotlib.pyplot as plt\n",
    "import sys\n",
    "\n",
    "sys.path.append(\"../cmds\")\n",
    "from utils import (\n",
    "    calc_univariate_regression,\n",
    "    calc_iterative_regression,\n",
    "    calc_performance_metrics\n",
    ")\n",
    "\n",
    "\n",
    "# Plotting settings.\n",
    "plt.rcParams[\"axes.grid\"] = True\n",
    "plt.rcParams[\"axes.spines.right\"] = False\n",
    "plt.rcParams[\"axes.spines.top\"] = False\n",
    "plt.rcParams[\"font.family\"] = \"serif\"\n",
    "plt.style.use(\"ggplot\")\n",
    "\n",
    "# Pandas settings.\n",
    "pd.set_option(\"display.float_format\", lambda x: \"{:.4f}\".format(x))\n",
    "\n",
    "ADJ = 12\n",
    "\n",
    "from functools import partial\n",
    "\n",
    "get_data = partial(\n",
    "    pd.read_excel, \"../data/gmo_analysis_data.xlsx\", index_col=0, parse_dates=[0]\n",
    ")\n",
    "\n",
    "signals = get_data(sheet_name=\"signals\")\n",
    "returns = get_data(sheet_name=\"returns (total)\")\n",
    "spy = returns[['SPY']]\n",
    "risk_free = get_data(sheet_name=\"risk-free rate\")"
   ]
  },
  {
   "cell_type": "code",
   "execution_count": 4,
   "metadata": {
    "ExecuteTime": {
     "end_time": "2023-07-11T08:22:12.595611Z",
     "start_time": "2023-07-11T08:22:12.584406Z"
    }
   },
   "outputs": [
    {
     "data": {
      "text/plain": "              Mean\nDate              \n1997-01-31 -0.0238\n1997-02-28  0.0190\n1997-03-31  0.0159\n1997-04-30  0.0009\n1997-05-31  0.0132",
      "text/html": "<div>\n<style scoped>\n    .dataframe tbody tr th:only-of-type {\n        vertical-align: middle;\n    }\n\n    .dataframe tbody tr th {\n        vertical-align: top;\n    }\n\n    .dataframe thead th {\n        text-align: right;\n    }\n</style>\n<table border=\"1\" class=\"dataframe\">\n  <thead>\n    <tr style=\"text-align: right;\">\n      <th></th>\n      <th>Mean</th>\n    </tr>\n    <tr>\n      <th>Date</th>\n      <th></th>\n    </tr>\n  </thead>\n  <tbody>\n    <tr>\n      <th>1997-01-31</th>\n      <td>-0.0238</td>\n    </tr>\n    <tr>\n      <th>1997-02-28</th>\n      <td>0.0190</td>\n    </tr>\n    <tr>\n      <th>1997-03-31</th>\n      <td>0.0159</td>\n    </tr>\n    <tr>\n      <th>1997-04-30</th>\n      <td>0.0009</td>\n    </tr>\n    <tr>\n      <th>1997-05-31</th>\n      <td>0.0132</td>\n    </tr>\n  </tbody>\n</table>\n</div>"
     },
     "metadata": {},
     "output_type": "display_data"
    }
   ],
   "source": [
    "signals_lag = signals.shift(1).dropna()\n",
    "spy = spy.loc[signals_lag.index]\n",
    "\n",
    "# Expanding.\n",
    "forecast_df = spy.expanding().mean().shift(1).dropna()\n",
    "forecast_df.columns = ['Mean']\n",
    "\n",
    "display(forecast_df.head())"
   ]
  },
  {
   "cell_type": "code",
   "execution_count": null,
   "outputs": [],
   "source": [],
   "metadata": {
    "collapsed": false
   }
  },
  {
   "cell_type": "code",
   "execution_count": 6,
   "outputs": [
    {
     "name": "stdout",
     "output_type": "stream",
     "text": [
      "                            OLS Regression Results                            \n",
      "==============================================================================\n",
      "Dep. Variable:                    SPY   R-squared:                       0.014\n",
      "Model:                            OLS   Adj. R-squared:                  0.005\n",
      "Method:                 Least Squares   F-statistic:                     1.502\n",
      "Date:                Tue, 11 Jul 2023   Prob (F-statistic):              0.214\n",
      "Time:                        04:23:01   Log-Likelihood:                 539.75\n",
      "No. Observations:                 319   AIC:                            -1071.\n",
      "Df Residuals:                     315   BIC:                            -1056.\n",
      "Df Model:                           3                                         \n",
      "Covariance Type:            nonrobust                                         \n",
      "==============================================================================\n",
      "                 coef    std err          t      P>|t|      [0.025      0.975]\n",
      "------------------------------------------------------------------------------\n",
      "const         -0.0145      0.020     -0.719      0.473      -0.054       0.025\n",
      "DP             0.0092      0.008      1.216      0.225      -0.006       0.024\n",
      "EP             0.0021      0.002      1.043      0.298      -0.002       0.006\n",
      "US10Y         -0.0010      0.002     -0.536      0.593      -0.005       0.003\n",
      "==============================================================================\n",
      "Omnibus:                       20.118   Durbin-Watson:                   1.999\n",
      "Prob(Omnibus):                  0.000   Jarque-Bera (JB):               23.933\n",
      "Skew:                          -0.538   Prob(JB):                     6.36e-06\n",
      "Kurtosis:                       3.802   Cond. No.                         51.5\n",
      "==============================================================================\n",
      "\n",
      "Notes:\n",
      "[1] Standard Errors assume that the covariance matrix of the errors is correctly specified.\n"
     ]
    }
   ],
   "source": [
    "\n",
    "# Multi-variate regression.\n",
    "multi_regr = sm.OLS(spy, sm.add_constant(signals_lag)).fit()\n",
    "print(multi_regr.summary())\n"
   ],
   "metadata": {
    "collapsed": false,
    "ExecuteTime": {
     "end_time": "2023-07-11T08:23:01.264562Z",
     "start_time": "2023-07-11T08:23:01.254224Z"
    }
   }
  },
  {
   "cell_type": "code",
   "execution_count": 8,
   "outputs": [
    {
     "name": "stdout",
     "output_type": "stream",
     "text": [
      "--------------------------------------------------\n",
      "Multivariate Regression Summary\n"
     ]
    },
    {
     "data": {
      "text/plain": "const   -0.0145\nDP       0.0092\nEP       0.0021\nUS10Y   -0.0010\ndtype: float64"
     },
     "metadata": {},
     "output_type": "display_data"
    },
    {
     "name": "stdout",
     "output_type": "stream",
     "text": [
      "--------------------------------------------------\n",
      "R^2: 0.0141\n"
     ]
    }
   ],
   "source": [
    "\n",
    "\n",
    "forecast_df['Multi'] = multi_regr.params[0] + multi_regr.params[1] * signals['DP'] + multi_regr.params[2] * signals['EP']\n",
    "\n",
    "print('-'*50)\n",
    "print('Multivariate Regression Summary')\n",
    "display(multi_regr.params)\n",
    "\n",
    "print('-'*50)\n",
    "print(f'R^2: {multi_regr.rsquared:.4f}')\n",
    "\n",
    "forecast_df.dropna(inplace=True)\n",
    "forecast_df['Actuals'] = spy['SPY']\n",
    "forecast_df['Risk-Free'] = risk_free['US3M']\n"
   ],
   "metadata": {
    "collapsed": false,
    "ExecuteTime": {
     "end_time": "2023-07-11T08:34:01.761851Z",
     "start_time": "2023-07-11T08:34:01.757543Z"
    }
   }
  },
  {
   "cell_type": "markdown",
   "metadata": {},
   "source": [
    "### 2"
   ]
  },
  {
   "cell_type": "code",
   "execution_count": null,
   "metadata": {},
   "outputs": [],
   "source": [
    "forecast_wt = forecast_df * 100\n",
    "forecast_model = forecast_wt[['DP', 'EP', 'Multi']]\n",
    "forecast_model = forecast_model.multiply(forecast_df['Actuals'], axis=0)\n",
    "forecast_model['Actuals'] = forecast_df['Actuals']\n",
    "\n",
    "display(calc_performance_metrics(forecast_model).T)\n",
    "\n",
    "# Calculate market stats.\n",
    "calc_iterative_regression(forecast_model, forecast_model[['Actuals']], one_to_many=True).iloc[:-1, :]"
   ]
  },
  {
   "cell_type": "markdown",
   "metadata": {},
   "source": [
    "### 3"
   ]
  },
  {
   "cell_type": "code",
   "execution_count": null,
   "metadata": {},
   "outputs": [],
   "source": [
    "forecast_model['Risk-Free'] = forecast_df['Risk-Free']\n",
    "\n",
    "forecast_subsample = forecast_model.loc['2000':'2011']\n",
    "display(calc_performance_metrics(forecast_subsample).T)\n",
    "\n",
    "fig, ax = plt.subplots(figsize=(8, 5))\n",
    "forecast_subsample_cum = (forecast_subsample + 1).cumprod() - 1\n",
    "forecast_subsample_cum.plot(ax=ax)\n",
    "\n",
    "ax.set_title('Cumulative Returns')\n",
    "ax.set_ylabel('Cumulative Return')\n",
    "ax.set_xlabel('Date')\n",
    "fig.tight_layout()"
   ]
  },
  {
   "cell_type": "markdown",
   "metadata": {},
   "source": [
    "Short term bonds outperform all by the earnings-to-price ratio. However, the comparison is also a little unfair given that we are including the 2008 financial crisis, prior to 2008, all strategies except for SPY either outperform or are on par/slightly below the cumulative return of 3-month T-bills.\n",
    "\n",
    "### 4"
   ]
  },
  {
   "cell_type": "code",
   "execution_count": null,
   "metadata": {},
   "outputs": [],
   "source": [
    "# Count negative forecasted returns.\n",
    "neg_count = (forecast_df < 0).sum().to_frame('Count')\n",
    "neg_count['Percentage'] = neg_count / len(forecast_df)\n",
    "neg_count"
   ]
  },
  {
   "cell_type": "markdown",
   "metadata": {},
   "source": [
    "### 5"
   ]
  },
  {
   "cell_type": "code",
   "execution_count": null,
   "metadata": {},
   "outputs": [],
   "source": [
    "# Check risk metrics for GMWAX. \n",
    "display(calc_performance_metrics(returns[['GMWAX']]).T)\n",
    "display(calc_univariate_regression(returns['GMWAX'], returns['SPY']))"
   ]
  },
  {
   "cell_type": "markdown",
   "metadata": {},
   "source": [
    "For $r^X$; yes. Given that for all of the models we tested, they have very high market betas. So they are just loading up on market risk (by construction), so they do have a worse Sharpe Ratio, higher kurtosis, and worse risk metrics overall. I would say the EP performs the best out of all of them. \n",
    "\n",
    "Looking at GMWAX, I don't think it is necessarily risk that makes it worse, but rather it is just worse than SPY across the board, though it has a better max drawdown. Finally, it has a somewhat high market beta, at 0.55."
   ]
  }
 ],
 "metadata": {
  "kernelspec": {
   "display_name": "Python 3 (ipykernel)",
   "language": "python",
   "name": "python3"
  },
  "language_info": {
   "codemirror_mode": {
    "name": "ipython",
    "version": 3
   },
   "file_extension": ".py",
   "mimetype": "text/x-python",
   "name": "python",
   "nbconvert_exporter": "python",
   "pygments_lexer": "ipython3",
   "version": "3.11.4"
  }
 },
 "nbformat": 4,
 "nbformat_minor": 2
}
